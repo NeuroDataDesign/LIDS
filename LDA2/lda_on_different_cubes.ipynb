{
 "cells": [
  {
   "cell_type": "markdown",
   "metadata": {},
   "source": [
    "## LDA performance on mean-intensity values of cubes of varying sizes around centroids\n",
    "\n",
    "Mean intensity of synaptic and non-synaptic centroids were used to classify the data. Cubes of different sizes were generated to find the mean intensity of a region around the centroids. Size of a synapse is around 1 ${\\mu}m^3$; we chose cubes ranging from 1 ${\\mu}m^3$ to to approximately 5 ${\\mu}m^3$\n",
    "\n"
   ]
  },
  {
   "cell_type": "code",
   "execution_count": 21,
   "metadata": {
    "collapsed": true
   },
   "outputs": [],
   "source": [
    "%matplotlib inline\n",
    "import itertools\n",
    "\n",
    "import numpy as np\n",
    "import pandas as pd\n",
    "from sklearn.discriminant_analysis import LinearDiscriminantAnalysis\n",
    "\n",
    "from skimage.filters import threshold_otsu\n",
    "from matplotlib import pyplot as plt\n"
   ]
  },
  {
   "cell_type": "code",
   "execution_count": 22,
   "metadata": {
    "collapsed": true
   },
   "outputs": [],
   "source": [
    "## generating the correct matrices for LDA:\n",
    "\n",
    "def matrix_generation(master_data):\n",
    "    \n",
    "    ##training set, need the 1st 120 rows and 3rd and 7th column from feature csv file\n",
    "    #for mean intensity value of synapses and non-synapses\n",
    "    ## choosing 35% of the data to be training set\n",
    "    training_synapses = master_data[:120, 3]\n",
    "    training_non_synapses = master_data[:120, 7]\n",
    "    train_syn = training_synapses[:, np.newaxis]\n",
    "    train_non_syn = training_non_synapses[:, np.newaxis]\n",
    "\n",
    "    \n",
    "    ##Testing set, take next 220 rows and correct columns for synapses and non-synapses\n",
    "    testing_synapses= master_data[120:340,3]\n",
    "    testing_non_synapses = master_data[120:340,7]\n",
    "    test_syn = testing_synapses[:, np.newaxis]\n",
    "    test_non_syn = testing_non_synapses[:, np.newaxis]\n",
    "    \n",
    "    \n",
    "    ### The final training set:\n",
    "    train_data = np.vstack((train_syn, train_non_syn))\n",
    "    \n",
    "    ### The final label generation, synapses belong to class 1, non-synpases belong to class 0:\n",
    "    train_labels = np.append(np.ones((len(train_syn))), np.zeros(len(train_non_syn)))\n",
    "    \n",
    "    return (train_data, train_labels, test_syn, test_non_syn)\n",
    " \n",
    "\n",
    "\n"
   ]
  },
  {
   "cell_type": "code",
   "execution_count": 23,
   "metadata": {
    "collapsed": true
   },
   "outputs": [],
   "source": [
    "def lda_performance(master_data):\n",
    "    train_data, train_labels, test_syn, test_non_syn  = matrix_generation(master_data)\n",
    "    from sklearn.discriminant_analysis import LinearDiscriminantAnalysis\n",
    "    clf = LinearDiscriminantAnalysis()\n",
    "    clf.fit(train_data, train_labels)\n",
    "\n",
    "    pred_syn = clf.predict(test_syn)\n",
    "    pred_non_syn = clf.predict(test_non_syn)\n",
    "\n",
    "    ##counting the number of wrong predictions for non_syn class:\n",
    "    wrong_non_syn = pred_non_syn.sum() ##can do this because non-syn class has a label of 0\n",
    "\n",
    "    ##counting the number of wrong predictions for syn class:\n",
    "\n",
    "    wrong_syn = 0\n",
    "    for elem in pred_syn:\n",
    "        if elem ==0:\n",
    "            wrong_syn +=1\n",
    "    total_err_freq=(wrong_syn+wrong_non_syn)/440 ##440 testing points used\n",
    "\n",
    "    return wrong_syn, wrong_non_syn, total_err_freq "
   ]
  },
  {
   "cell_type": "code",
   "execution_count": 24,
   "metadata": {},
   "outputs": [
    {
     "name": "stdout",
     "output_type": "stream",
     "text": [
      "Filename: round1_size10.csv (0, 56.0, 0.12727272727272726)\n",
      "Filename: round1_size14.csv (0, 57.0, 0.12954545454545455)\n",
      "Filename: round1_size18.csv (0, 52.0, 0.11818181818181818)\n",
      "Filename: round1_size20.csv (0, 59.0, 0.13409090909090909)\n",
      "Filename: round1_size22.csv (0, 45.0, 0.10227272727272728)\n",
      "[0.12727272727272726, 0.12954545454545455, 0.11818181818181818, 0.13409090909090909, 0.10227272727272728]\n"
     ]
    }
   ],
   "source": [
    "file_name = ['round1_size10.csv', 'round1_size14.csv', 'round1_size18.csv', 'round1_size20.csv', 'round1_size22.csv']\n",
    "\n",
    "errors_list = []\n",
    "for i in file_name:\n",
    "    df = pd.read_csv(i)\n",
    "    master_data = df.as_matrix()\n",
    "    _, _, err = lda_performance(master_data)\n",
    "    errors_list.append(err)\n",
    "    print('Filename:', i, lda_performance(master_data))\n",
    "print(errors_list)\n"
   ]
  },
  {
   "cell_type": "code",
   "execution_count": 25,
   "metadata": {},
   "outputs": [
    {
     "name": "stdout",
     "output_type": "stream",
     "text": [
      "[0.12727272727272726, 0.12954545454545455, 0.11818181818181818, 0.13409090909090909, 0.10227272727272728]\n"
     ]
    },
    {
     "data": {
      "image/png": "[encoded data removed]",
      "text/plain": [
       "<matplotlib.figure.Figure at 0x1181b0978>"
      ]
     },
     "metadata": {},
     "output_type": "display_data"
    }
   ],
   "source": [
    "##Plotting the errors and the cube sizes to check their relative performance\n",
    "\n",
    "print(errors_list)\n",
    "size = [1, 1.96, 3.24, 4, 4.84] ## these are the actual sizes of the cubes, in microns cubed\n",
    "plt.scatter(size, errors_list, alpha=0.5)\n",
    "plt.ylabel('Total Error (frequency)')\n",
    "plt.ylim([0,1])\n",
    "plt.xlabel('Size of cube around centroid (cubic microns)')\n",
    "plt.title('LDA performance as measure of total prediction error')\n",
    "plt.autoscale(enable = False, axis='both', tight=None)\n",
    "plt.show()"
   ]
  },
  {
   "cell_type": "markdown",
   "metadata": {},
   "source": [
    "We know that 4.84 ${\\mu}m^3$ cubes give lowest errors of the cubes computed, and non-synapses are misclassified. We use this knowledge to re-run LDA and use the misclassified centroids to generate overlay plots. "
   ]
  },
  {
   "cell_type": "code",
   "execution_count": 19,
   "metadata": {
    "collapsed": true
   },
   "outputs": [],
   "source": [
    "\n",
    "def lda_performance2():\n",
    "    train_data, train_labels, test_syn, test_non_syn  = matrix_generation(master_data)\n",
    "    from sklearn.discriminant_analysis import LinearDiscriminantAnalysis\n",
    "    clf = LinearDiscriminantAnalysis()\n",
    "    clf.fit(train_data, train_labels)\n",
    "\n",
    "    pred_syn = clf.predict(test_syn)\n",
    "    pred_non_syn = clf.predict(test_non_syn)\n",
    "    \n",
    "    return(pred_non_syn)"
   ]
  },
  {
   "cell_type": "code",
   "execution_count": 20,
   "metadata": {},
   "outputs": [
    {
     "name": "stdout",
     "output_type": "stream",
     "text": [
      "master_data shape: (345, 8)\n"
     ]
    }
   ],
   "source": [
    "### Data file for 4.84 micron^3 cube \n",
    "## interested in generating this for overlays:\n",
    "df = pd.read_csv('round1_size22.csv')\n",
    "master_data = df.as_matrix()\n",
    "print('master_data shape:', master_data.shape)\n",
    "\n",
    "\n",
    "pred_non_syn=lda_performance2()\n",
    "\n",
    "non_syn_locations = master_data[120:340,4:7]\n",
    "\n",
    "type(non_syn_locations[0])\n",
    "z_array=[]\n",
    "y_array=[]\n",
    "x_array=[]\n",
    "for thing in range (len(pred_non_syn)):\n",
    "    if pred_non_syn[thing]==1:\n",
    "        z_array.append(non_syn_locations[thing][0])\n",
    "        y_array.append(non_syn_locations[thing][1])\n",
    "        x_array.append(non_syn_locations[thing][2])\n",
    "data={'Z':z_array,'Y':y_array,'X':x_array}\n",
    "void=pd.DataFrame(data,columns=['Z','Y','X'])\n",
    "void.to_csv('non_syn_errors.csv')\n"
   ]
  },
  {
   "cell_type": "code",
   "execution_count": null,
   "metadata": {
    "collapsed": true
   },
   "outputs": [],
   "source": []
  }
 ],
 "metadata": {
  "kernelspec": {
   "display_name": "Python 3",
   "language": "python",
   "name": "python3"
  },
  "language_info": {
   "codemirror_mode": {
    "name": "ipython",
    "version": 3
   },
   "file_extension": ".py",
   "mimetype": "text/x-python",
   "name": "python",
   "nbconvert_exporter": "python",
   "pygments_lexer": "ipython3",
   "version": "3.5.4"
  }
 },
 "nbformat": 4,
 "nbformat_minor": 2
}
