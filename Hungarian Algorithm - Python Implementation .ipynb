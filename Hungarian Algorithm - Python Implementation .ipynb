{
 "cells": [
  {
   "cell_type": "markdown",
   "metadata": {},
   "source": [
    "## The Hungarian Algorithm \n",
    "\n",
    "The Hungarian algorithm is a method used solve the linear sum assignment problem by minimizing a cost matrix of size n x n. This jupyter notebook will attempt to document the implementation of the Hungarian algorithm as it pertains to matching, or registering, 3D points from one matrix to 3D points in another matrix with the hopes of eventually applying the algorithm to real data sets in order to register individual synapses within in image across time. "
   ]
  },
  {
   "cell_type": "code",
   "execution_count": 56,
   "metadata": {},
   "outputs": [
    {
     "data": {
      "text/html": [
       "<script>requirejs.config({paths: { 'plotly': ['https://cdn.plot.ly/plotly-latest.min']},});if(!window.Plotly) {{require(['plotly'],function(plotly) {window.Plotly=plotly;});}}</script>"
      ],
      "text/vnd.plotly.v1+html": [
       "<script>requirejs.config({paths: { 'plotly': ['https://cdn.plot.ly/plotly-latest.min']},});if(!window.Plotly) {{require(['plotly'],function(plotly) {window.Plotly=plotly;});}}</script>"
      ]
     },
     "metadata": {},
     "output_type": "display_data"
    }
   ],
   "source": [
    "import numpy as np\n",
    "from plotly.offline import download_plotlyjs, init_notebook_mode, plot, iplot\n",
    "import plotly.plotly as py\n",
    "import plotly.graph_objs as go\n",
    "from plotly import tools\n",
    "from scipy.spatial.distance import cdist\n",
    "from scipy.optimize import linear_sum_assignment\n",
    "init_notebook_mode(connected = True)"
   ]
  },
  {
   "cell_type": "markdown",
   "metadata": {},
   "source": [
    "## Hungarian Algorithm Implementation "
   ]
  },
  {
   "cell_type": "code",
   "execution_count": 127,
   "metadata": {
    "collapsed": true
   },
   "outputs": [],
   "source": [
    "E = np.array([[1, 3, 1], [2, 5, 3], [2, 0, 1]])"
   ]
  },
  {
   "cell_type": "code",
   "execution_count": 128,
   "metadata": {},
   "outputs": [
    {
     "data": {
      "text/plain": [
       "array([[1, 3, 1],\n",
       "       [2, 5, 3],\n",
       "       [2, 0, 1]])"
      ]
     },
     "execution_count": 128,
     "metadata": {},
     "output_type": "execute_result"
    }
   ],
   "source": [
    "E"
   ]
  },
  {
   "cell_type": "code",
   "execution_count": 129,
   "metadata": {},
   "outputs": [],
   "source": [
    "F = np.array([[2, 0, 1], [2, 5, 3], [1, 3, 1]])"
   ]
  },
  {
   "cell_type": "code",
   "execution_count": 130,
   "metadata": {},
   "outputs": [
    {
     "name": "stdout",
     "output_type": "stream",
     "text": [
      "[[2 0 1]\n",
      " [2 5 3]\n",
      " [1 3 1]]\n"
     ]
    }
   ],
   "source": [
    "print(F)"
   ]
  },
  {
   "cell_type": "code",
   "execution_count": 131,
   "metadata": {},
   "outputs": [],
   "source": [
    "cost = cdist(E, F)"
   ]
  },
  {
   "cell_type": "code",
   "execution_count": 132,
   "metadata": {},
   "outputs": [
    {
     "name": "stdout",
     "output_type": "stream",
     "text": [
      "[[ 3.16227766  3.          0.        ]\n",
      " [ 5.38516481  0.          3.        ]\n",
      " [ 0.          5.38516481  3.16227766]]\n"
     ]
    }
   ],
   "source": [
    "print(cost)"
   ]
  },
  {
   "cell_type": "code",
   "execution_count": 133,
   "metadata": {
    "collapsed": true
   },
   "outputs": [],
   "source": [
    "row_ind, col_ind = linear_sum_assignment(cost)"
   ]
  },
  {
   "cell_type": "code",
   "execution_count": 134,
   "metadata": {},
   "outputs": [
    {
     "data": {
      "text/plain": [
       "(array([0, 1, 2]), array([2, 1, 0]))"
      ]
     },
     "execution_count": 134,
     "metadata": {},
     "output_type": "execute_result"
    }
   ],
   "source": [
    "row_ind, col_ind"
   ]
  },
  {
   "cell_type": "code",
   "execution_count": 135,
   "metadata": {},
   "outputs": [
    {
     "data": {
      "text/plain": [
       "array([ 0.,  0.,  0.])"
      ]
     },
     "execution_count": 135,
     "metadata": {},
     "output_type": "execute_result"
    }
   ],
   "source": [
    "cost[row_ind, col_ind]"
   ]
  },
  {
   "cell_type": "code",
   "execution_count": 141,
   "metadata": {},
   "outputs": [],
   "source": [
    "new_F = np.array([[1, 3, 1], [2, 5, 3], [1, 3, 1]])"
   ]
  },
  {
   "cell_type": "code",
   "execution_count": 142,
   "metadata": {},
   "outputs": [
    {
     "data": {
      "application/vnd.plotly.v1+json": {
       "data": [
        {
         "mode": "markers",
         "name": "Point Set E",
         "type": "scatter3d",
         "x": [
          1,
          2,
          2
         ],
         "y": [
          3,
          5,
          0
         ],
         "z": [
          1,
          3,
          1
         ]
        },
        {
         "mode": "markers",
         "name": "Point Set F",
         "type": "scatter3d",
         "x": [
          2,
          2,
          1
         ],
         "y": [
          0,
          5,
          3
         ],
         "z": [
          1,
          3,
          1
         ]
        }
       ],
       "layout": {
        "title": "Point Set C vs. Point Set F"
       }
      },
      "text/html": [
       "<div id=\"03e219ef-9596-4daf-91b4-cfa26ed5c2ee\" style=\"height: 525px; width: 100%;\" class=\"plotly-graph-div\"></div><script type=\"text/javascript\">require([\"plotly\"], function(Plotly) { window.PLOTLYENV=window.PLOTLYENV || {};window.PLOTLYENV.BASE_URL=\"https://plot.ly\";Plotly.newPlot(\"03e219ef-9596-4daf-91b4-cfa26ed5c2ee\", [{\"type\": \"scatter3d\", \"x\": [1, 2, 2], \"y\": [3, 5, 0], \"z\": [1, 3, 1], \"mode\": \"markers\", \"name\": \"Point Set E\"}, {\"type\": \"scatter3d\", \"x\": [2, 2, 1], \"y\": [0, 5, 3], \"z\": [1, 3, 1], \"mode\": \"markers\", \"name\": \"Point Set F\"}], {\"title\": \"Point Set C vs. Point Set F\"}, {\"showLink\": true, \"linkText\": \"Export to plot.ly\"})});</script>"
      ],
      "text/vnd.plotly.v1+html": [
       "<div id=\"03e219ef-9596-4daf-91b4-cfa26ed5c2ee\" style=\"height: 525px; width: 100%;\" class=\"plotly-graph-div\"></div><script type=\"text/javascript\">require([\"plotly\"], function(Plotly) { window.PLOTLYENV=window.PLOTLYENV || {};window.PLOTLYENV.BASE_URL=\"https://plot.ly\";Plotly.newPlot(\"03e219ef-9596-4daf-91b4-cfa26ed5c2ee\", [{\"type\": \"scatter3d\", \"x\": [1, 2, 2], \"y\": [3, 5, 0], \"z\": [1, 3, 1], \"mode\": \"markers\", \"name\": \"Point Set E\"}, {\"type\": \"scatter3d\", \"x\": [2, 2, 1], \"y\": [0, 5, 3], \"z\": [1, 3, 1], \"mode\": \"markers\", \"name\": \"Point Set F\"}], {\"title\": \"Point Set C vs. Point Set F\"}, {\"showLink\": true, \"linkText\": \"Export to plot.ly\"})});</script>"
      ]
     },
     "metadata": {},
     "output_type": "display_data"
    }
   ],
   "source": [
    "trace_1 = go.Scatter3d(\n",
    "    x = E[:, 0],\n",
    "    y = E[:, 1],\n",
    "    z = E[:, 2],\n",
    "    mode = 'markers', \n",
    "    name = 'Point Set E'\n",
    ")\n",
    "\n",
    "trace_2 = go.Scatter3d(\n",
    "    x = F[:, 0],\n",
    "    y = F[:, 1],\n",
    "    z = F[:, 2],\n",
    "    mode = 'markers', \n",
    "    name = 'Point Set F'\n",
    ")\n",
    "\n",
    "data = go.Data([trace_1, trace_2])\n",
    "layout = go.Layout(\n",
    "    title = 'Point Set C vs. Point Set F')\n",
    "\n",
    "figure = go.Figure(data = data, layout = layout)\n",
    "iplot(figure)"
   ]
  },
  {
   "cell_type": "code",
   "execution_count": 179,
   "metadata": {},
   "outputs": [
    {
     "data": {
      "application/vnd.plotly.v1+json": {
       "data": [
        {
         "mode": "markers",
         "name": "Point Set E",
         "type": "scatter3d",
         "x": [
          1,
          2,
          2
         ],
         "y": [
          3,
          5,
          0
         ],
         "z": [
          1,
          3,
          1
         ]
        },
        {
         "mode": "markers",
         "name": "Point Set New_F",
         "type": "scatter3d",
         "x": [
          1,
          2,
          1
         ],
         "y": [
          3,
          5,
          3
         ],
         "z": [
          1,
          3,
          1
         ]
        }
       ],
       "layout": {
        "title": "Point Set E vs. Point Set New_F"
       }
      },
      "text/html": [
       "<div id=\"000ecce9-761c-4b97-a87c-9d5813cd08f5\" style=\"height: 525px; width: 100%;\" class=\"plotly-graph-div\"></div><script type=\"text/javascript\">require([\"plotly\"], function(Plotly) { window.PLOTLYENV=window.PLOTLYENV || {};window.PLOTLYENV.BASE_URL=\"https://plot.ly\";Plotly.newPlot(\"000ecce9-761c-4b97-a87c-9d5813cd08f5\", [{\"type\": \"scatter3d\", \"x\": [1, 2, 2], \"y\": [3, 5, 0], \"z\": [1, 3, 1], \"mode\": \"markers\", \"name\": \"Point Set E\"}, {\"type\": \"scatter3d\", \"x\": [1, 2, 1], \"y\": [3, 5, 3], \"z\": [1, 3, 1], \"mode\": \"markers\", \"name\": \"Point Set New_F\"}], {\"title\": \"Point Set E vs. Point Set New_F\"}, {\"showLink\": true, \"linkText\": \"Export to plot.ly\"})});</script>"
      ],
      "text/vnd.plotly.v1+html": [
       "<div id=\"000ecce9-761c-4b97-a87c-9d5813cd08f5\" style=\"height: 525px; width: 100%;\" class=\"plotly-graph-div\"></div><script type=\"text/javascript\">require([\"plotly\"], function(Plotly) { window.PLOTLYENV=window.PLOTLYENV || {};window.PLOTLYENV.BASE_URL=\"https://plot.ly\";Plotly.newPlot(\"000ecce9-761c-4b97-a87c-9d5813cd08f5\", [{\"type\": \"scatter3d\", \"x\": [1, 2, 2], \"y\": [3, 5, 0], \"z\": [1, 3, 1], \"mode\": \"markers\", \"name\": \"Point Set E\"}, {\"type\": \"scatter3d\", \"x\": [1, 2, 1], \"y\": [3, 5, 3], \"z\": [1, 3, 1], \"mode\": \"markers\", \"name\": \"Point Set New_F\"}], {\"title\": \"Point Set E vs. Point Set New_F\"}, {\"showLink\": true, \"linkText\": \"Export to plot.ly\"})});</script>"
      ]
     },
     "metadata": {},
     "output_type": "display_data"
    }
   ],
   "source": [
    "trace_1 = go.Scatter3d(\n",
    "    x = E[:, 0],\n",
    "    y = E[:, 1],\n",
    "    z = E[:, 2],\n",
    "    mode = 'markers', \n",
    "    name = 'Point Set E'\n",
    ")\n",
    "\n",
    "trace_2 = go.Scatter3d(\n",
    "    x = new_F[:, 0],\n",
    "    y = new_F[:, 1],\n",
    "    z = new_F[:, 2],\n",
    "    mode = 'markers', \n",
    "    name = 'Point Set New_F'\n",
    ")\n",
    "\n",
    "data = go.Data([trace_1, trace_2])\n",
    "layout = go.Layout(\n",
    "    title = 'Point Set E vs. Point Set New_F')\n",
    "\n",
    "figure = go.Figure(data = data, layout = layout)\n",
    "iplot(figure)"
   ]
  },
  {
   "cell_type": "code",
   "execution_count": 144,
   "metadata": {
    "collapsed": true
   },
   "outputs": [],
   "source": [
    "A = np.array([[1, 3, 1], [2, 5, 3], [2, 0, 1]])"
   ]
  },
  {
   "cell_type": "code",
   "execution_count": 147,
   "metadata": {},
   "outputs": [
    {
     "name": "stdout",
     "output_type": "stream",
     "text": [
      "[[1 3 1]\n",
      " [2 5 3]\n",
      " [2 0 1]]\n"
     ]
    }
   ],
   "source": [
    "print(A)"
   ]
  },
  {
   "cell_type": "code",
   "execution_count": 145,
   "metadata": {
    "collapsed": true
   },
   "outputs": [],
   "source": [
    "B = np.array([[2, 0, 1], [2, 5, 2], [1, 3, 0]])"
   ]
  },
  {
   "cell_type": "code",
   "execution_count": 148,
   "metadata": {},
   "outputs": [
    {
     "name": "stdout",
     "output_type": "stream",
     "text": [
      "[[2 0 1]\n",
      " [2 5 2]\n",
      " [1 3 0]]\n"
     ]
    }
   ],
   "source": [
    "print(B)"
   ]
  },
  {
   "cell_type": "code",
   "execution_count": 146,
   "metadata": {
    "collapsed": true
   },
   "outputs": [],
   "source": [
    "cost = cdist(A, B)"
   ]
  },
  {
   "cell_type": "code",
   "execution_count": 149,
   "metadata": {},
   "outputs": [
    {
     "name": "stdout",
     "output_type": "stream",
     "text": [
      "[[ 3.16227766  2.44948974  1.        ]\n",
      " [ 5.38516481  1.          3.74165739]\n",
      " [ 0.          5.09901951  3.31662479]]\n"
     ]
    }
   ],
   "source": [
    "print(cost)"
   ]
  },
  {
   "cell_type": "code",
   "execution_count": 150,
   "metadata": {
    "collapsed": true
   },
   "outputs": [],
   "source": [
    "row_ind, col_ind = linear_sum_assignment(cost)"
   ]
  },
  {
   "cell_type": "code",
   "execution_count": 151,
   "metadata": {},
   "outputs": [
    {
     "data": {
      "text/plain": [
       "(array([0, 1, 2]), array([2, 1, 0]))"
      ]
     },
     "execution_count": 151,
     "metadata": {},
     "output_type": "execute_result"
    }
   ],
   "source": [
    "row_ind, col_ind"
   ]
  },
  {
   "cell_type": "code",
   "execution_count": 152,
   "metadata": {},
   "outputs": [
    {
     "data": {
      "text/plain": [
       "array([ 1.,  1.,  0.])"
      ]
     },
     "execution_count": 152,
     "metadata": {},
     "output_type": "execute_result"
    }
   ],
   "source": [
    "cost[row_ind, col_ind]"
   ]
  },
  {
   "cell_type": "code",
   "execution_count": 153,
   "metadata": {
    "collapsed": true
   },
   "outputs": [],
   "source": [
    "new_B = np.array([[1, 3, 0], [2, 5, 2], [2, 0, 1]])"
   ]
  },
  {
   "cell_type": "code",
   "execution_count": 154,
   "metadata": {},
   "outputs": [
    {
     "name": "stdout",
     "output_type": "stream",
     "text": [
      "[[1 3 0]\n",
      " [2 5 2]\n",
      " [2 0 1]]\n"
     ]
    }
   ],
   "source": [
    "print(new_B)"
   ]
  },
  {
   "cell_type": "code",
   "execution_count": 155,
   "metadata": {},
   "outputs": [
    {
     "data": {
      "application/vnd.plotly.v1+json": {
       "data": [
        {
         "mode": "markers",
         "name": "Point Set A",
         "type": "scatter3d",
         "x": [
          1,
          2,
          2
         ],
         "y": [
          3,
          5,
          0
         ],
         "z": [
          1,
          3,
          1
         ]
        },
        {
         "mode": "markers",
         "name": "Point Set B",
         "type": "scatter3d",
         "x": [
          2,
          2,
          1
         ],
         "y": [
          0,
          5,
          3
         ],
         "z": [
          1,
          2,
          0
         ]
        }
       ],
       "layout": {
        "title": "Point Set A vs. Point Set B"
       }
      },
      "text/html": [
       "<div id=\"b1bc42a1-7b66-4d88-b8bb-efdb41c884fb\" style=\"height: 525px; width: 100%;\" class=\"plotly-graph-div\"></div><script type=\"text/javascript\">require([\"plotly\"], function(Plotly) { window.PLOTLYENV=window.PLOTLYENV || {};window.PLOTLYENV.BASE_URL=\"https://plot.ly\";Plotly.newPlot(\"b1bc42a1-7b66-4d88-b8bb-efdb41c884fb\", [{\"type\": \"scatter3d\", \"x\": [1, 2, 2], \"y\": [3, 5, 0], \"z\": [1, 3, 1], \"mode\": \"markers\", \"name\": \"Point Set A\"}, {\"type\": \"scatter3d\", \"x\": [2, 2, 1], \"y\": [0, 5, 3], \"z\": [1, 2, 0], \"mode\": \"markers\", \"name\": \"Point Set B\"}], {\"title\": \"Point Set A vs. Point Set B\"}, {\"showLink\": true, \"linkText\": \"Export to plot.ly\"})});</script>"
      ],
      "text/vnd.plotly.v1+html": [
       "<div id=\"b1bc42a1-7b66-4d88-b8bb-efdb41c884fb\" style=\"height: 525px; width: 100%;\" class=\"plotly-graph-div\"></div><script type=\"text/javascript\">require([\"plotly\"], function(Plotly) { window.PLOTLYENV=window.PLOTLYENV || {};window.PLOTLYENV.BASE_URL=\"https://plot.ly\";Plotly.newPlot(\"b1bc42a1-7b66-4d88-b8bb-efdb41c884fb\", [{\"type\": \"scatter3d\", \"x\": [1, 2, 2], \"y\": [3, 5, 0], \"z\": [1, 3, 1], \"mode\": \"markers\", \"name\": \"Point Set A\"}, {\"type\": \"scatter3d\", \"x\": [2, 2, 1], \"y\": [0, 5, 3], \"z\": [1, 2, 0], \"mode\": \"markers\", \"name\": \"Point Set B\"}], {\"title\": \"Point Set A vs. Point Set B\"}, {\"showLink\": true, \"linkText\": \"Export to plot.ly\"})});</script>"
      ]
     },
     "metadata": {},
     "output_type": "display_data"
    }
   ],
   "source": [
    "trace_1 = go.Scatter3d(\n",
    "    x = A[:, 0],\n",
    "    y = A[:, 1],\n",
    "    z = A[:, 2],\n",
    "    mode = 'markers', \n",
    "    name = 'Point Set A'\n",
    ")\n",
    "\n",
    "trace_2 = go.Scatter3d(\n",
    "    x = B[:, 0],\n",
    "    y = B[:, 1],\n",
    "    z = B[:, 2],\n",
    "    mode = 'markers', \n",
    "    name = 'Point Set B'\n",
    ")\n",
    "\n",
    "data = go.Data([trace_1, trace_2])\n",
    "layout = go.Layout(\n",
    "    title = 'Point Set A vs. Point Set B')\n",
    "\n",
    "figure = go.Figure(data = data, layout = layout)\n",
    "iplot(figure)"
   ]
  },
  {
   "cell_type": "code",
   "execution_count": 156,
   "metadata": {},
   "outputs": [
    {
     "data": {
      "application/vnd.plotly.v1+json": {
       "data": [
        {
         "mode": "markers",
         "name": "Point Set A",
         "type": "scatter3d",
         "x": [
          1,
          2,
          2
         ],
         "y": [
          3,
          5,
          0
         ],
         "z": [
          1,
          3,
          1
         ]
        },
        {
         "mode": "markers",
         "name": "Point Set New_B",
         "type": "scatter3d",
         "x": [
          1,
          2,
          2
         ],
         "y": [
          3,
          5,
          0
         ],
         "z": [
          0,
          2,
          1
         ]
        }
       ],
       "layout": {
        "title": "Point Set A vs. Point Set New_B"
       }
      },
      "text/html": [
       "<div id=\"e5e7d8b5-29f3-474a-88b1-ff2f7b399804\" style=\"height: 525px; width: 100%;\" class=\"plotly-graph-div\"></div><script type=\"text/javascript\">require([\"plotly\"], function(Plotly) { window.PLOTLYENV=window.PLOTLYENV || {};window.PLOTLYENV.BASE_URL=\"https://plot.ly\";Plotly.newPlot(\"e5e7d8b5-29f3-474a-88b1-ff2f7b399804\", [{\"type\": \"scatter3d\", \"x\": [1, 2, 2], \"y\": [3, 5, 0], \"z\": [1, 3, 1], \"mode\": \"markers\", \"name\": \"Point Set A\"}, {\"type\": \"scatter3d\", \"x\": [1, 2, 2], \"y\": [3, 5, 0], \"z\": [0, 2, 1], \"mode\": \"markers\", \"name\": \"Point Set New_B\"}], {\"title\": \"Point Set A vs. Point Set New_B\"}, {\"showLink\": true, \"linkText\": \"Export to plot.ly\"})});</script>"
      ],
      "text/vnd.plotly.v1+html": [
       "<div id=\"e5e7d8b5-29f3-474a-88b1-ff2f7b399804\" style=\"height: 525px; width: 100%;\" class=\"plotly-graph-div\"></div><script type=\"text/javascript\">require([\"plotly\"], function(Plotly) { window.PLOTLYENV=window.PLOTLYENV || {};window.PLOTLYENV.BASE_URL=\"https://plot.ly\";Plotly.newPlot(\"e5e7d8b5-29f3-474a-88b1-ff2f7b399804\", [{\"type\": \"scatter3d\", \"x\": [1, 2, 2], \"y\": [3, 5, 0], \"z\": [1, 3, 1], \"mode\": \"markers\", \"name\": \"Point Set A\"}, {\"type\": \"scatter3d\", \"x\": [1, 2, 2], \"y\": [3, 5, 0], \"z\": [0, 2, 1], \"mode\": \"markers\", \"name\": \"Point Set New_B\"}], {\"title\": \"Point Set A vs. Point Set New_B\"}, {\"showLink\": true, \"linkText\": \"Export to plot.ly\"})});</script>"
      ]
     },
     "metadata": {},
     "output_type": "display_data"
    }
   ],
   "source": [
    "trace_1 = go.Scatter3d(\n",
    "    x = A[:, 0],\n",
    "    y = A[:, 1],\n",
    "    z = A[:, 2],\n",
    "    mode = 'markers', \n",
    "    name = 'Point Set A'\n",
    ")\n",
    "\n",
    "trace_2 = go.Scatter3d(\n",
    "    x = new_B[:, 0],\n",
    "    y = new_B[:, 1],\n",
    "    z = new_B[:, 2],\n",
    "    mode = 'markers', \n",
    "    name = 'Point Set New_B'\n",
    ")\n",
    "\n",
    "data = go.Data([trace_1, trace_2])\n",
    "layout = go.Layout(\n",
    "    title = 'Point Set A vs. Point Set New_B')\n",
    "\n",
    "figure = go.Figure(data = data, layout = layout)\n",
    "iplot(figure)"
   ]
  },
  {
   "cell_type": "code",
   "execution_count": 159,
   "metadata": {
    "collapsed": true
   },
   "outputs": [],
   "source": [
    "C = np.array([[1, 3, 1], [2, 5, 3], [2, 0, 1], [1, 1, 2], [1, 3, 4]])"
   ]
  },
  {
   "cell_type": "code",
   "execution_count": 160,
   "metadata": {},
   "outputs": [
    {
     "name": "stdout",
     "output_type": "stream",
     "text": [
      "[[1 3 1]\n",
      " [2 5 3]\n",
      " [2 0 1]\n",
      " [1 1 2]\n",
      " [1 3 4]]\n"
     ]
    }
   ],
   "source": [
    "print(C)"
   ]
  },
  {
   "cell_type": "code",
   "execution_count": 161,
   "metadata": {
    "collapsed": true
   },
   "outputs": [],
   "source": [
    "D = np.array([[2, 5, 3], [1, 3, 4], [1, 1, 2], [2, 0, 1], [1, 3, 1]])"
   ]
  },
  {
   "cell_type": "code",
   "execution_count": 162,
   "metadata": {},
   "outputs": [
    {
     "name": "stdout",
     "output_type": "stream",
     "text": [
      "[[2 5 3]\n",
      " [1 3 4]\n",
      " [1 1 2]\n",
      " [2 0 1]\n",
      " [1 3 1]]\n"
     ]
    }
   ],
   "source": [
    "print(D)"
   ]
  },
  {
   "cell_type": "code",
   "execution_count": 164,
   "metadata": {},
   "outputs": [],
   "source": [
    "cost = cdist(C, D)"
   ]
  },
  {
   "cell_type": "code",
   "execution_count": 165,
   "metadata": {},
   "outputs": [
    {
     "name": "stdout",
     "output_type": "stream",
     "text": [
      "[[ 3.          3.          2.23606798  3.16227766  0.        ]\n",
      " [ 0.          2.44948974  4.24264069  5.38516481  3.        ]\n",
      " [ 5.38516481  4.35889894  1.73205081  0.          3.16227766]\n",
      " [ 4.24264069  2.82842712  0.          1.73205081  2.23606798]\n",
      " [ 2.44948974  0.          2.82842712  4.35889894  3.        ]]\n"
     ]
    }
   ],
   "source": [
    "print(cost)"
   ]
  },
  {
   "cell_type": "code",
   "execution_count": 166,
   "metadata": {
    "collapsed": true
   },
   "outputs": [],
   "source": [
    "row_ind, col_ind = linear_sum_assignment(cost)"
   ]
  },
  {
   "cell_type": "code",
   "execution_count": 167,
   "metadata": {},
   "outputs": [
    {
     "data": {
      "text/plain": [
       "(array([0, 1, 2, 3, 4]), array([4, 0, 3, 2, 1]))"
      ]
     },
     "execution_count": 167,
     "metadata": {},
     "output_type": "execute_result"
    }
   ],
   "source": [
    "row_ind, col_ind"
   ]
  },
  {
   "cell_type": "code",
   "execution_count": 168,
   "metadata": {},
   "outputs": [
    {
     "data": {
      "text/plain": [
       "array([ 0.,  0.,  0.,  0.,  0.])"
      ]
     },
     "execution_count": 168,
     "metadata": {},
     "output_type": "execute_result"
    }
   ],
   "source": [
    "cost[row_ind, col_ind]"
   ]
  },
  {
   "cell_type": "code",
   "execution_count": 169,
   "metadata": {
    "collapsed": true
   },
   "outputs": [],
   "source": [
    "new_D = np.array([[1, 3, 1], [2, 5, 3], [2, 0, 1], [1, 1, 2], [1, 3, 4]])"
   ]
  },
  {
   "cell_type": "code",
   "execution_count": 170,
   "metadata": {
    "collapsed": true
   },
   "outputs": [],
   "source": [
    "X = np.array([[1, 3, 1], [2, 5, 3], [2, 0, 1], [1, 1, 2], [1, 3, 4]])"
   ]
  },
  {
   "cell_type": "code",
   "execution_count": 172,
   "metadata": {},
   "outputs": [
    {
     "name": "stdout",
     "output_type": "stream",
     "text": [
      "[[1 3 1]\n",
      " [2 5 3]\n",
      " [2 0 1]\n",
      " [1 1 2]\n",
      " [1 3 4]]\n"
     ]
    }
   ],
   "source": [
    "print(X)"
   ]
  },
  {
   "cell_type": "code",
   "execution_count": 173,
   "metadata": {
    "collapsed": true
   },
   "outputs": [],
   "source": [
    "Y = np.array([[2, 4, 4], [1, 3, 3], [1, 0, 1], [2, 2, 1], [1, 3, 0]])"
   ]
  },
  {
   "cell_type": "code",
   "execution_count": 174,
   "metadata": {
    "collapsed": true
   },
   "outputs": [],
   "source": [
    "cost = cdist(X, Y)"
   ]
  },
  {
   "cell_type": "code",
   "execution_count": 176,
   "metadata": {},
   "outputs": [
    {
     "name": "stdout",
     "output_type": "stream",
     "text": [
      "[[ 3.31662479  2.          3.          1.41421356  1.        ]\n",
      " [ 1.41421356  2.23606798  5.47722558  3.60555128  3.74165739]\n",
      " [ 5.          3.74165739  1.          2.          3.31662479]\n",
      " [ 3.74165739  2.23606798  1.41421356  1.73205081  2.82842712]\n",
      " [ 1.41421356  1.          4.24264069  3.31662479  4.        ]]\n"
     ]
    }
   ],
   "source": [
    "print(cost)"
   ]
  },
  {
   "cell_type": "code",
   "execution_count": 175,
   "metadata": {
    "collapsed": true
   },
   "outputs": [],
   "source": [
    "row_ind, col_ind = linear_sum_assignment(cost)"
   ]
  },
  {
   "cell_type": "code",
   "execution_count": 177,
   "metadata": {},
   "outputs": [
    {
     "data": {
      "text/plain": [
       "array([ 1.        ,  1.41421356,  1.        ,  1.73205081,  1.        ])"
      ]
     },
     "execution_count": 177,
     "metadata": {},
     "output_type": "execute_result"
    }
   ],
   "source": [
    "cost[row_ind, col_ind]"
   ]
  },
  {
   "cell_type": "code",
   "execution_count": 178,
   "metadata": {
    "collapsed": true
   },
   "outputs": [],
   "source": [
    "new_Y = np.array([[1, 3, 0], [2, 4, 4], [1, 0, 1], [2, 2, 1], [1, 3, 3]])"
   ]
  },
  {
   "cell_type": "code",
   "execution_count": null,
   "metadata": {
    "collapsed": true
   },
   "outputs": [],
   "source": []
  }
 ],
 "metadata": {
  "kernelspec": {
   "display_name": "Python 3",
   "language": "python",
   "name": "python3"
  },
  "language_info": {
   "codemirror_mode": {
    "name": "ipython",
    "version": 3
   },
   "file_extension": ".py",
   "mimetype": "text/x-python",
   "name": "python",
   "nbconvert_exporter": "python",
   "pygments_lexer": "ipython3",
   "version": "3.6.1"
  }
 },
 "nbformat": 4,
 "nbformat_minor": 2
}
