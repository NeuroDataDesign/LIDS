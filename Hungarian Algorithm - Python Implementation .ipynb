{
 "cells": [
  {
   "cell_type": "markdown",
   "metadata": {},
   "source": [
    "## The Hungarian Algorithm \n",
    "\n",
    "The Hungarian algorithm is a method used solve the linear sum assignment problem by minimizing a cost matrix of size n x n. This jupyter notebook will attempt to document the implementation of the Hungarian algorithm as it pertains to matching, or registering, 3D points from one matrix to 3D points in another matrix with the hopes of eventually applying the algorithm to real data sets in order to register individual synapses within an image across time. "
   ]
  },
  {
   "cell_type": "code",
   "execution_count": 2,
   "metadata": {},
   "outputs": [
    {
     "data": {
      "text/html": [
       "<script>requirejs.config({paths: { 'plotly': ['https://cdn.plot.ly/plotly-latest.min']},});if(!window.Plotly) {{require(['plotly'],function(plotly) {window.Plotly=plotly;});}}</script>"
      ],
      "text/vnd.plotly.v1+html": [
       "<script>requirejs.config({paths: { 'plotly': ['https://cdn.plot.ly/plotly-latest.min']},});if(!window.Plotly) {{require(['plotly'],function(plotly) {window.Plotly=plotly;});}}</script>"
      ]
     },
     "metadata": {},
     "output_type": "display_data"
    }
   ],
   "source": [
    "import numpy as np\n",
    "from plotly.offline import download_plotlyjs, init_notebook_mode, plot, iplot\n",
    "import plotly.plotly as py\n",
    "import plotly.graph_objs as go\n",
    "from plotly import tools\n",
    "from scipy.spatial.distance import cdist\n",
    "from scipy.optimize import linear_sum_assignment\n",
    "init_notebook_mode(connected = True)"
   ]
  },
  {
   "cell_type": "markdown",
   "metadata": {},
   "source": [
    "## Hungarian Algorithm Implementation for Matrices of the Same Size "
   ]
  },
  {
   "cell_type": "markdown",
   "metadata": {},
   "source": [
    "**Step 1:** To begin, create any n x 3 matrix. The matrix is of size n x 3 because this Jupyter notebook will document the registration of 3D points in two separate matrices. Below, I have created an n x 3 matrix, E. "
   ]
  },
  {
   "cell_type": "code",
   "execution_count": 53,
   "metadata": {},
   "outputs": [
    {
     "name": "stdout",
     "output_type": "stream",
     "text": [
      "[[1 3 1]\n",
      " [2 5 3]\n",
      " [2 0 1]]\n"
     ]
    }
   ],
   "source": [
    "E = np.array([[1, 3, 1], [2, 5, 3], [2, 0, 1]])\n",
    "print(E)"
   ]
  },
  {
   "cell_type": "markdown",
   "metadata": {},
   "source": [
    "**Step 2:** Now, create another n x 3 matrix that is a permutation of E. In the case below, I have created F, an n x 3 matrix where the rows of E have been shuffled around. "
   ]
  },
  {
   "cell_type": "code",
   "execution_count": 54,
   "metadata": {},
   "outputs": [
    {
     "name": "stdout",
     "output_type": "stream",
     "text": [
      "[[2 0 1]\n",
      " [2 5 3]\n",
      " [1 3 1]]\n"
     ]
    }
   ],
   "source": [
    "F = np.array([[2, 0, 1], [2, 5, 3], [1, 3, 1]])\n",
    "print(F)"
   ]
  },
  {
   "cell_type": "markdown",
   "metadata": {},
   "source": [
    "**Step 3:** The Hungarian algorithm works by minimizing a cost matrix. In order to apply the Hungarian algorithm, we must provide it with some cost matrix as an input. I have chosen to compute the Euclidean distance between pairwise points in matrices E and F and will use the n x n Euclidean distance matrix as the cost matrix. "
   ]
  },
  {
   "cell_type": "code",
   "execution_count": 55,
   "metadata": {},
   "outputs": [
    {
     "name": "stdout",
     "output_type": "stream",
     "text": [
      "[[ 3.16227766  3.          0.        ]\n",
      " [ 5.38516481  0.          3.        ]\n",
      " [ 0.          5.38516481  3.16227766]]\n"
     ]
    }
   ],
   "source": [
    "cost = cdist(E, F) #cdist is a scipy function that calculates the Euclidean distances between pairwise points in matrices E and F.\n",
    "print(cost)"
   ]
  },
  {
   "cell_type": "markdown",
   "metadata": {},
   "source": [
    "**Step 4:** Linear_sum_assignment is a function from the scipy.optimize module that implements the Hungarian algorithm. Row_ind, col_ind are row and column indices of the cost matrix that point to which elements in the cost matrix, when summed, produce a minimum value. "
   ]
  },
  {
   "cell_type": "code",
   "execution_count": 56,
   "metadata": {},
   "outputs": [
    {
     "name": "stdout",
     "output_type": "stream",
     "text": [
      "[0 1 2]\n"
     ]
    }
   ],
   "source": [
    "row_ind, col_ind = linear_sum_assignment(cost)\n",
    "print(row_ind)"
   ]
  },
  {
   "cell_type": "code",
   "execution_count": 197,
   "metadata": {},
   "outputs": [
    {
     "data": {
      "text/plain": [
       "array([ 0.,  0.,  0.])"
      ]
     },
     "execution_count": 197,
     "metadata": {},
     "output_type": "execute_result"
    }
   ],
   "source": [
    "cost[row_ind, col_ind] #row_ind and col_ind being applied to the cost matrix tells us which elements of the cost matrix, when summed, produce a minimum value. "
   ]
  },
  {
   "cell_type": "markdown",
   "metadata": {},
   "source": [
    "** Step 5:** Based on the minimized Euclidean distance results produced by the Hungarian algorithm, we can change the order of rows in F so that they match E."
   ]
  },
  {
   "cell_type": "code",
   "execution_count": 58,
   "metadata": {},
   "outputs": [
    {
     "name": "stdout",
     "output_type": "stream",
     "text": [
      "[[1 3 1]\n",
      " [2 5 3]\n",
      " [2 0 1]]\n"
     ]
    }
   ],
   "source": [
    "new_F = F[col_ind]\n",
    "print(new_F)"
   ]
  },
  {
   "cell_type": "markdown",
   "metadata": {},
   "source": [
    "### More Examples of Hungarian Algorithm Implementation "
   ]
  },
  {
   "cell_type": "markdown",
   "metadata": {},
   "source": [
    "**Example 1**"
   ]
  },
  {
   "cell_type": "code",
   "execution_count": 59,
   "metadata": {},
   "outputs": [
    {
     "name": "stdout",
     "output_type": "stream",
     "text": [
      "[[1 3 1]\n",
      " [2 5 3]\n",
      " [2 0 1]]\n"
     ]
    }
   ],
   "source": [
    "A = np.array([[1, 3, 1], [2, 5, 3], [2, 0, 1]])\n",
    "print(A)"
   ]
  },
  {
   "cell_type": "code",
   "execution_count": 60,
   "metadata": {},
   "outputs": [
    {
     "name": "stdout",
     "output_type": "stream",
     "text": [
      "[[2 0 1]\n",
      " [2 5 3]\n",
      " [1 3 1]]\n"
     ]
    }
   ],
   "source": [
    "B = np.array([[2, 0, 1], [2, 5, 3], [1, 3, 1]])\n",
    "print(B)"
   ]
  },
  {
   "cell_type": "code",
   "execution_count": 61,
   "metadata": {},
   "outputs": [
    {
     "name": "stdout",
     "output_type": "stream",
     "text": [
      "[[ 3.16227766  3.          0.        ]\n",
      " [ 5.38516481  0.          3.        ]\n",
      " [ 0.          5.38516481  3.16227766]]\n"
     ]
    }
   ],
   "source": [
    "cost = cdist(A, B)\n",
    "print(cost)"
   ]
  },
  {
   "cell_type": "code",
   "execution_count": 62,
   "metadata": {},
   "outputs": [
    {
     "name": "stdout",
     "output_type": "stream",
     "text": [
      "[0 1 2] [2 1 0]\n"
     ]
    }
   ],
   "source": [
    "row_ind, col_ind = linear_sum_assignment(cost)\n",
    "print(row_ind, col_ind)"
   ]
  },
  {
   "cell_type": "code",
   "execution_count": 219,
   "metadata": {},
   "outputs": [
    {
     "data": {
      "text/plain": [
       "array([ 0.,  0.,  0.])"
      ]
     },
     "execution_count": 219,
     "metadata": {},
     "output_type": "execute_result"
    }
   ],
   "source": [
    "cost[row_ind, col_ind]"
   ]
  },
  {
   "cell_type": "code",
   "execution_count": 64,
   "metadata": {},
   "outputs": [
    {
     "name": "stdout",
     "output_type": "stream",
     "text": [
      "[[1 3 1]\n",
      " [2 5 3]\n",
      " [2 0 1]]\n"
     ]
    }
   ],
   "source": [
    "new_B = B[col_ind]\n",
    "print(new_B)"
   ]
  },
  {
   "cell_type": "markdown",
   "metadata": {},
   "source": [
    "**Example 2**"
   ]
  },
  {
   "cell_type": "code",
   "execution_count": 65,
   "metadata": {},
   "outputs": [
    {
     "name": "stdout",
     "output_type": "stream",
     "text": [
      "[[1 3 1]\n",
      " [2 5 3]\n",
      " [2 0 1]\n",
      " [1 1 2]\n",
      " [1 3 4]]\n"
     ]
    }
   ],
   "source": [
    "C = np.array([[1, 3, 1], [2, 5, 3], [2, 0, 1], [1, 1, 2], [1, 3, 4]])\n",
    "print(C)"
   ]
  },
  {
   "cell_type": "code",
   "execution_count": 66,
   "metadata": {},
   "outputs": [
    {
     "name": "stdout",
     "output_type": "stream",
     "text": [
      "[[2 5 3]\n",
      " [1 3 4]\n",
      " [1 1 2]\n",
      " [2 0 1]\n",
      " [1 3 1]]\n"
     ]
    }
   ],
   "source": [
    "D = np.array([[2, 5, 3], [1, 3, 4], [1, 1, 2], [2, 0, 1], [1, 3, 1]])\n",
    "print(D)"
   ]
  },
  {
   "cell_type": "code",
   "execution_count": 67,
   "metadata": {},
   "outputs": [
    {
     "name": "stdout",
     "output_type": "stream",
     "text": [
      "[[ 3.          3.          2.23606798  3.16227766  0.        ]\n",
      " [ 0.          2.44948974  4.24264069  5.38516481  3.        ]\n",
      " [ 5.38516481  4.35889894  1.73205081  0.          3.16227766]\n",
      " [ 4.24264069  2.82842712  0.          1.73205081  2.23606798]\n",
      " [ 2.44948974  0.          2.82842712  4.35889894  3.        ]]\n"
     ]
    }
   ],
   "source": [
    "cost = cdist(C, D)\n",
    "print(cost)"
   ]
  },
  {
   "cell_type": "code",
   "execution_count": 68,
   "metadata": {},
   "outputs": [
    {
     "name": "stdout",
     "output_type": "stream",
     "text": [
      "[0 1 2 3 4] [4 0 3 2 1]\n"
     ]
    }
   ],
   "source": [
    "row_ind, col_ind = linear_sum_assignment(cost)\n",
    "print(row_ind, col_ind)"
   ]
  },
  {
   "cell_type": "code",
   "execution_count": 232,
   "metadata": {},
   "outputs": [
    {
     "data": {
      "text/plain": [
       "array([ 0.,  0.,  0.,  0.,  0.])"
      ]
     },
     "execution_count": 232,
     "metadata": {},
     "output_type": "execute_result"
    }
   ],
   "source": [
    "cost[row_ind, col_ind]"
   ]
  },
  {
   "cell_type": "code",
   "execution_count": 70,
   "metadata": {},
   "outputs": [
    {
     "name": "stdout",
     "output_type": "stream",
     "text": [
      "[[1 3 1]\n",
      " [2 5 3]\n",
      " [2 0 1]\n",
      " [1 1 2]\n",
      " [1 3 4]]\n"
     ]
    }
   ],
   "source": [
    "new_D = D[col_ind]\n",
    "print(new_D)"
   ]
  },
  {
   "cell_type": "markdown",
   "metadata": {},
   "source": [
    "**Example 3**"
   ]
  },
  {
   "cell_type": "code",
   "execution_count": 71,
   "metadata": {},
   "outputs": [
    {
     "name": "stdout",
     "output_type": "stream",
     "text": [
      "[[1 3 1]\n",
      " [2 5 3]\n",
      " [2 0 1]\n",
      " [1 1 2]\n",
      " [1 3 4]]\n"
     ]
    }
   ],
   "source": [
    "X = np.array([[1, 3, 1], [2, 5, 3], [2, 0, 1], [1, 1, 2], [1, 3, 4]])\n",
    "print(X)"
   ]
  },
  {
   "cell_type": "code",
   "execution_count": 72,
   "metadata": {},
   "outputs": [
    {
     "name": "stdout",
     "output_type": "stream",
     "text": [
      "[[2 4 4]\n",
      " [1 3 3]\n",
      " [1 0 1]\n",
      " [2 2 1]\n",
      " [1 3 0]]\n"
     ]
    }
   ],
   "source": [
    "Y = np.array([[2, 4, 4], [1, 3, 3], [1, 0, 1], [2, 2, 1], [1, 3, 0]])\n",
    "print(Y)"
   ]
  },
  {
   "cell_type": "code",
   "execution_count": 73,
   "metadata": {},
   "outputs": [
    {
     "name": "stdout",
     "output_type": "stream",
     "text": [
      "[[ 3.31662479  2.          3.          1.41421356  1.        ]\n",
      " [ 1.41421356  2.23606798  5.47722558  3.60555128  3.74165739]\n",
      " [ 5.          3.74165739  1.          2.          3.31662479]\n",
      " [ 3.74165739  2.23606798  1.41421356  1.73205081  2.82842712]\n",
      " [ 1.41421356  1.          4.24264069  3.31662479  4.        ]]\n"
     ]
    }
   ],
   "source": [
    "cost = cdist(X, Y)\n",
    "print(cost)"
   ]
  },
  {
   "cell_type": "code",
   "execution_count": 74,
   "metadata": {},
   "outputs": [
    {
     "name": "stdout",
     "output_type": "stream",
     "text": [
      "[0 1 2 3 4] [4 0 2 3 1]\n"
     ]
    }
   ],
   "source": [
    "row_ind, col_ind = linear_sum_assignment(cost)\n",
    "print(row_ind, col_ind)"
   ]
  },
  {
   "cell_type": "code",
   "execution_count": 240,
   "metadata": {},
   "outputs": [
    {
     "data": {
      "text/plain": [
       "array([ 1.        ,  1.41421356,  1.        ,  1.73205081,  1.        ])"
      ]
     },
     "execution_count": 240,
     "metadata": {},
     "output_type": "execute_result"
    }
   ],
   "source": [
    "cost[row_ind, col_ind]"
   ]
  },
  {
   "cell_type": "code",
   "execution_count": 75,
   "metadata": {},
   "outputs": [
    {
     "name": "stdout",
     "output_type": "stream",
     "text": [
      "[[1 3 0]\n",
      " [2 4 4]\n",
      " [1 0 1]\n",
      " [2 2 1]\n",
      " [1 3 3]]\n"
     ]
    }
   ],
   "source": [
    "new_Y = Y[col_ind]\n",
    "print(new_Y)"
   ]
  },
  {
   "cell_type": "markdown",
   "metadata": {},
   "source": [
    "## Hungarian Algorithm Implementation for Matrices of Different Sizes "
   ]
  },
  {
   "cell_type": "markdown",
   "metadata": {},
   "source": [
    "#### Example 1"
   ]
  },
  {
   "cell_type": "code",
   "execution_count": 49,
   "metadata": {},
   "outputs": [
    {
     "name": "stdout",
     "output_type": "stream",
     "text": [
      "[[ 0.    1.    2.  ]\n",
      " [ 1.    3.    0.  ]\n",
      " [ 1.    1.    4.  ]\n",
      " [ 0.67  1.67  2.  ]]\n"
     ]
    }
   ],
   "source": [
    "A = np.array([[0, 1, 2], [1, 3, 0], [1, 1, 4], [0.67, 1.67, 2]])\n",
    "print(A)"
   ]
  },
  {
   "cell_type": "code",
   "execution_count": 50,
   "metadata": {},
   "outputs": [
    {
     "name": "stdout",
     "output_type": "stream",
     "text": [
      "[[1 3 0]\n",
      " [0 1 2]\n",
      " [2 3 7]\n",
      " [1 1 4]]\n"
     ]
    }
   ],
   "source": [
    "B = np.array([[1, 3, 0], [0, 1, 2], [2, 3, 7], [1, 1, 4]])\n",
    "print(B)"
   ]
  },
  {
   "cell_type": "code",
   "execution_count": 51,
   "metadata": {},
   "outputs": [
    {
     "name": "stdout",
     "output_type": "stream",
     "text": [
      "[[ 3.          0.          5.74456265  2.23606798]\n",
      " [ 0.          3.          7.07106781  4.47213595]\n",
      " [ 4.47213595  2.23606798  3.74165739  0.        ]\n",
      " [ 2.42441746  0.94752309  5.34207825  2.13490047]]\n"
     ]
    }
   ],
   "source": [
    "cost = cdist(A, B)\n",
    "print(cost)"
   ]
  },
  {
   "cell_type": "code",
   "execution_count": 52,
   "metadata": {},
   "outputs": [
    {
     "name": "stdout",
     "output_type": "stream",
     "text": [
      "[0 1 2 3] [1 0 3 2]\n"
     ]
    }
   ],
   "source": [
    "row_ind, col_ind = linear_sum_assignment(cost)\n",
    "print(row_ind, col_ind)"
   ]
  },
  {
   "cell_type": "code",
   "execution_count": 48,
   "metadata": {},
   "outputs": [
    {
     "name": "stdout",
     "output_type": "stream",
     "text": [
      "[[0 1 2]\n",
      " [1 3 0]\n",
      " [1 1 4]\n",
      " [2 3 7]]\n"
     ]
    }
   ],
   "source": [
    "new_B = B[col_ind]\n",
    "print(new_B)"
   ]
  },
  {
   "cell_type": "markdown",
   "metadata": {
    "collapsed": true
   },
   "source": [
    "#### Example 2"
   ]
  },
  {
   "cell_type": "code",
   "execution_count": 76,
   "metadata": {},
   "outputs": [
    {
     "name": "stdout",
     "output_type": "stream",
     "text": [
      "[[0 1 2]\n",
      " [2 4 3]\n",
      " [1 2 7]]\n"
     ]
    }
   ],
   "source": [
    "A = np.array([[0, 1, 2], [2, 4, 3], [1, 2, 7]])\n",
    "print(A)"
   ]
  },
  {
   "cell_type": "markdown",
   "metadata": {},
   "source": [
    "A is a 3 x 3 matrix. B, however, is a 6 x 3 matrix. If we are trying to match points in B to points in A, then we must somehow create 3 additional points in A so that we can use the Hungarian algorithm, which is much simpler to employ using matrices of the same size. To create these 3 additional points, we can take the mean of each column. "
   ]
  },
  {
   "cell_type": "code",
   "execution_count": 30,
   "metadata": {},
   "outputs": [
    {
     "name": "stdout",
     "output_type": "stream",
     "text": [
      "[[ 0.     1.     2.   ]\n",
      " [ 2.     4.     3.   ]\n",
      " [ 1.     2.     7.   ]\n",
      " [ 1.     2.33   4.   ]\n",
      " [ 1.     1.43   4.   ]\n",
      " [ 1.     2.152  4.   ]]\n"
     ]
    }
   ],
   "source": [
    "new_A = np.array([[0, 1, 2], [2, 4, 3], [1, 2, 7], [1, 2.33, 4], [1, 1.43, 4], [1, 2.152, 4]])\n",
    "print(new_A)"
   ]
  },
  {
   "cell_type": "code",
   "execution_count": 31,
   "metadata": {},
   "outputs": [
    {
     "name": "stdout",
     "output_type": "stream",
     "text": [
      "[[2 4 3]\n",
      " [3 5 2]\n",
      " [1 3 1]\n",
      " [0 1 2]\n",
      " [1 2 7]\n",
      " [1 1 1]]\n"
     ]
    }
   ],
   "source": [
    "B = np.array([[2, 4, 3], [3, 5, 2], [1, 3, 1], [0, 1, 2], [1, 2, 7], [1, 1, 1]])\n",
    "print(B)"
   ]
  },
  {
   "cell_type": "code",
   "execution_count": 21,
   "metadata": {},
   "outputs": [
    {
     "name": "stdout",
     "output_type": "stream",
     "text": [
      "[[ 3.74165739  5.          2.44948974  0.          5.19615242  1.41421356]\n",
      " [ 0.          1.73205081  2.44948974  3.74165739  4.58257569  3.74165739]\n",
      " [ 4.58257569  6.164414    6.08276253  5.19615242  0.          6.08276253]\n",
      " [ 2.18835555  3.88958867  3.07390631  2.60171098  3.01809543  3.28160022]\n",
      " [ 2.93341098  4.55465696  3.38598582  2.27703755  3.05366992  3.03065999]\n",
      " [ 2.3270376   4.01386397  3.11754775  2.51537353  3.0038482   3.21358118]]\n"
     ]
    }
   ],
   "source": [
    "cost = cdist(new_A, B)\n",
    "print(cost)"
   ]
  },
  {
   "cell_type": "code",
   "execution_count": 23,
   "metadata": {},
   "outputs": [
    {
     "name": "stdout",
     "output_type": "stream",
     "text": [
      "[0 1 2 3 4 5] [3 0 4 1 5 2]\n"
     ]
    }
   ],
   "source": [
    "row_ind, col_ind = linear_sum_assignment(cost)\n",
    "print(row_ind, col_ind)"
   ]
  },
  {
   "cell_type": "code",
   "execution_count": 35,
   "metadata": {},
   "outputs": [
    {
     "name": "stdout",
     "output_type": "stream",
     "text": [
      "[[0 1 2]\n",
      " [2 4 3]\n",
      " [1 2 7]\n",
      " [3 5 2]\n",
      " [1 1 1]\n",
      " [1 3 1]]\n"
     ]
    }
   ],
   "source": [
    "new_B = B[col_ind] \n",
    "print(new_B)"
   ]
  },
  {
   "cell_type": "markdown",
   "metadata": {},
   "source": [
    "## Hungarian Algorithm Practical Application"
   ]
  },
  {
   "cell_type": "markdown",
   "metadata": {},
   "source": [
    "#### Example 1"
   ]
  },
  {
   "cell_type": "code",
   "execution_count": 290,
   "metadata": {},
   "outputs": [
    {
     "data": {
      "image/png": "[encoded data removed]",
      "text/plain": [
       "<matplotlib.figure.Figure at 0x11e09f8d0>"
      ]
     },
     "metadata": {},
     "output_type": "display_data"
    }
   ],
   "source": [
    "from matplotlib import pyplot as plt\n",
    "\n",
    "from skimage import data\n",
    "from skimage.feature import corner_harris, corner_subpix, corner_peaks\n",
    "from skimage.transform import warp, AffineTransform\n",
    "from skimage.draw import ellipse\n",
    "\n",
    "\n",
    "tform = AffineTransform(scale = (1.3, 1.1), rotation = 1, shear = 0.7,\n",
    "                        translation = (210, 50))\n",
    "image = warp(data.checkerboard(), tform.inverse, output_shape = (350, 350))\n",
    "rr, cc = ellipse(310, 175, 10, 100)\n",
    "image[rr, cc] = 1\n",
    "image[180:230, 10:60] = 1\n",
    "image[230:280, 60:110] = 1\n",
    "\n",
    "coords_A = corner_peaks(corner_harris(image), min_distance=5)\n",
    "coords_subpix = corner_subpix(image, coords_A, window_size=13)\n",
    "\n",
    "fig, ax = plt.subplots()\n",
    "ax.imshow(image, interpolation = 'nearest', cmap = plt.cm.gray)\n",
    "ax.plot(coords_A[:, 1], coords_A[:, 0], '.b', markersize = 3)\n",
    "ax.plot(coords_subpix[:, 1], coords_subpix[:, 0], '+r', markersize = 15)\n",
    "ax.axis((0, 350, 350, 0))\n",
    "plt.show()"
   ]
  },
  {
   "cell_type": "code",
   "execution_count": 291,
   "metadata": {},
   "outputs": [
    {
     "name": "stdout",
     "output_type": "stream",
     "text": [
      "[[ 26  21]\n",
      " [ 33  76]\n",
      " [ 40 130]\n",
      " [ 47 185]\n",
      " [ 49  11]\n",
      " [ 50 210]\n",
      " [ 51  35]\n",
      " [ 54  62]\n",
      " [ 60  93]\n",
      " [ 62 117]\n",
      " [ 65 144]\n",
      " [ 71 175]\n",
      " [ 74 202]\n",
      " [ 76 226]\n",
      " [ 78  52]\n",
      " [ 82  80]\n",
      " [ 88 111]\n",
      " [ 91 138]\n",
      " [ 92 161]\n",
      " [ 96 189]\n",
      " [102 220]\n",
      " [104  46]\n",
      " [108  74]\n",
      " [109  97]\n",
      " [113 125]\n",
      " [119 156]\n",
      " [122 183]\n",
      " [123 206]\n",
      " [127 234]\n",
      " [131 261]\n",
      " [135  91]\n",
      " [139 119]\n",
      " [140 142]\n",
      " [143 169]\n",
      " [150 201]\n",
      " [151 224]\n",
      " [154 251]\n",
      " [159  82]\n",
      " [160 105]\n",
      " [166 136]\n",
      " [170 164]\n",
      " [171 187]\n",
      " [174 214]\n",
      " [180  10]\n",
      " [180  59]\n",
      " [180 245]\n",
      " [182 269]\n",
      " [185 296]\n",
      " [188 123]\n",
      " [191 150]\n",
      " [197 181]\n",
      " [201 209]\n",
      " [202 232]\n",
      " [208 263]\n",
      " [211 290]\n",
      " [214 117]\n",
      " [217 144]\n",
      " [219 168]\n",
      " [225 199]\n",
      " [228 226]\n",
      " [229  10]\n",
      " [229  59]\n",
      " [229 249]\n",
      " [230 109]\n",
      " [233 277]\n",
      " [239 308]\n",
      " [240 331]\n",
      " [242 158]\n",
      " [250 213]\n",
      " [257 267]\n",
      " [264 322]\n",
      " [279  60]\n",
      " [279 109]\n",
      " [310  76]\n",
      " [310 274]]\n"
     ]
    }
   ],
   "source": [
    "print(coords_A)"
   ]
  },
  {
   "cell_type": "code",
   "execution_count": 292,
   "metadata": {},
   "outputs": [
    {
     "data": {
      "text/plain": [
       "(75, 2)"
      ]
     },
     "execution_count": 292,
     "metadata": {},
     "output_type": "execute_result"
    }
   ],
   "source": [
    "coords_A.shape"
   ]
  },
  {
   "cell_type": "code",
   "execution_count": 293,
   "metadata": {},
   "outputs": [
    {
     "data": {
      "image/png": "[encoded data removed]",
      "text/plain": [
       "<matplotlib.figure.Figure at 0x11e713eb8>"
      ]
     },
     "metadata": {},
     "output_type": "display_data"
    }
   ],
   "source": [
    "from matplotlib import pyplot as plt\n",
    "\n",
    "from skimage import data\n",
    "from skimage.feature import corner_harris, corner_subpix, corner_peaks\n",
    "from skimage.transform import warp, AffineTransform\n",
    "from skimage.draw import ellipse\n",
    "\n",
    "\n",
    "tform = AffineTransform(scale = (1.3, 1.1), rotation = 1, shear = 0.5,\n",
    "                        translation = (210, 50))\n",
    "image = warp(data.checkerboard(), tform.inverse, output_shape = (350, 350))\n",
    "rr, cc = ellipse(310, 175, 10, 100)\n",
    "image[rr, cc] = 1\n",
    "image[180:230, 10:60] = 1\n",
    "image[230:280, 60:110] = 1\n",
    "\n",
    "coords_B = corner_peaks(corner_harris(image), min_distance = 5)\n",
    "coords_subpix = corner_subpix(image, coords_B, window_size =13)\n",
    "\n",
    "fig, ax = plt.subplots()\n",
    "ax.imshow(image, interpolation = 'nearest', cmap = plt.cm.gray)\n",
    "ax.plot(coords_B[:, 1], coords_B[:, 0], '.b', markersize = 3)\n",
    "ax.plot(coords_subpix[:, 1], coords_subpix[:, 0], '+r', markersize = 15)\n",
    "ax.axis((0, 350, 350, 0))\n",
    "plt.show()"
   ]
  },
  {
   "cell_type": "code",
   "execution_count": 294,
   "metadata": {},
   "outputs": [
    {
     "name": "stdout",
     "output_type": "stream",
     "text": [
      "[[ 50 210]\n",
      " [ 52 184]\n",
      " [ 54 155]\n",
      " [ 56 129]\n",
      " [ 58 100]\n",
      " [ 60  75]\n",
      " [ 64  20]\n",
      " [ 76 226]\n",
      " [ 80 202]\n",
      " [ 82 144]\n",
      " [ 82 175]\n",
      " [ 84 116]\n",
      " [ 86  89]\n",
      " [ 89  34]\n",
      " [ 89  65]\n",
      " [ 93  10]\n",
      " [105 216]\n",
      " [105 245]\n",
      " [109 192]\n",
      " [111 134]\n",
      " [111 165]\n",
      " [115  79]\n",
      " [115 110]\n",
      " [119  26]\n",
      " [119  55]\n",
      " [131 261]\n",
      " [134 206]\n",
      " [134 237]\n",
      " [138 151]\n",
      " [138 182]\n",
      " [140 124]\n",
      " [144  69]\n",
      " [144 100]\n",
      " [148  45]\n",
      " [162 224]\n",
      " [162 255]\n",
      " [166 169]\n",
      " [166 200]\n",
      " [169 145]\n",
      " [170 114]\n",
      " [173  90]\n",
      " [180  10]\n",
      " [180  59]\n",
      " [185 296]\n",
      " [187 269]\n",
      " [191 214]\n",
      " [191 245]\n",
      " [195 159]\n",
      " [195 190]\n",
      " [199 135]\n",
      " [201 108]\n",
      " [202  80]\n",
      " [214 315]\n",
      " [216 290]\n",
      " [218 262]\n",
      " [220 204]\n",
      " [220 235]\n",
      " [224 149]\n",
      " [224 180]\n",
      " [226 122]\n",
      " [229  10]\n",
      " [229  59]\n",
      " [229  95]\n",
      " [230 109]\n",
      " [240 332]\n",
      " [242 304]\n",
      " [246 249]\n",
      " [246 280]\n",
      " [248 222]\n",
      " [250 194]\n",
      " [252 167]\n",
      " [255 143]\n",
      " [257 115]\n",
      " [269 322]\n",
      " [273 267]\n",
      " [275 241]\n",
      " [277 212]\n",
      " [279  60]\n",
      " [279 109]\n",
      " [281 157]\n",
      " [283 132]\n",
      " [310  76]\n",
      " [310 274]]\n"
     ]
    }
   ],
   "source": [
    "print(coords_B)"
   ]
  },
  {
   "cell_type": "code",
   "execution_count": 295,
   "metadata": {},
   "outputs": [
    {
     "data": {
      "text/plain": [
       "(83, 2)"
      ]
     },
     "execution_count": 295,
     "metadata": {},
     "output_type": "execute_result"
    }
   ],
   "source": [
    "coords_B.shape"
   ]
  },
  {
   "cell_type": "code",
   "execution_count": 296,
   "metadata": {},
   "outputs": [
    {
     "name": "stdout",
     "output_type": "stream",
     "text": [
      "[[ 190.51771571  165.06059493  136.89411967 ...,  279.94642345\n",
      "   289.27668416  380.34852438]\n",
      " [ 135.07405376  109.658561     81.74350127 ...,  256.19523805  277.\n",
      "   340.48935372]\n",
      " [  80.62257748   55.31726674   28.65309756 ...,  243.00823031\n",
      "   275.34705373  306.        ]\n",
      " ..., \n",
      " [ 250.28383887  239.06902769  229.65408771 ...,   23.34523506\n",
      "    45.27692569  167.88686667]\n",
      " [ 292.49957265  279.6926885   267.91229908 ...,   62.16912417    0.          198.        ]\n",
      " [ 267.76108754  273.24714088  282.30657095 ...,  144.54411091  198.            0.        ]]\n"
     ]
    }
   ],
   "source": [
    "cost = cdist(coords_A, coords_B)\n",
    "print(cost)"
   ]
  },
  {
   "cell_type": "code",
   "execution_count": 297,
   "metadata": {
    "collapsed": true
   },
   "outputs": [],
   "source": [
    "row_ind, col_ind = linear_sum_assignment(cost)"
   ]
  },
  {
   "cell_type": "code",
   "execution_count": 298,
   "metadata": {},
   "outputs": [
    {
     "data": {
      "text/plain": [
       "array([ 38.01315562,  27.01851217,  16.03121954,   5.09901951,\n",
       "        44.01136217,   0.        ,  38.01315562,  35.12833614,\n",
       "         7.28010989,  22.02271555,  15.55634919,  11.        ,\n",
       "         6.        ,   0.        ,  48.54894438,   9.8488578 ,\n",
       "        27.01851217,  10.81665383,  19.41648784,  28.46049894,\n",
       "        25.17935662,  44.01136217,  21.9544984 ,  18.97366596,\n",
       "         9.21954446,  19.6468827 ,  15.8113883 ,  11.        ,\n",
       "         7.61577311,   0.        ,  23.76972865,  19.6468827 ,\n",
       "        18.        ,  13.92838828,  16.03121954,  11.        ,\n",
       "         8.94427191,  16.1245155 ,  13.45362405,   9.48683298,\n",
       "         6.40312424,  36.87817783,  17.        ,   0.        ,\n",
       "         0.        ,  11.        ,   5.        ,   0.        ,\n",
       "        19.84943324,  17.        ,   9.21954446,  19.6468827 ,\n",
       "        18.24828759,  10.04987562,   5.        ,  13.        ,\n",
       "         8.60232527,  13.        ,  25.49509757,  20.39607805,\n",
       "         0.        ,   0.        ,  17.        ,   0.        ,\n",
       "        13.34166406,   5.        ,   1.        ,  13.45362405,\n",
       "        27.01851217,  16.        ,   5.        ,   0.        ,\n",
       "         0.        ,   0.        ,   0.        ])"
      ]
     },
     "execution_count": 298,
     "metadata": {},
     "output_type": "execute_result"
    }
   ],
   "source": [
    "cost[row_ind, col_ind]"
   ]
  },
  {
   "cell_type": "code",
   "execution_count": 416,
   "metadata": {},
   "outputs": [
    {
     "name": "stdout",
     "output_type": "stream",
     "text": [
      "[[ 76 226]\n",
      " [ 80 202]\n",
      " [ 58 100]\n",
      " [ 50 210]\n",
      " [ 54 155]\n",
      " [ 52 184]\n",
      " [ 56 129]\n",
      " [ 82 175]\n",
      " [ 60  75]\n",
      " [ 84 116]\n",
      " [105 245]\n",
      " [111 134]\n",
      " [ 89  34]\n",
      " [ 89  65]\n",
      " [119  26]\n",
      " [ 64  20]\n",
      " [105 216]\n",
      " [ 82 144]\n",
      " [ 93  10]\n",
      " [109 192]\n",
      " [ 86  89]\n",
      " [119  55]\n",
      " [115 110]\n",
      " [134 237]\n",
      " [111 165]\n",
      " [115  79]\n",
      " [138 182]\n",
      " [131 261]\n",
      " [134 206]\n",
      " [148  45]\n",
      " [138 151]\n",
      " [169 145]\n",
      " [162 255]\n",
      " [180  59]\n",
      " [140 124]\n",
      " [144  69]\n",
      " [144 100]\n",
      " [162 224]\n",
      " [166 200]\n",
      " [191 245]\n",
      " [180  10]\n",
      " [170 114]\n",
      " [185 296]\n",
      " [187 269]\n",
      " [191 214]\n",
      " [166 169]\n",
      " [199 135]\n",
      " [173  90]\n",
      " [220 204]\n",
      " [195 159]\n",
      " [201 108]\n",
      " [195 190]\n",
      " [218 262]\n",
      " [214 315]\n",
      " [220 235]\n",
      " [202  80]\n",
      " [216 290]]\n"
     ]
    }
   ],
   "source": [
    "new_coords_B = coords_B[col_ind]\n",
    "print(new_coords_B)"
   ]
  },
  {
   "cell_type": "markdown",
   "metadata": {},
   "source": [
    "#### Example 2"
   ]
  },
  {
   "cell_type": "code",
   "execution_count": 3,
   "metadata": {},
   "outputs": [
    {
     "data": {
      "image/png": "[encoded data removed]",
      "text/plain": [
       "<matplotlib.figure.Figure at 0x11454ad30>"
      ]
     },
     "metadata": {},
     "output_type": "display_data"
    }
   ],
   "source": [
    "import matplotlib.pyplot as plt\n",
    "import matplotlib.image as mpimg\n",
    "from skimage.feature import corner_harris, corner_peaks\n",
    "from PIL import Image\n",
    "\n",
    "\n",
    "fname = 'SA_2.jpeg'\n",
    "image_1 = Image.open(fname).convert(\"L\")\n",
    "arr = np.asarray(image_1)\n",
    "coords_SA_1 = corner_peaks(corner_harris(image_1), min_distance = 10)\n",
    "plt.imshow(arr, cmap = 'gray')\n",
    "plt.show()"
   ]
  },
  {
   "cell_type": "code",
   "execution_count": 4,
   "metadata": {
    "scrolled": false
   },
   "outputs": [
    {
     "data": {
      "text/plain": [
       "array([[  32,  924],\n",
       "       [  35,   44],\n",
       "       [  35,   93],\n",
       "       [  38, 1164],\n",
       "       [  40, 1018],\n",
       "       [  43,  922],\n",
       "       [  52,   69],\n",
       "       [  68,  927],\n",
       "       [  82, 1164],\n",
       "       [  89,  902],\n",
       "       [  89,  949],\n",
       "       [  93,  889],\n",
       "       [  94,   44],\n",
       "       [  94,   93],\n",
       "       [ 138,   29],\n",
       "       [ 138,  312],\n",
       "       [ 138,  677],\n",
       "       [ 165,  314],\n",
       "       [ 165,  676],\n",
       "       [ 404,  450],\n",
       "       [ 405,  613],\n",
       "       [ 405,  762],\n",
       "       [ 406,   95],\n",
       "       [ 406, 1145],\n",
       "       [ 429,  118],\n",
       "       [ 429, 1122],\n",
       "       [ 520,  184],\n",
       "       [ 520,  196],\n",
       "       [ 520,  208],\n",
       "       [ 520,  219],\n",
       "       [ 520,  231],\n",
       "       [ 520,  242],\n",
       "       [ 520,  301],\n",
       "       [ 520,  321],\n",
       "       [ 520,  363],\n",
       "       [ 520,  377],\n",
       "       [ 520,  401],\n",
       "       [ 520,  413],\n",
       "       [ 520,  481],\n",
       "       [ 520,  496],\n",
       "       [ 520,  564],\n",
       "       [ 520,  606],\n",
       "       [ 520,  649],\n",
       "       [ 520,  692],\n",
       "       [ 520,  730],\n",
       "       [ 520,  749],\n",
       "       [ 520,  764],\n",
       "       [ 520,  783],\n",
       "       [ 520,  796],\n",
       "       [ 520,  819],\n",
       "       [ 520,  840],\n",
       "       [ 520,  854],\n",
       "       [ 520,  893],\n",
       "       [ 520,  907],\n",
       "       [ 520,  928],\n",
       "       [ 520,  942],\n",
       "       [ 520,  962],\n",
       "       [ 520,  974],\n",
       "       [ 520,  997],\n",
       "       [ 520, 1013],\n",
       "       [ 520, 1027],\n",
       "       [ 520, 1050],\n",
       "       [ 520, 1063],\n",
       "       [ 531,   93],\n",
       "       [ 532,  321],\n",
       "       [ 532,  564],\n",
       "       [ 532,  606],\n",
       "       [ 532,  649],\n",
       "       [ 532,  692],\n",
       "       [ 533,  342],\n",
       "       [ 533,  586],\n",
       "       [ 533,  628],\n",
       "       [ 533,  670],\n",
       "       [ 533,  714],\n",
       "       [ 537,  382],\n",
       "       [ 537,  396],\n",
       "       [ 537, 1031],\n",
       "       [ 537, 1046],\n",
       "       [ 543,  294],\n",
       "       [ 545,  282],\n",
       "       [ 548,  512],\n",
       "       [ 548,  862],\n",
       "       [ 548,  885],\n",
       "       [ 549,  526],\n",
       "       [ 550,  393],\n",
       "       [ 550, 1034],\n",
       "       [ 555,  586],\n",
       "       [ 555,  714],\n",
       "       [ 557,  571],\n",
       "       [ 557,  699],\n",
       "       [ 559,  862],\n",
       "       [ 559,  885],\n",
       "       [ 566,   93],\n",
       "       [ 568,  571],\n",
       "       [ 568,  699],\n",
       "       [ 570,  586],\n",
       "       [ 570,  714],\n",
       "       [ 572,  527],\n",
       "       [ 573,  513],\n",
       "       [ 577,  262],\n",
       "       [ 580,  249],\n",
       "       [ 587,  480],\n",
       "       [ 587,  498],\n",
       "       [ 587,  586],\n",
       "       [ 587,  714],\n",
       "       [ 587,  748],\n",
       "       [ 587,  766],\n",
       "       [ 587,  926],\n",
       "       [ 587,  944],\n",
       "       [ 589,  467],\n",
       "       [ 589,  510],\n",
       "       [ 589,  565],\n",
       "       [ 589,  693],\n",
       "       [ 589,  735],\n",
       "       [ 589,  778],\n",
       "       [ 589,  913],\n",
       "       [ 589,  957],\n",
       "       [ 601,  184],\n",
       "       [ 601,  201],\n",
       "       [ 601,  225],\n",
       "       [ 601,  242],\n",
       "       [ 601,  301],\n",
       "       [ 601,  315],\n",
       "       [ 601,  344],\n",
       "       [ 601,  358],\n",
       "       [ 601,  381],\n",
       "       [ 601,  395],\n",
       "       [ 601,  417],\n",
       "       [ 601,  430],\n",
       "       [ 601,  448],\n",
       "       [ 601,  467],\n",
       "       [ 601,  510],\n",
       "       [ 601,  565],\n",
       "       [ 601,  602],\n",
       "       [ 601,  630],\n",
       "       [ 601,  643],\n",
       "       [ 601,  672],\n",
       "       [ 601,  693],\n",
       "       [ 601,  735],\n",
       "       [ 601,  784],\n",
       "       [ 601,  830],\n",
       "       [ 601,  854],\n",
       "       [ 601,  893],\n",
       "       [ 601,  907],\n",
       "       [ 601,  957],\n",
       "       [ 601,  972],\n",
       "       [ 601,  993],\n",
       "       [ 601, 1008],\n",
       "       [ 601, 1031],\n",
       "       [ 601, 1045],\n",
       "       [ 632,  635],\n",
       "       [ 677,  633],\n",
       "       [ 679,  655],\n",
       "       [ 717,  175],\n",
       "       [ 717,  266],\n",
       "       [ 717,  311],\n",
       "       [ 717,  347],\n",
       "       [ 717,  637],\n",
       "       [ 717,  658],\n",
       "       [ 717,  695],\n",
       "       [ 717,  742],\n",
       "       [ 717,  778],\n",
       "       [ 717,  823],\n",
       "       [ 717,  853],\n",
       "       [ 717,  901],\n",
       "       [ 717,  932],\n",
       "       [ 717,  978],\n",
       "       [ 717, 1034],\n",
       "       [ 717, 1068],\n",
       "       [ 747,  175],\n",
       "       [ 749,  229],\n",
       "       [ 749,  599],\n",
       "       [ 785, 1022],\n",
       "       [ 786,  989],\n",
       "       [ 815,  992],\n",
       "       [ 815, 1019],\n",
       "       [ 843,  229],\n",
       "       [ 845,  194],\n",
       "       [ 874,  194],\n",
       "       [ 876,  229],\n",
       "       [ 952,  740],\n",
       "       [ 952,  780],\n",
       "       [ 953,  229],\n",
       "       [ 953,  309],\n",
       "       [ 953,  349],\n",
       "       [ 953,  599],\n",
       "       [ 954,  178],\n",
       "       [ 954,  274],\n",
       "       [ 954,  705],\n",
       "       [ 954,  814],\n",
       "       [ 955,  383],\n",
       "       [ 986,  178],\n",
       "       [ 986,  274],\n",
       "       [ 986,  383],\n",
       "       [ 986,  637],\n",
       "       [ 986,  659],\n",
       "       [ 986,  705],\n",
       "       [ 986,  823],\n",
       "       [ 986,  854],\n",
       "       [ 986,  898],\n",
       "       [ 986,  932],\n",
       "       [ 987,  986],\n",
       "       [ 987, 1023],\n",
       "       [ 988, 1147],\n",
       "       [1021,  598],\n",
       "       [1021,  636],\n",
       "       [1022,  572],\n",
       "       [1022,  650],\n",
       "       [1045,  587],\n",
       "       [1045,  624],\n",
       "       [1056,  624],\n",
       "       [1067,  649],\n",
       "       [1069,  573],\n",
       "       [1069,  670],\n",
       "       [1076,  598],\n",
       "       [1076,  636],\n",
       "       [1128,  118],\n",
       "       [1128, 1122],\n",
       "       [1151, 1145],\n",
       "       [1153,  759],\n",
       "       [1215,  690],\n",
       "       [1217,  406],\n",
       "       [1217,  836],\n",
       "       [1240,  429],\n",
       "       [1240,  813],\n",
       "       [1276,  488],\n",
       "       [1276,  506],\n",
       "       [1276,  648],\n",
       "       [1276,  702],\n",
       "       [1277,  598],\n",
       "       [1277,  636],\n",
       "       [1278,  610],\n",
       "       [1278,  672],\n",
       "       [1278,  684],\n",
       "       [1278,  715],\n",
       "       [1287,  535],\n",
       "       [1287,  739],\n",
       "       [1289,  663],\n",
       "       [1291,  617],\n",
       "       [1291,  628],\n",
       "       [1304,  488],\n",
       "       [1304,  598],\n",
       "       [1304,  636],\n",
       "       [1304,  672],\n",
       "       [1304,  684],\n",
       "       [1305,  513],\n",
       "       [1305,  535],\n",
       "       [1305,  554],\n",
       "       [1305,  648],\n",
       "       [1305,  709],\n",
       "       [1305,  739],\n",
       "       [1316,  838],\n",
       "       [1318,  616],\n",
       "       [1318,  649],\n",
       "       [1318,  752],\n",
       "       [1319,  522],\n",
       "       [1319,  552],\n",
       "       [1319,  572],\n",
       "       [1319,  598],\n",
       "       [1319,  637],\n",
       "       [1319,  671],\n",
       "       [1319,  692],\n",
       "       [1320,  736],\n",
       "       [1330,  618],\n",
       "       [1334,  544],\n",
       "       [1334,  663],\n",
       "       [1339,  733],\n",
       "       [1341,  636],\n",
       "       [1346,  515],\n",
       "       [1346,  552],\n",
       "       [1346,  598],\n",
       "       [1347,  482],\n",
       "       [1347,  531],\n",
       "       [1347,  581],\n",
       "       [1347,  649],\n",
       "       [1347,  664],\n",
       "       [1347,  701]])"
      ]
     },
     "execution_count": 4,
     "metadata": {},
     "output_type": "execute_result"
    }
   ],
   "source": [
    "coords_SA_1"
   ]
  },
  {
   "cell_type": "code",
   "execution_count": 5,
   "metadata": {},
   "outputs": [
    {
     "data": {
      "text/plain": [
       "(277, 2)"
      ]
     },
     "execution_count": 5,
     "metadata": {},
     "output_type": "execute_result"
    }
   ],
   "source": [
    "coords_SA_1.shape"
   ]
  },
  {
   "cell_type": "code",
   "execution_count": 6,
   "metadata": {},
   "outputs": [
    {
     "data": {
      "image/png": "[encoded data removed]",
      "text/plain": [
       "<matplotlib.figure.Figure at 0x110714550>"
      ]
     },
     "metadata": {},
     "output_type": "display_data"
    }
   ],
   "source": [
    "from PIL import Image\n",
    "from skimage import data \n",
    "from skimage.transform import rotate\n",
    "\n",
    "fname = 'SA_2.jpeg'\n",
    "image_2 = Image.open(fname).convert(\"L\")\n",
    "arr = np.asarray(image_2)\n",
    "new_pic = rotate(arr, 180)\n",
    "coords_SA_2 = corner_peaks(corner_harris(new_pic), min_distance = 10)\n",
    "\n",
    "plt.imshow(arr, cmap = 'gray')\n",
    "from skimage.io import imshow, show\n",
    "imshow(new_pic)\n",
    "show()"
   ]
  },
  {
   "cell_type": "code",
   "execution_count": 7,
   "metadata": {
    "scrolled": false
   },
   "outputs": [
    {
     "name": "stdout",
     "output_type": "stream",
     "text": [
      "[[  32  518]\n",
      " [  32  555]\n",
      " [  32  570]\n",
      " [  32  638]\n",
      " [  32  688]\n",
      " [  32  737]\n",
      " [  33  621]\n",
      " [  33  667]\n",
      " [  33  704]\n",
      " [  38  583]\n",
      " [  40  486]\n",
      " [  45  556]\n",
      " [  45  675]\n",
      " [  49  601]\n",
      " [  59  483]\n",
      " [  60  527]\n",
      " [  60  548]\n",
      " [  60  582]\n",
      " [  60  621]\n",
      " [  60  647]\n",
      " [  60  667]\n",
      " [  60  697]\n",
      " [  61  467]\n",
      " [  61  570]\n",
      " [  61  603]\n",
      " [  63  381]\n",
      " [  74  480]\n",
      " [  74  510]\n",
      " [  74  571]\n",
      " [  74  665]\n",
      " [  74  684]\n",
      " [  74  706]\n",
      " [  75  535]\n",
      " [  75  547]\n",
      " [  75  583]\n",
      " [  75  621]\n",
      " [  75  731]\n",
      " [  88  591]\n",
      " [  88  602]\n",
      " [  90  556]\n",
      " [  92  480]\n",
      " [  92  684]\n",
      " [ 101  504]\n",
      " [ 101  535]\n",
      " [ 101  547]\n",
      " [ 101  609]\n",
      " [ 102  583]\n",
      " [ 102  621]\n",
      " [ 103  517]\n",
      " [ 103  571]\n",
      " [ 103  713]\n",
      " [ 103  731]\n",
      " [ 139  406]\n",
      " [ 139  790]\n",
      " [ 162  383]\n",
      " [ 162  813]\n",
      " [ 164  529]\n",
      " [ 226  460]\n",
      " [ 228   74]\n",
      " [ 251   97]\n",
      " [ 251 1101]\n",
      " [ 303  583]\n",
      " [ 303  621]\n",
      " [ 310  549]\n",
      " [ 310  646]\n",
      " [ 312  570]\n",
      " [ 323  595]\n",
      " [ 334  595]\n",
      " [ 334  632]\n",
      " [ 357  569]\n",
      " [ 357  647]\n",
      " [ 358  583]\n",
      " [ 358  621]\n",
      " [ 391   72]\n",
      " [ 392  196]\n",
      " [ 392  233]\n",
      " [ 393  287]\n",
      " [ 393  321]\n",
      " [ 393  365]\n",
      " [ 393  396]\n",
      " [ 393  514]\n",
      " [ 393  560]\n",
      " [ 393  582]\n",
      " [ 393  836]\n",
      " [ 393  945]\n",
      " [ 393 1041]\n",
      " [ 424  836]\n",
      " [ 425  405]\n",
      " [ 425  514]\n",
      " [ 425  945]\n",
      " [ 425 1041]\n",
      " [ 426  620]\n",
      " [ 426  870]\n",
      " [ 426  910]\n",
      " [ 426  990]\n",
      " [ 427  439]\n",
      " [ 427  479]\n",
      " [ 503  990]\n",
      " [ 505 1025]\n",
      " [ 534 1025]\n",
      " [ 536  990]\n",
      " [ 564  200]\n",
      " [ 564  227]\n",
      " [ 593  230]\n",
      " [ 594  197]\n",
      " [ 630  620]\n",
      " [ 630  990]\n",
      " [ 632 1044]\n",
      " [ 662  151]\n",
      " [ 662  185]\n",
      " [ 662  241]\n",
      " [ 662  287]\n",
      " [ 662  318]\n",
      " [ 662  366]\n",
      " [ 662  396]\n",
      " [ 662  441]\n",
      " [ 662  477]\n",
      " [ 662  524]\n",
      " [ 662  561]\n",
      " [ 662  582]\n",
      " [ 662  872]\n",
      " [ 662  908]\n",
      " [ 662  953]\n",
      " [ 662 1044]\n",
      " [ 700  564]\n",
      " [ 702  586]\n",
      " [ 747  584]\n",
      " [ 778  174]\n",
      " [ 778  188]\n",
      " [ 778  211]\n",
      " [ 778  226]\n",
      " [ 778  247]\n",
      " [ 778  262]\n",
      " [ 778  312]\n",
      " [ 778  326]\n",
      " [ 778  365]\n",
      " [ 778  389]\n",
      " [ 778  435]\n",
      " [ 778  484]\n",
      " [ 778  526]\n",
      " [ 778  547]\n",
      " [ 778  576]\n",
      " [ 778  589]\n",
      " [ 778  617]\n",
      " [ 778  654]\n",
      " [ 778  709]\n",
      " [ 778  752]\n",
      " [ 778  771]\n",
      " [ 778  789]\n",
      " [ 778  802]\n",
      " [ 778  824]\n",
      " [ 778  838]\n",
      " [ 778  861]\n",
      " [ 778  875]\n",
      " [ 778  904]\n",
      " [ 778  918]\n",
      " [ 778  977]\n",
      " [ 778  994]\n",
      " [ 778 1018]\n",
      " [ 778 1035]\n",
      " [ 790  262]\n",
      " [ 790  306]\n",
      " [ 790  441]\n",
      " [ 790  484]\n",
      " [ 790  526]\n",
      " [ 790  654]\n",
      " [ 790  709]\n",
      " [ 790  752]\n",
      " [ 792  275]\n",
      " [ 792  293]\n",
      " [ 792  453]\n",
      " [ 792  471]\n",
      " [ 792  505]\n",
      " [ 792  633]\n",
      " [ 792  721]\n",
      " [ 792  739]\n",
      " [ 799  970]\n",
      " [ 802  957]\n",
      " [ 806  706]\n",
      " [ 807  692]\n",
      " [ 809  505]\n",
      " [ 809  633]\n",
      " [ 811  520]\n",
      " [ 811  648]\n",
      " [ 813 1126]\n",
      " [ 820  334]\n",
      " [ 820  357]\n",
      " [ 822  520]\n",
      " [ 822  648]\n",
      " [ 824  505]\n",
      " [ 824  633]\n",
      " [ 829  185]\n",
      " [ 829  826]\n",
      " [ 830  693]\n",
      " [ 831  334]\n",
      " [ 831  357]\n",
      " [ 831  707]\n",
      " [ 834  937]\n",
      " [ 836  925]\n",
      " [ 842  173]\n",
      " [ 842  188]\n",
      " [ 842  823]\n",
      " [ 842  837]\n",
      " [ 846  505]\n",
      " [ 846  549]\n",
      " [ 846  591]\n",
      " [ 846  633]\n",
      " [ 846  877]\n",
      " [ 847  527]\n",
      " [ 847  570]\n",
      " [ 847  613]\n",
      " [ 847  655]\n",
      " [ 847  898]\n",
      " [ 848 1126]\n",
      " [ 859  156]\n",
      " [ 859  169]\n",
      " [ 859  192]\n",
      " [ 859  206]\n",
      " [ 859  222]\n",
      " [ 859  245]\n",
      " [ 859  257]\n",
      " [ 859  277]\n",
      " [ 859  291]\n",
      " [ 859  312]\n",
      " [ 859  326]\n",
      " [ 859  365]\n",
      " [ 859  379]\n",
      " [ 859  400]\n",
      " [ 859  423]\n",
      " [ 859  436]\n",
      " [ 859  455]\n",
      " [ 859  470]\n",
      " [ 859  489]\n",
      " [ 859  527]\n",
      " [ 859  570]\n",
      " [ 859  613]\n",
      " [ 859  655]\n",
      " [ 859  723]\n",
      " [ 859  738]\n",
      " [ 859  806]\n",
      " [ 859  818]\n",
      " [ 859  842]\n",
      " [ 859  856]\n",
      " [ 859  898]\n",
      " [ 859  918]\n",
      " [ 859  977]\n",
      " [ 859  988]\n",
      " [ 859 1000]\n",
      " [ 859 1011]\n",
      " [ 859 1023]\n",
      " [ 859 1035]\n",
      " [ 950   97]\n",
      " [ 950 1101]\n",
      " [ 973   74]\n",
      " [ 973 1124]\n",
      " [ 974  457]\n",
      " [ 974  606]\n",
      " [ 975  769]\n",
      " [1214  543]\n",
      " [1214  905]\n",
      " [1241  542]\n",
      " [1241  907]\n",
      " [1241 1190]\n",
      " [1285 1126]\n",
      " [1285 1175]\n",
      " [1286  330]\n",
      " [1290  270]\n",
      " [1290  317]\n",
      " [1297   55]\n",
      " [1311  292]\n",
      " [1327 1150]\n",
      " [1336  297]\n",
      " [1339  201]\n",
      " [1341   55]\n",
      " [1344 1126]\n",
      " [1344 1175]\n",
      " [1347  295]]\n"
     ]
    }
   ],
   "source": [
    "print(coords_SA_2)"
   ]
  },
  {
   "cell_type": "code",
   "execution_count": 8,
   "metadata": {},
   "outputs": [
    {
     "data": {
      "text/plain": [
       "(277, 2)"
      ]
     },
     "execution_count": 8,
     "metadata": {},
     "output_type": "execute_result"
    }
   ],
   "source": [
    "coords_SA_2.shape"
   ]
  },
  {
   "cell_type": "code",
   "execution_count": 9,
   "metadata": {
    "collapsed": true
   },
   "outputs": [],
   "source": [
    "cost = cdist(coords_SA_2, coords_SA_1)"
   ]
  },
  {
   "cell_type": "code",
   "execution_count": 10,
   "metadata": {
    "collapsed": true
   },
   "outputs": [],
   "source": [
    "row_ind, col_ind = linear_sum_assignment(cost)"
   ]
  },
  {
   "cell_type": "code",
   "execution_count": 11,
   "metadata": {
    "collapsed": true
   },
   "outputs": [],
   "source": [
    "fixed_coords_SA_2 = coords_SA_2[col_ind]"
   ]
  },
  {
   "cell_type": "code",
   "execution_count": 12,
   "metadata": {
    "scrolled": false
   },
   "outputs": [
    {
     "name": "stdout",
     "output_type": "stream",
     "text": [
      "[[  32  570]\n",
      " [ 101  504]\n",
      " [ 427  479]\n",
      " [  33  704]\n",
      " [  32  638]\n",
      " [  32  518]\n",
      " [  60  621]\n",
      " [  32  737]\n",
      " [  32  688]\n",
      " [ 101  547]\n",
      " [  32  555]\n",
      " [ 424  836]\n",
      " [  33  667]\n",
      " [ 103  517]\n",
      " [  33  621]\n",
      " [ 392  233]\n",
      " [ 426  910]\n",
      " [ 662  366]\n",
      " [ 103  571]\n",
      " [  60  548]\n",
      " [ 425 1041]\n",
      " [  40  486]\n",
      " [  49  601]\n",
      " [ 101  535]\n",
      " [ 102  583]\n",
      " [  45  675]\n",
      " [  60  527]\n",
      " [ 310  646]\n",
      " [ 334  632]\n",
      " [ 103  713]\n",
      " [ 103  731]\n",
      " [  45  556]\n",
      " [ 393  945]\n",
      " [ 393  836]\n",
      " [ 391   72]\n",
      " [  60  697]\n",
      " [  38  583]\n",
      " [ 630  620]\n",
      " [ 630  990]\n",
      " [ 425  514]\n",
      " [  75  535]\n",
      " [ 393  560]\n",
      " [ 392  196]\n",
      " [  60  647]\n",
      " [ 503  990]\n",
      " [ 101  609]\n",
      " [ 594  197]\n",
      " [ 102  621]\n",
      " [  75  731]\n",
      " [ 358  621]\n",
      " [ 426  620]\n",
      " [ 162  383]\n",
      " [  60  582]\n",
      " [ 164  529]\n",
      " [  74  706]\n",
      " [ 251 1101]\n",
      " [  90  556]\n",
      " [  75  583]\n",
      " [  59  483]\n",
      " [  61  603]\n",
      " [  61  570]\n",
      " [  92  684]\n",
      " [ 662  318]\n",
      " [ 312  570]\n",
      " [ 425  405]\n",
      " [ 427  439]\n",
      " [  60  667]\n",
      " [ 358  583]\n",
      " [ 426  990]\n",
      " [ 593  230]\n",
      " [ 425  945]\n",
      " [ 323  595]\n",
      " [ 778  389]\n",
      " [  61  467]\n",
      " [  74  480]\n",
      " [  74  571]\n",
      " [  74  684]\n",
      " [ 393  365]\n",
      " [  75  547]\n",
      " [ 357  569]\n",
      " [ 393  514]\n",
      " [  92  480]\n",
      " [ 357  647]\n",
      " [ 139  406]\n",
      " [ 251   97]\n",
      " [  63  381]\n",
      " [ 393  582]\n",
      " [  75  621]\n",
      " [ 505 1025]\n",
      " [ 226  460]\n",
      " [ 303  621]\n",
      " [ 334  595]\n",
      " [ 139  790]\n",
      " [ 162  813]\n",
      " [ 303  583]\n",
      " [  88  591]\n",
      " [  88  602]\n",
      " [ 228   74]\n",
      " [ 393  321]\n",
      " [ 393  287]\n",
      " [ 393 1041]\n",
      " [  74  510]\n",
      " [  74  665]\n",
      " [ 536  990]\n",
      " [ 662  561]\n",
      " [ 778  326]\n",
      " [ 778  752]\n",
      " [ 778  789]\n",
      " [ 310  549]\n",
      " [ 662  524]\n",
      " [ 662  872]\n",
      " [ 662  908]\n",
      " [ 662  953]\n",
      " [ 702  586]\n",
      " [ 778  174]\n",
      " [ 778  211]\n",
      " [ 564  200]\n",
      " [ 662  241]\n",
      " [ 662  287]\n",
      " [ 778  312]\n",
      " [ 778  589]\n",
      " [ 632 1044]\n",
      " [ 662  477]\n",
      " [ 778  771]\n",
      " [ 778  262]\n",
      " [ 778  365]\n",
      " [ 778  824]\n",
      " [ 426  870]\n",
      " [ 792  293]\n",
      " [ 778  875]\n",
      " [ 792  453]\n",
      " [ 662  582]\n",
      " [ 534 1025]\n",
      " [ 700  564]\n",
      " [ 778  977]\n",
      " [ 747  584]\n",
      " [ 778  188]\n",
      " [ 662  185]\n",
      " [ 564  227]\n",
      " [ 778  247]\n",
      " [ 846  549]\n",
      " [ 778  838]\n",
      " [ 792  471]\n",
      " [ 778  994]\n",
      " [ 778  861]\n",
      " [ 778  435]\n",
      " [ 662  396]\n",
      " [ 790  306]\n",
      " [ 778  547]\n",
      " [ 790  441]\n",
      " [ 778  576]\n",
      " [ 790  484]\n",
      " [ 778  617]\n",
      " [ 662  441]\n",
      " [ 790  526]\n",
      " [ 790  654]\n",
      " [ 790  709]\n",
      " [ 778  709]\n",
      " [ 792  505]\n",
      " [ 790  752]\n",
      " [ 778  904]\n",
      " [ 662 1044]\n",
      " [ 778  226]\n",
      " [1214  905]\n",
      " [ 859  156]\n",
      " [ 778 1018]\n",
      " [ 778 1035]\n",
      " [ 778  526]\n",
      " [ 393  396]\n",
      " [ 778  918]\n",
      " [ 859  738]\n",
      " [ 859  806]\n",
      " [ 859  455]\n",
      " [ 846  877]\n",
      " [ 778  484]\n",
      " [ 790  262]\n",
      " [ 792  633]\n",
      " [ 778  654]\n",
      " [ 822  648]\n",
      " [ 859  489]\n",
      " [1344 1126]\n",
      " [ 847  655]\n",
      " [ 847  527]\n",
      " [1241  542]\n",
      " [ 778  802]\n",
      " [ 859  379]\n",
      " [ 974  606]\n",
      " [ 846  633]\n",
      " [ 859  723]\n",
      " [ 847  898]\n",
      " [1286  330]\n",
      " [ 799  970]\n",
      " [ 859  918]\n",
      " [ 859  898]\n",
      " [ 824  633]\n",
      " [ 859  613]\n",
      " [ 831  707]\n",
      " [ 662  151]\n",
      " [ 842  173]\n",
      " [ 806  706]\n",
      " [ 802  957]\n",
      " [1241  907]\n",
      " [ 859  570]\n",
      " [ 859  856]\n",
      " [ 859  400]\n",
      " [ 847  570]\n",
      " [ 831  334]\n",
      " [ 834  937]\n",
      " [ 859 1011]\n",
      " [ 820  334]\n",
      " [ 846  591]\n",
      " [ 848 1126]\n",
      " [ 859 1023]\n",
      " [ 792  275]\n",
      " [ 820  357]\n",
      " [ 811  520]\n",
      " [ 859  277]\n",
      " [ 829  826]\n",
      " [ 807  692]\n",
      " [ 822  520]\n",
      " [ 859  312]\n",
      " [ 811  648]\n",
      " [ 859  365]\n",
      " [ 813 1126]\n",
      " [ 830  693]\n",
      " [ 859  988]\n",
      " [ 859 1000]\n",
      " [1214  543]\n",
      " [1285 1126]\n",
      " [ 859  436]\n",
      " [ 950 1101]\n",
      " [ 859  470]\n",
      " [1290  317]\n",
      " [ 973   74]\n",
      " [1344 1175]\n",
      " [ 859  169]\n",
      " [ 831  357]\n",
      " [ 859  257]\n",
      " [ 809  505]\n",
      " [ 809  633]\n",
      " [ 859  423]\n",
      " [ 824  505]\n",
      " [ 859  245]\n",
      " [ 836  925]\n",
      " [ 859  655]\n",
      " [ 859  291]\n",
      " [ 842  188]\n",
      " [ 792  721]\n",
      " [ 842  823]\n",
      " [ 792  739]\n",
      " [ 842  837]\n",
      " [ 829  185]\n",
      " [ 859  206]\n",
      " [ 859  192]\n",
      " [ 846  505]\n",
      " [ 859  842]\n",
      " [ 847  613]\n",
      " [ 859  527]\n",
      " [1327 1150]\n",
      " [ 859  326]\n",
      " [ 975  769]\n",
      " [ 859 1035]\n",
      " [ 859  222]\n",
      " [ 973 1124]\n",
      " [ 950   97]\n",
      " [ 859  977]\n",
      " [ 974  457]\n",
      " [ 859  818]\n",
      " [1341   55]\n",
      " [1285 1175]\n",
      " [1241 1190]\n",
      " [1311  292]\n",
      " [1297   55]\n",
      " [1339  201]\n",
      " [1347  295]\n",
      " [1290  270]\n",
      " [1336  297]]\n"
     ]
    }
   ],
   "source": [
    "print(fixed_coords_SA_2)"
   ]
  },
  {
   "cell_type": "code",
   "execution_count": 13,
   "metadata": {},
   "outputs": [
    {
     "data": {
      "text/plain": [
       "(277, 2)"
      ]
     },
     "execution_count": 13,
     "metadata": {},
     "output_type": "execute_result"
    }
   ],
   "source": [
    "fixed_coords_SA_2.shape"
   ]
  },
  {
   "cell_type": "code",
   "execution_count": 14,
   "metadata": {},
   "outputs": [
    {
     "data": {
      "image/png": "[encoded data removed]",
      "text/plain": [
       "<matplotlib.figure.Figure at 0x1041b5198>"
      ]
     },
     "metadata": {},
     "output_type": "display_data"
    }
   ],
   "source": [
    "fig = plt.figure()\n",
    "x = fig.add_subplot(1, 2, 1)\n",
    "imgplot = plt.imshow(image_1)\n",
    "x.set_title('Before')\n",
    "\n",
    "x = fig.add_subplot(1, 2, 2)\n",
    "imgplot = plt.imshow(new_pic)\n",
    "x.set_title('After')\n",
    "plt.show()"
   ]
  }
 ],
 "metadata": {
  "kernelspec": {
   "display_name": "Python 3",
   "language": "python",
   "name": "python3"
  },
  "language_info": {
   "codemirror_mode": {
    "name": "ipython",
    "version": 3
   },
   "file_extension": ".py",
   "mimetype": "text/x-python",
   "name": "python",
   "nbconvert_exporter": "python",
   "pygments_lexer": "ipython3",
   "version": "3.6.1"
  }
 },
 "nbformat": 4,
 "nbformat_minor": 2
}
