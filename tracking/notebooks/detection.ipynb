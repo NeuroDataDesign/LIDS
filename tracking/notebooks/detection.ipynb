{
 "cells": [
  {
   "cell_type": "code",
   "execution_count": 1,
   "metadata": {},
   "outputs": [],
   "source": [
    "from __future__ import division, unicode_literals, print_function  # for compatibility with Python 2 and 3\n",
    "\n",
    "import matplotlib as mpl\n",
    "import matplotlib.pyplot as plt\n",
    "\n",
    "# the following line only works in an IPython notebook\n",
    "%matplotlib notebook\n",
    "\n",
    "# Optionally, tweak styles.\n",
    "mpl.rc('figure',  figsize=(10, 6))\n",
    "mpl.rc('image', cmap='gray')"
   ]
  },
  {
   "cell_type": "code",
   "execution_count": 2,
   "metadata": {},
   "outputs": [],
   "source": [
    "import numpy as np\n",
    "import pandas as pd\n",
    "from pandas import DataFrame, Series  # for convenience\n",
    "\n",
    "import pims\n",
    "import trackpy as tp\n",
    "\n",
    "from skimage import filters\n",
    "from skimage import feature"
   ]
  },
  {
   "cell_type": "code",
   "execution_count": 19,
   "metadata": {},
   "outputs": [],
   "source": [
    "import numpy as np\n",
    "\n",
    "def p2(binary_in):\n",
    "    \n",
    "    #new labels\n",
    "    labels=np.zeros(binary_in.shape)\n",
    "    next_label=100\n",
    "    \n",
    "    #parent, rank for union find operations\n",
    "    parent = {}\n",
    "    rank = {}\n",
    "\n",
    "    \n",
    "    #define union find operations for resolving equivalences\n",
    "    def find(p):\n",
    "        if p != parent[p]:\n",
    "            parent[p] = find(parent[p])\n",
    "        return parent[p]\n",
    "    \n",
    "    def union(p, q):\n",
    "        root_p = find(p)\n",
    "        root_q = find(q)\n",
    "        if root_p != root_q:\n",
    "            if rank[root_p] < rank[root_q]:\n",
    "                parent[root_p] = root_q\n",
    "            elif rank[root_p] > rank[root_q]:\n",
    "                parent[root_q] = root_p\n",
    "            else:\n",
    "                parent[root_q] = root_p\n",
    "                rank[root_p] += 1\n",
    "\n",
    "    #first pass of labeling\n",
    "    for (x,y), value in np.ndenumerate(binary_in):\n",
    "        if value == 0:\n",
    "            #background\n",
    "            labels[x,y] = 0\n",
    "        else:\n",
    "            try:\n",
    "                #upperleft, left, and upper\n",
    "                neighbors = [binary_in.item((x-1,y-1)), binary_in.item((x-1, y)), binary_in.item((x, y-1))]\n",
    "                #convert into 1s and 0s for easier comparison later\n",
    "                neighbors = [int(neighbors[i] != 0) for i in range(len(neighbors))]\n",
    "                \n",
    "                #labels of neighbors\n",
    "                labels_n = [labels[x-1, y-1], labels[x-1,y], labels[x, y-1]]\n",
    "                labels_n = list(map(int, labels_n))\n",
    "                #Upleft, left, up\n",
    "                \n",
    "                if neighbors == [0,0,0]:\n",
    "                    #new label\n",
    "                    labels[x,y] = next_label\n",
    "                    parent[next_label] = next_label\n",
    "                    rank[next_label] = 0\n",
    "                    next_label += 1\n",
    "                elif neighbors[0] != 0:\n",
    "                    #if upper left is not background, set label to that.\n",
    "                    labels[x,y] = labels_n[0]\n",
    "                elif neighbors == [0, 1, 0]:\n",
    "                    #if left is the only nonbackground, set equal to that.\n",
    "                    labels[x,y] = labels_n[1]\n",
    "                elif neighbors == [0, 0, 1]:\n",
    "                    #if up is the only nonbackground, set equal to that.\n",
    "                    labels[x,y] = labels_n[2]\n",
    "                else:\n",
    "                    #if left and up are both nonbackground and upper left is background\n",
    "                    if labels_n[1] != labels_n[2]:\n",
    "                    #if left and up have different labels, set equivalence of labels\n",
    "                        union(labels_n[1], labels_n[2])\n",
    "                    #set label equal to either of them.\n",
    "                    labels[x,y] = labels_n[2]\n",
    "                    \n",
    "            except IndexError:\n",
    "                #you're on the edge..??? set equal to 0 for now...\n",
    "                labels[x,y] = 0\n",
    "        \n",
    "        \n",
    "    #second pass to relabel objects to numbers you can actually see\n",
    "    #and to resolve equivalences in union find\n",
    "    \n",
    "    #determine new labels\n",
    "    old_labels = list(set(parent.values()))\n",
    "    #new_labels = np.linspace(200, 255, len(set(parent.values()))) \n",
    "    \n",
    "    #relabel everything\n",
    "    for (x,y), label in np.ndenumerate(labels):\n",
    "        label = int(label)\n",
    "        if label in parent.keys() and parent[label] in old_labels:\n",
    "            l = find(label)\n",
    "            #new_l = new_labels[old_labels.index(l)]\n",
    "            labels[x,y] = l  \n",
    "            \n",
    "    return labels\n",
    "\n",
    "#input is nparray\n",
    "def p3(labeled_image): #return [database, output_image]\n",
    "    \n",
    "    labels = np.delete(np.unique(labeled_image),0)\n",
    "    areas = centerx = centery = np.array([])\n",
    "    #centerx is numerator of center_x\n",
    "    #centery is numerator of center_y\n",
    "    \n",
    "    #calculate center and area first in order to get center of mass\n",
    "    for label in labels:\n",
    "        if label%100==0: print(label)\n",
    "        area = cen_x = cen_y = 0\n",
    "        for (x,y), value in np.ndenumerate(labeled_image):\n",
    "            if value == label:\n",
    "                area += 1\n",
    "                cen_x += x\n",
    "                cen_y += y\n",
    "        areas = np.append(areas, area)\n",
    "        centerx = np.append(centerx, cen_x)\n",
    "        centery = np.append(centery, cen_y)\n",
    "    centerx = np.divide(centerx, areas)\n",
    "    centery = np.divide(centery, areas)\n",
    "    position = np.vstack((centerx, centery))\n",
    "    \n",
    "    #need center of mass to\n",
    "    #calculate a,b,c\n",
    "    arr_a = arr_b = arr_c = np.array([])\n",
    "    for i in range(len(labels)):\n",
    "        a = b = c = 0\n",
    "        for (x,y), value in np.ndenumerate(labeled_image):\n",
    "            if value == labels[i]:\n",
    "                xbar = x - centerx[i]\n",
    "                ybar = y - centery[i]\n",
    "                a += ybar * ybar\n",
    "                b += 2 * xbar * ybar\n",
    "                c += xbar * xbar\n",
    "        arr_a = np.append(arr_a, a)\n",
    "        arr_b = np.append(arr_b, b)\n",
    "        arr_c = np.append(arr_c, c)\n",
    "    orientation = 0.5 * np.arctan2(arr_b, np.subtract(arr_a, arr_c))\n",
    "\n",
    "    #find roundnesses\n",
    "    #trust me this works it's just really ugly    \n",
    "    roundness_numerator   = np.add(np.subtract(np.multiply(arr_a, np.square(np.sin(orientation))), np.multiply(arr_b, np.multiply(np.sin(orientation), np.cos(orientation)))), np.multiply(arr_c, np.square(np.cos(orientation))))\n",
    "    roundness_denominator = np.add(np.subtract(np.multiply(arr_a, np.square(np.sin(np.add(orientation, np.pi/2)))), np.multiply(arr_b, np.multiply(np.sin(np.add(orientation, np.pi/2)), np.cos(np.add(orientation, np.pi/2))))),np.multiply(arr_c, np.square(np.cos(np.add(orientation, np.pi/2)))))    \n",
    "    roundness = np.divide(roundness_numerator, roundness_denominator)\n",
    "    \n",
    "    database = {}    \n",
    "    for i in range(len(labels)):\n",
    "        if i%100==0: print(i)\n",
    "        database[labels[i]] = {'position':(position[1][i], position[0][i]), 'orientation':orientation[i], 'area':areas[i], 'roundness':roundness[i]}\n",
    "        \n",
    "    return database\n"
   ]
  },
  {
   "cell_type": "code",
   "execution_count": 4,
   "metadata": {},
   "outputs": [],
   "source": [
    "frames = pims.ImageSequence('../data/huganir/tp*_results0001.tif', as_grey=True)"
   ]
  },
  {
   "cell_type": "code",
   "execution_count": 5,
   "metadata": {},
   "outputs": [],
   "source": [
    "tp1 = pims.open('../data/R04_t001.tif')\n",
    "background1 = tp1[1].clip(-2500, 10000)\n",
    "\n",
    "tp2 = pims.open('../data/R04_t002.tif')\n",
    "background2 = tp2[1].clip(-2500, 10000)\n",
    "\n",
    "tp3 = pims.open('../data/R04_t003.tif')\n",
    "background3 = tp3[1].clip(-2500, 10000)\n",
    "\n",
    "tp4 = pims.open('../data/R04_t004.tif')\n",
    "background4 = tp4[1].clip(-2500, 10000)"
   ]
  },
  {
   "cell_type": "code",
   "execution_count": 6,
   "metadata": {},
   "outputs": [
    {
     "data": {
      "text/plain": [
       "<matplotlib.image.AxesImage at 0x7f70195ad6d8>"
      ]
     },
     "execution_count": 6,
     "metadata": {},
     "output_type": "execute_result"
    },
    {
     "data": {
      "image/png": "[encoded data removed]",
      "text/plain": [
       "<Figure size 432x288 with 4 Axes>"
      ]
     },
     "metadata": {},
     "output_type": "display_data"
    }
   ],
   "source": [
    "thresh0 = filters.threshold_otsu(frames[0])\n",
    "thresh1 = filters.threshold_otsu(frames[1])\n",
    "thresh2 = filters.threshold_otsu(frames[2])\n",
    "thresh3 = filters.threshold_otsu(frames[3])\n",
    "\n",
    "threshim0 = np.array(frames[0]) > thresh0\n",
    "threshim1 = np.array(frames[1]) > thresh1\n",
    "threshim2 = np.array(frames[2]) > thresh2\n",
    "threshim3 = np.array(frames[3]) > thresh3\n",
    "\n",
    "fig, axes = plt.subplots(1, 4, sharey=True)\n",
    "axes[0].imshow(threshim0)\n",
    "axes[1].imshow(threshim1)\n",
    "axes[2].imshow(threshim2)\n",
    "axes[3].imshow(threshim3)"
   ]
  },
  {
   "cell_type": "code",
   "execution_count": null,
   "metadata": {},
   "outputs": [],
   "source": []
  },
  {
   "cell_type": "code",
   "execution_count": null,
   "metadata": {},
   "outputs": [],
   "source": []
  },
  {
   "cell_type": "code",
   "execution_count": 7,
   "metadata": {},
   "outputs": [],
   "source": [
    "f = tp.locate(frames[1], 7)\n",
    "#detect features"
   ]
  },
  {
   "cell_type": "code",
   "execution_count": 8,
   "metadata": {},
   "outputs": [
    {
     "data": {
      "text/html": [
       "<div>\n",
       "<style scoped>\n",
       "    .dataframe tbody tr th:only-of-type {\n",
       "        vertical-align: middle;\n",
       "    }\n",
       "\n",
       "    .dataframe tbody tr th {\n",
       "        vertical-align: top;\n",
       "    }\n",
       "\n",
       "    .dataframe thead th {\n",
       "        text-align: right;\n",
       "    }\n",
       "</style>\n",
       "<table border=\"1\" class=\"dataframe\">\n",
       "  <thead>\n",
       "    <tr style=\"text-align: right;\">\n",
       "      <th></th>\n",
       "      <th>y</th>\n",
       "      <th>x</th>\n",
       "      <th>mass</th>\n",
       "      <th>size</th>\n",
       "      <th>ecc</th>\n",
       "      <th>signal</th>\n",
       "      <th>raw_mass</th>\n",
       "      <th>ep</th>\n",
       "      <th>frame</th>\n",
       "    </tr>\n",
       "  </thead>\n",
       "  <tbody>\n",
       "    <tr>\n",
       "      <th>1</th>\n",
       "      <td>9.000000</td>\n",
       "      <td>902.000000</td>\n",
       "      <td>867.621009</td>\n",
       "      <td>1.025227</td>\n",
       "      <td>0.299290</td>\n",
       "      <td>199.855670</td>\n",
       "      <td>1438.0</td>\n",
       "      <td>0.0</td>\n",
       "      <td>1</td>\n",
       "    </tr>\n",
       "    <tr>\n",
       "      <th>2</th>\n",
       "      <td>11.448216</td>\n",
       "      <td>474.000000</td>\n",
       "      <td>3535.703985</td>\n",
       "      <td>1.344999</td>\n",
       "      <td>0.049888</td>\n",
       "      <td>530.738222</td>\n",
       "      <td>7195.0</td>\n",
       "      <td>0.0</td>\n",
       "      <td>1</td>\n",
       "    </tr>\n",
       "    <tr>\n",
       "      <th>3</th>\n",
       "      <td>13.788933</td>\n",
       "      <td>864.562931</td>\n",
       "      <td>5854.338465</td>\n",
       "      <td>1.573161</td>\n",
       "      <td>0.167871</td>\n",
       "      <td>631.676966</td>\n",
       "      <td>12960.0</td>\n",
       "      <td>0.0</td>\n",
       "      <td>1</td>\n",
       "    </tr>\n",
       "    <tr>\n",
       "      <th>4</th>\n",
       "      <td>14.999900</td>\n",
       "      <td>550.000000</td>\n",
       "      <td>870.229807</td>\n",
       "      <td>1.025786</td>\n",
       "      <td>0.298987</td>\n",
       "      <td>200.333950</td>\n",
       "      <td>1441.0</td>\n",
       "      <td>0.0</td>\n",
       "      <td>1</td>\n",
       "    </tr>\n",
       "    <tr>\n",
       "      <th>5</th>\n",
       "      <td>16.000000</td>\n",
       "      <td>251.000000</td>\n",
       "      <td>871.121146</td>\n",
       "      <td>1.025894</td>\n",
       "      <td>0.298950</td>\n",
       "      <td>200.486129</td>\n",
       "      <td>1442.0</td>\n",
       "      <td>0.0</td>\n",
       "      <td>1</td>\n",
       "    </tr>\n",
       "    <tr>\n",
       "      <th>6</th>\n",
       "      <td>18.000000</td>\n",
       "      <td>65.000000</td>\n",
       "      <td>872.838605</td>\n",
       "      <td>1.026244</td>\n",
       "      <td>0.298816</td>\n",
       "      <td>200.812229</td>\n",
       "      <td>1444.0</td>\n",
       "      <td>0.0</td>\n",
       "      <td>1</td>\n",
       "    </tr>\n",
       "    <tr>\n",
       "      <th>7</th>\n",
       "      <td>17.995435</td>\n",
       "      <td>228.000273</td>\n",
       "      <td>876.208302</td>\n",
       "      <td>1.029211</td>\n",
       "      <td>0.294932</td>\n",
       "      <td>201.007889</td>\n",
       "      <td>1455.0</td>\n",
       "      <td>0.0</td>\n",
       "      <td>1</td>\n",
       "    </tr>\n",
       "    <tr>\n",
       "      <th>8</th>\n",
       "      <td>18.000000</td>\n",
       "      <td>572.000000</td>\n",
       "      <td>874.556063</td>\n",
       "      <td>1.026544</td>\n",
       "      <td>0.298683</td>\n",
       "      <td>201.138329</td>\n",
       "      <td>1446.0</td>\n",
       "      <td>0.0</td>\n",
       "      <td>1</td>\n",
       "    </tr>\n",
       "    <tr>\n",
       "      <th>9</th>\n",
       "      <td>20.231898</td>\n",
       "      <td>265.286967</td>\n",
       "      <td>2996.748050</td>\n",
       "      <td>1.275611</td>\n",
       "      <td>0.365140</td>\n",
       "      <td>477.366562</td>\n",
       "      <td>5788.0</td>\n",
       "      <td>0.0</td>\n",
       "      <td>1</td>\n",
       "    </tr>\n",
       "    <tr>\n",
       "      <th>10</th>\n",
       "      <td>20.000000</td>\n",
       "      <td>723.000000</td>\n",
       "      <td>876.251782</td>\n",
       "      <td>1.026856</td>\n",
       "      <td>0.298518</td>\n",
       "      <td>201.442689</td>\n",
       "      <td>1448.0</td>\n",
       "      <td>0.0</td>\n",
       "      <td>1</td>\n",
       "    </tr>\n",
       "  </tbody>\n",
       "</table>\n",
       "</div>"
      ],
      "text/plain": [
       "            y           x         mass      size       ecc      signal  \\\n",
       "1    9.000000  902.000000   867.621009  1.025227  0.299290  199.855670   \n",
       "2   11.448216  474.000000  3535.703985  1.344999  0.049888  530.738222   \n",
       "3   13.788933  864.562931  5854.338465  1.573161  0.167871  631.676966   \n",
       "4   14.999900  550.000000   870.229807  1.025786  0.298987  200.333950   \n",
       "5   16.000000  251.000000   871.121146  1.025894  0.298950  200.486129   \n",
       "6   18.000000   65.000000   872.838605  1.026244  0.298816  200.812229   \n",
       "7   17.995435  228.000273   876.208302  1.029211  0.294932  201.007889   \n",
       "8   18.000000  572.000000   874.556063  1.026544  0.298683  201.138329   \n",
       "9   20.231898  265.286967  2996.748050  1.275611  0.365140  477.366562   \n",
       "10  20.000000  723.000000   876.251782  1.026856  0.298518  201.442689   \n",
       "\n",
       "    raw_mass   ep  frame  \n",
       "1     1438.0  0.0      1  \n",
       "2     7195.0  0.0      1  \n",
       "3    12960.0  0.0      1  \n",
       "4     1441.0  0.0      1  \n",
       "5     1442.0  0.0      1  \n",
       "6     1444.0  0.0      1  \n",
       "7     1455.0  0.0      1  \n",
       "8     1446.0  0.0      1  \n",
       "9     5788.0  0.0      1  \n",
       "10    1448.0  0.0      1  "
      ]
     },
     "execution_count": 8,
     "metadata": {},
     "output_type": "execute_result"
    }
   ],
   "source": [
    "f.head(10)"
   ]
  },
  {
   "cell_type": "code",
   "execution_count": 9,
   "metadata": {},
   "outputs": [
    {
     "data": {
      "text/plain": [
       "<matplotlib.collections.PathCollection at 0x7f7019223748>"
      ]
     },
     "execution_count": 9,
     "metadata": {},
     "output_type": "execute_result"
    },
    {
     "data": {
      "image/png": "[encoded data removed]",
      "text/plain": [
       "<Figure size 432x288 with 1 Axes>"
      ]
     },
     "metadata": {},
     "output_type": "display_data"
    }
   ],
   "source": [
    "results = feature.peak_local_max(frames[1], min_distance=10)\n",
    "\n",
    "plt.figure()\n",
    "plt.imshow(threshim1)\n",
    "plt.scatter(results[...,0], results[...,1], alpha=0.1)"
   ]
  },
  {
   "cell_type": "code",
   "execution_count": 10,
   "metadata": {},
   "outputs": [],
   "source": [
    "labels = p2(frames[1])"
   ]
  },
  {
   "cell_type": "code",
   "execution_count": 21,
   "metadata": {},
   "outputs": [
    {
     "name": "stdout",
     "output_type": "stream",
     "text": [
      "100.0\n",
      "200.0\n",
      "300.0\n",
      "400.0\n",
      "500.0\n",
      "600.0\n",
      "700.0\n",
      "800.0\n",
      "900.0\n",
      "1000.0\n",
      "1100.0\n",
      "1300.0\n",
      "1400.0\n",
      "1600.0\n",
      "1700.0\n",
      "1800.0\n",
      "1900.0\n",
      "0\n",
      "100\n",
      "200\n",
      "300\n",
      "400\n",
      "500\n",
      "600\n",
      "700\n",
      "800\n",
      "900\n",
      "1000\n",
      "1100\n",
      "1200\n",
      "1300\n",
      "1400\n",
      "1500\n",
      "1600\n",
      "1700\n"
     ]
    },
    {
     "name": "stderr",
     "output_type": "stream",
     "text": [
      "/home/dli/anaconda2/envs/lids/lib/python3.6/site-packages/ipykernel/__main__.py:139: RuntimeWarning: invalid value encountered in true_divide\n"
     ]
    }
   ],
   "source": [
    "database = p3(labels)"
   ]
  },
  {
   "cell_type": "code",
   "execution_count": 1,
   "metadata": {},
   "outputs": [
    {
     "ename": "NameError",
     "evalue": "name 'feature' is not defined",
     "output_type": "error",
     "traceback": [
      "\u001b[0;31m---------------------------------------------------------------------------\u001b[0m",
      "\u001b[0;31mNameError\u001b[0m                                 Traceback (most recent call last)",
      "\u001b[0;32m<ipython-input-1-9c2b7ae02c5a>\u001b[0m in \u001b[0;36m<module>\u001b[0;34m()\u001b[0m\n\u001b[0;32m----> 1\u001b[0;31m \u001b[0mbloblog1\u001b[0m \u001b[0;34m=\u001b[0m \u001b[0mfeature\u001b[0m\u001b[0;34m.\u001b[0m\u001b[0mblob_log\u001b[0m\u001b[0;34m(\u001b[0m\u001b[0mthreshim1\u001b[0m\u001b[0;34m)\u001b[0m\u001b[0;34m\u001b[0m\u001b[0m\n\u001b[0m",
      "\u001b[0;31mNameError\u001b[0m: name 'feature' is not defined"
     ]
    }
   ],
   "source": [
    "bloblog1 = feature.blob_log(threshim1)"
   ]
  },
  {
   "cell_type": "code",
   "execution_count": 30,
   "metadata": {},
   "outputs": [
    {
     "name": "stdout",
     "output_type": "stream",
     "text": [
      "[[1015.  550.]\n",
      " [1015.  477.]\n",
      " [1015.  458.]\n",
      " ...\n",
      " [  12.  474.]\n",
      " [   9.  902.]\n",
      " [   9.  551.]]\n"
     ]
    }
   ],
   "source": [
    "print(bloblog1[:, :2])"
   ]
  },
  {
   "cell_type": "code",
   "execution_count": 31,
   "metadata": {},
   "outputs": [],
   "source": [
    "bloblog2 = feature.blob_log(threshim2)"
   ]
  },
  {
   "cell_type": "code",
   "execution_count": 32,
   "metadata": {},
   "outputs": [
    {
     "name": "stdout",
     "output_type": "stream",
     "text": [
      "[[1008.  460.]\n",
      " [1004.  935.]\n",
      " [1002.  937.]\n",
      " ...\n",
      " [  11.  964.]\n",
      " [  10.  454.]\n",
      " [   8.  893.]]\n"
     ]
    }
   ],
   "source": [
    "print(bloblog2[:, :2])"
   ]
  },
  {
   "cell_type": "code",
   "execution_count": null,
   "metadata": {},
   "outputs": [],
   "source": [
    "print(database)"
   ]
  },
  {
   "cell_type": "code",
   "execution_count": 4,
   "metadata": {},
   "outputs": [],
   "source": []
  },
  {
   "cell_type": "code",
   "execution_count": null,
   "metadata": {},
   "outputs": [],
   "source": []
  },
  {
   "cell_type": "code",
   "execution_count": null,
   "metadata": {},
   "outputs": [],
   "source": []
  }
 ],
 "metadata": {
  "kernelspec": {
   "display_name": "Python [conda env:lids]",
   "language": "python",
   "name": "conda-env-lids-py"
  },
  "language_info": {
   "codemirror_mode": {
    "name": "ipython",
    "version": 3
   },
   "file_extension": ".py",
   "mimetype": "text/x-python",
   "name": "python",
   "nbconvert_exporter": "python",
   "pygments_lexer": "ipython3",
   "version": "3.6.5"
  }
 },
 "nbformat": 4,
 "nbformat_minor": 2
}
