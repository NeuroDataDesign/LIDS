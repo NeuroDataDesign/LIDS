{
 "cells": [
  {
   "cell_type": "markdown",
   "metadata": {},
   "source": [
    "## The purpose of this notebook is to see if we can cluster the features\n"
   ]
  },
  {
   "cell_type": "code",
   "execution_count": 1,
   "metadata": {},
   "outputs": [
    {
     "name": "stdout",
     "output_type": "stream",
     "text": [
      "Populating the interactive namespace from numpy and matplotlib\n"
     ]
    }
   ],
   "source": [
    "%matplotlib inline\n",
    "import itertools\n",
    "\n",
    "import numpy as np\n",
    "import pandas as pd\n",
    "\n",
    "from matplotlib import pyplot as plt\n",
    "\n",
    "%pylab inline"
   ]
  },
  {
   "cell_type": "markdown",
   "metadata": {},
   "source": [
    "### Import the data and extract the correct columns "
   ]
  },
  {
   "cell_type": "code",
   "execution_count": 2,
   "metadata": {
    "collapsed": true
   },
   "outputs": [],
   "source": [
    "df = pd.read_csv('round1_size22.csv')\n",
    "master_data = df.as_matrix()\n",
    "\n",
    "training_synapses = master_data[:, 3]\n",
    "training_non_synapses = master_data[:, 7]\n",
    "train_syn = training_synapses[:, np.newaxis]\n",
    "train_non_syn = training_non_synapses[:, np.newaxis]\n",
    "\n",
    "### The final training set:\n",
    "train_data = np.vstack((train_syn, train_non_syn))\n",
    "\n",
    "### The final label generation, synapses belong to class 1, non-synpases belong to class 0:\n",
    "train_labels = np.append(np.ones((len(train_syn))), np.zeros(len(train_non_syn)))\n"
   ]
  },
  {
   "cell_type": "markdown",
   "metadata": {},
   "source": [
    "### Plot the data to see how many clusters possible:\n",
    "Note we have 1D data so the y-axis is artifically defined as 1 for ease plotting"
   ]
  },
  {
   "cell_type": "code",
   "execution_count": 3,
   "metadata": {
    "scrolled": true
   },
   "outputs": [
    {
     "data": {
      "text/plain": [
       "<matplotlib.collections.PathCollection at 0x1118eb2e8>"
      ]
     },
     "execution_count": 3,
     "metadata": {},
     "output_type": "execute_result"
    },
    {
     "data": {
      "image/png": "[encoded data removed]",
      "text/plain": [
       "<matplotlib.figure.Figure at 0x10e837668>"
      ]
     },
     "metadata": {},
     "output_type": "display_data"
    }
   ],
   "source": [
    "plt.scatter(train_data,len(train_data)*[1])"
   ]
  },
  {
   "cell_type": "code",
   "execution_count": 4,
   "metadata": {},
   "outputs": [
    {
     "name": "stdout",
     "output_type": "stream",
     "text": [
      "1 2137968717.4020433 -2137968717.402039\n",
      "2 588094772.6909877 -588094772.6909875\n",
      "3 369836898.2869297 -369836898.2869298\n",
      "4 239637325.96501443 -239637325.9650166\n",
      "5 161624323.4303302 -161624323.43033192\n",
      "6 110302297.93147728 -110302297.93147904\n",
      "7 82085216.42398559 -82085216.4239847\n",
      "8 62547919.75119056 -62547919.751191266\n",
      "9 50983390.21958463 -50983390.21958131\n"
     ]
    }
   ],
   "source": [
    "from sklearn.cluster import KMeans\n",
    "\n",
    "klist = []\n",
    "slist = []\n",
    "\n",
    "for n_clusters in range(1,10):\n",
    "    kmeans = KMeans(n_clusters=n_clusters,n_init=100,init='k-means++')\n",
    "    kmeans.fit(train_data)\n",
    "    C, L = kmeans.cluster_centers_, kmeans.labels_\n",
    "    print (n_clusters, kmeans.inertia_, kmeans.score(train_data))\n",
    "    klist.append(n_clusters)\n",
    "    slist.append(kmeans.inertia_)\n",
    "    \n",
    "   "
   ]
  },
  {
   "cell_type": "code",
   "execution_count": 5,
   "metadata": {},
   "outputs": [
    {
     "data": {
      "image/png": "[encoded data removed]",
      "text/plain": [
       "<matplotlib.figure.Figure at 0x11190f0b8>"
      ]
     },
     "metadata": {},
     "output_type": "display_data"
    }
   ],
   "source": [
    "plt.scatter(klist,slist);## to see how many clusters work\n",
    "plt.xlabel('Number of K-means clusters ran')\n",
    "plt.ylabel('K-means performance score')\n",
    "\n",
    "plt.title('Mean intensity of a 4.84 ${\\mu}m^3$ cube clustered using K-means')\n",
    "plt.show()"
   ]
  },
  {
   "cell_type": "markdown",
   "metadata": {},
   "source": [
    "### In the above plot, we notice that K-means performs well with 2 clusters"
   ]
  },
  {
   "cell_type": "code",
   "execution_count": 16,
   "metadata": {},
   "outputs": [
    {
     "name": "stdout",
     "output_type": "stream",
     "text": [
      "[1 0 0 1 1 1 1 0 0 0 0 0 0 0 0 0 0 0 0 0 0 0 0 0 0 0 0 0 0 0 0 0 0 0 0 0 0\n",
      " 0 0 0 0 0 0 0 0 0 0 0 0 0 0 0 0 0 0 0 0 0 0 0 0 0 0 0 0 0 0 0 0 0 0 0 0 0\n",
      " 0 0 0 0 0 0 0 0 0 0 0 0 0 0 0 0 0 0 0 0 0 0 0 0 0 0 0 0 0 0 0 0 0 0 0 0 0\n",
      " 0 0 0 0 0 0 0 0 0 0 0 0 0 0 0 0 0 0 0 0 0 0 0 0 0 0 0 0 0 0 0 0 0 0 0 0 0\n",
      " 0 0 0 0 0 0 0 0 0 0 0 0 0 0 0 0 0 0 0 0 0 0 0 0 0 0 0 0 0 0 0 0 0 0 0 0 0\n",
      " 0 0 0 0 0 0 0 0 0 0 0 0 0 0 0 0 0 0 0 0 0 0 0 0 0 0 0 0 0 0 0 0 0 0 0 0 0\n",
      " 0 0 0 0 0 0 0 0 0 0 0 0 0 0 0 0 0 0 0 0 0 0 0 0 0 0 0 0 0 0 0 0 0 0 0 0 0\n",
      " 0 0 0 0 0 0 0 0 0 0 0 0 0 0 0 0 0 0 0 0 0 0 0 0 0 0 0 0 0 0 0 0 0 0 0 0 0\n",
      " 0 0 0 0 0 0 0 0 0 0 0 0 0 0 0 0 0 0 0 0 0 0 0 0 0 0 0 0 0 0 0 0 0 0 0 0 0\n",
      " 0 0 0 0 0 0 0 0 0 0 0 0 0 0 0 0 0 0 0 0 0 0 0 0 0 0 0 1 0 1 0 1 0 0 0 1 0\n",
      " 0 1 0 0 0 1 1 1 1 1 1 1 1 0 0 0 1 0 0 0 1 1 0 1 1 0 1 1 1 1 1 1 0 0 1 0 0\n",
      " 0 0 0 1 1 0 0 1 1 1 0 0 1 1 1 1 1 1 0 0 0 1 0 1 1 0 1 1 1 1 1 1 1 1 1 0 0\n",
      " 1 1 0 1 1 1 1 0 1 0 1 1 0 0 0 1 1 1 1 1 1 0 1 0 1 0 1 1 0 1 1 1 1 1 1 0 1\n",
      " 1 0 0 1 0 1 0 1 1 1 0 1 1 1 0 1 1 0 1 1 0 1 1 0 1 1 0 0 1 1 1 0 1 1 1 1 1\n",
      " 0 0 0 1 1 0 0 1 1 1 0 0 0 0 0 1 0 1 1 1 0 0 0 1 1 1 1 0 1 0 1 0 1 0 1 1 1\n",
      " 0 1 1 1 0 0 1 1 1 0 0 1 1 0 1 1 1 1 0 1 0 1 0 0 0 1 1 1 1 1 0 0 1 1 0 1 0\n",
      " 1 1 1 1 0 1 1 1 1 0 1 0 1 1 0 1 1 1 0 0 1 1 0 1 1 1 1 1 1 0 1 0 1 0 1 1 1\n",
      " 0 1 1 1 0 1 1 0 1 1 1 1 1 0 0 0 1 1 1 0 1 1 1 0 1 1 1 1 0 0 1 1 0 1 0 1 0\n",
      " 0 1 1 1 1 1 0 0 1 1 0 1 1 1 0 0 0 0 0 0 0 1 1 1 1 0 1 1 1 0 0 0 1 0 0 1 1\n",
      " 1 1 0 0 0 1 1 0 1 1 0 1 0 1 1 0 1]\n",
      "(720,)\n"
     ]
    }
   ],
   "source": [
    "## want labels from running Knn for 2 clusters, so run k-means for 2 clusters again:\n",
    "\n",
    "kmeans = KMeans(n_clusters=2,n_init=100,init='k-means++')\n",
    "kmeans.fit(train_data)\n",
    "C, L = kmeans.cluster_centers_, kmeans.labels_\n",
    "print(L)## to see which class the data points belong to, heer we observe that synapses are class zero\n",
    "print(L.shape)"
   ]
  },
  {
   "cell_type": "code",
   "execution_count": 7,
   "metadata": {},
   "outputs": [
    {
     "data": {
      "text/plain": [
       "array([[10673.12779541],\n",
       "       [ 7490.36311377]])"
      ]
     },
     "execution_count": 7,
     "metadata": {},
     "output_type": "execute_result"
    }
   ],
   "source": [
    "C"
   ]
  },
  {
   "cell_type": "code",
   "execution_count": 8,
   "metadata": {},
   "outputs": [
    {
     "data": {
      "image/png": "[encoded data removed]",
      "text/plain": [
       "<matplotlib.figure.Figure at 0x114752240>"
      ]
     },
     "metadata": {},
     "output_type": "display_data"
    }
   ],
   "source": [
    "plt.scatter(train_data,len(train_data)*[1], c = L) ##to see which points belong to which clusters\n",
    "plt.scatter(C,len(C)*[1],c = 'k',marker='o',s=300,alpha=0.5,edgecolor='none')\n",
    "plt.xlabel('Feature (mean intensity of 4.84 ${\\mu}m^3$ cube)')\n",
    "\n",
    "\n",
    "plt.title('Cluster of the feature space')\n",
    "plt.show()"
   ]
  },
  {
   "cell_type": "code",
   "execution_count": null,
   "metadata": {
    "collapsed": true
   },
   "outputs": [],
   "source": []
  },
  {
   "cell_type": "code",
   "execution_count": null,
   "metadata": {
    "collapsed": true
   },
   "outputs": [],
   "source": []
  },
  {
   "cell_type": "markdown",
   "metadata": {},
   "source": [
    "## Try the same thing but for 1 micron cube"
   ]
  },
  {
   "cell_type": "code",
   "execution_count": 9,
   "metadata": {
    "collapsed": true
   },
   "outputs": [],
   "source": [
    "## The usual to get the data:\n",
    "\n",
    "df = pd.read_csv('round1_size10.csv')\n",
    "master_data = df.as_matrix()\n",
    "\n",
    "training_synapses = master_data[:, 3]\n",
    "training_non_synapses = master_data[:, 7]\n",
    "train_syn = training_synapses[:, np.newaxis]\n",
    "train_non_syn = training_non_synapses[:, np.newaxis]\n",
    "\n",
    "### The final training set:\n",
    "train_data = np.vstack((train_syn, train_non_syn))\n",
    "\n",
    "### The final label generation, synapses belong to class 1, non-synpases belong to class 0:\n",
    "train_labels = np.append(np.ones((len(train_syn))), np.zeros(len(train_non_syn)))\n"
   ]
  },
  {
   "cell_type": "code",
   "execution_count": 10,
   "metadata": {},
   "outputs": [
    {
     "name": "stdout",
     "output_type": "stream",
     "text": [
      "1 5651273038.056367 -5651273038.056366\n",
      "2 1815703808.1006334 -1815703808.1006272\n",
      "3 1006867951.5485128 -1006867951.5485157\n",
      "4 549807654.5906428 -549807654.5906374\n",
      "5 384945568.4892466 -384945568.4892411\n",
      "6 259287504.54638377 -259287504.5463778\n",
      "7 202726381.59484923 -202726381.59485322\n",
      "8 148166467.6704895 -148166467.67049003\n",
      "9 120050271.56387462 -120050271.56387013\n"
     ]
    }
   ],
   "source": [
    "from sklearn.cluster import KMeans\n",
    "\n",
    "klist = []\n",
    "slist = []\n",
    "\n",
    "for n_clusters in range(1,10):\n",
    "    kmeans = KMeans(n_clusters=n_clusters,n_init=100,init='k-means++')\n",
    "    kmeans.fit(train_data)\n",
    "    C, L = kmeans.cluster_centers_, kmeans.labels_\n",
    "    print (n_clusters, kmeans.inertia_, kmeans.score(train_data))\n",
    "    klist.append(n_clusters)\n",
    "    slist.append(kmeans.inertia_)\n",
    "    \n",
    "    "
   ]
  },
  {
   "cell_type": "code",
   "execution_count": 15,
   "metadata": {},
   "outputs": [
    {
     "data": {
      "image/png": "[encoded data removed]",
      "text/plain": [
       "<matplotlib.figure.Figure at 0x1150acac8>"
      ]
     },
     "metadata": {},
     "output_type": "display_data"
    }
   ],
   "source": [
    "plt.scatter(klist,slist);## to see how many clusters work\n",
    "plt.xlabel('Number of K-means clusters ran')\n",
    "plt.ylabel('K-means performance score')\n",
    "\n",
    "plt.title('Mean intensity of a 1 ${\\mu}m^3$ cube clustered using K-means')\n",
    "plt.show()"
   ]
  },
  {
   "cell_type": "code",
   "execution_count": 17,
   "metadata": {},
   "outputs": [
    {
     "name": "stdout",
     "output_type": "stream",
     "text": [
      "[1 0 0 1 1 1 1 0 0 0 0 0 0 0 0 0 0 0 0 0 0 0 0 0 0 0 0 0 0 0 0 0 0 0 0 0 0\n",
      " 0 0 0 0 0 0 0 0 0 0 0 0 0 0 0 0 0 0 0 0 0 0 0 0 0 0 0 0 0 0 0 0 0 0 0 0 0\n",
      " 0 0 0 0 0 0 0 0 0 0 0 0 0 0 0 0 0 0 0 0 0 0 0 0 0 0 0 0 0 0 0 0 0 0 0 0 0\n",
      " 0 0 0 0 0 0 0 0 0 0 0 0 0 0 0 0 0 0 0 0 0 0 0 0 0 0 0 0 0 0 0 0 0 0 0 0 0\n",
      " 0 0 0 0 0 0 0 0 0 0 0 0 0 0 0 0 0 0 0 0 0 0 0 0 0 0 0 0 0 0 0 0 0 0 0 0 0\n",
      " 0 0 0 0 0 0 0 0 0 0 0 0 0 0 0 0 0 0 0 0 0 0 0 0 0 0 0 0 0 0 0 0 0 0 0 0 0\n",
      " 0 0 0 0 0 0 0 0 0 0 0 0 0 0 0 0 0 0 0 0 0 0 0 0 0 0 0 0 0 0 0 0 0 0 0 0 0\n",
      " 0 0 0 0 0 0 0 0 0 0 0 0 0 0 0 0 0 0 0 0 0 0 0 0 0 0 0 0 0 0 0 0 0 0 0 0 0\n",
      " 0 0 0 0 0 0 0 0 0 0 0 0 0 0 0 0 0 0 0 0 0 0 0 0 0 0 0 0 0 0 0 0 0 0 0 0 0\n",
      " 0 0 0 0 0 0 0 0 0 0 0 0 0 0 0 0 0 0 0 0 0 0 0 0 0 0 0 1 0 1 0 1 0 0 0 1 0\n",
      " 0 1 0 0 0 1 1 1 1 1 1 1 1 0 0 0 1 0 0 0 1 1 0 1 1 0 1 1 1 1 1 1 0 0 1 0 0\n",
      " 0 0 0 1 1 0 0 1 1 1 0 0 1 1 1 1 1 1 0 0 0 1 0 1 1 0 1 1 1 1 1 1 1 1 1 0 0\n",
      " 1 1 0 1 1 1 1 0 1 0 1 1 0 0 0 1 1 1 1 1 1 0 1 0 1 0 1 1 0 1 1 1 1 1 1 0 1\n",
      " 1 0 0 1 0 1 0 1 1 1 0 1 1 1 0 1 1 0 1 1 0 1 1 0 1 1 0 0 1 1 1 0 1 1 1 1 1\n",
      " 0 0 0 1 1 0 0 1 1 1 0 0 0 0 0 1 0 1 1 1 0 0 0 1 1 1 1 0 1 0 1 0 1 0 1 1 1\n",
      " 0 1 1 1 0 0 1 1 1 0 0 1 1 0 1 1 1 1 0 1 0 1 0 0 0 1 1 1 1 1 0 0 1 1 0 1 0\n",
      " 1 1 1 1 0 1 1 1 1 0 1 0 1 1 0 1 1 1 0 0 1 1 0 1 1 1 1 1 1 0 1 0 1 0 1 1 1\n",
      " 0 1 1 1 0 1 1 0 1 1 1 1 1 0 0 0 1 1 1 0 1 1 1 0 1 1 1 1 0 0 1 1 0 1 0 1 0\n",
      " 0 1 1 1 1 1 0 0 1 1 0 1 1 1 0 0 0 0 0 0 0 1 1 1 1 0 1 1 1 0 0 0 1 0 0 1 1\n",
      " 1 1 0 0 0 1 1 0 1 1 0 1 0 1 1 0 1]\n",
      "(720,)\n"
     ]
    }
   ],
   "source": [
    "## want labels from running K-means for 2 clusters, so run kmeans for 2 clusters again:\n",
    "\n",
    "kmeans = KMeans(n_clusters=2,n_init=100,init='k-means++')\n",
    "kmeans.fit(train_data)\n",
    "C, L = kmeans.cluster_centers_, kmeans.labels_\n",
    "print(L)## to see which class the data points belong to, heer we observe that synapses are class zero\n",
    "print(L.shape)"
   ]
  },
  {
   "cell_type": "code",
   "execution_count": 13,
   "metadata": {},
   "outputs": [
    {
     "data": {
      "image/png": "[encoded data removed]",
      "text/plain": [
       "<matplotlib.figure.Figure at 0x115081c18>"
      ]
     },
     "metadata": {},
     "output_type": "display_data"
    }
   ],
   "source": [
    "plt.scatter(train_data,len(train_data)*[1], c = L) ##to see which points belong to which clusters\n",
    "plt.scatter(C,len(C)*[1],c = 'k',marker='o',s=300,alpha=0.5,edgecolor='none')\n",
    "plt.xlabel('Feature (mean intensity of 1 ${\\mu}m^3$ cube)')\n",
    "\n",
    "\n",
    "plt.title('Cluster of the feature space')\n",
    "plt.show()"
   ]
  },
  {
   "cell_type": "code",
   "execution_count": null,
   "metadata": {
    "collapsed": true
   },
   "outputs": [],
   "source": []
  }
 ],
 "metadata": {
  "kernelspec": {
   "display_name": "base",
   "language": "python",
   "name": "base"
  },
  "language_info": {
   "codemirror_mode": {
    "name": "ipython",
    "version": 3
   },
   "file_extension": ".py",
   "mimetype": "text/x-python",
   "name": "python",
   "nbconvert_exporter": "python",
   "pygments_lexer": "ipython3",
   "version": "3.6.2"
  }
 },
 "nbformat": 4,
 "nbformat_minor": 2
}
