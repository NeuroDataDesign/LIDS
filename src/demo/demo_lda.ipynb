{
 "cells": [
  {
   "cell_type": "code",
   "execution_count": 1,
   "metadata": {},
   "outputs": [
    {
     "name": "stdout",
     "output_type": "stream",
     "text": [
      "/Users/drishtimannan/anaconda3/envs/LIDS/bin/python\n"
     ]
    }
   ],
   "source": [
    "import sys\n",
    "print(sys.executable) "
   ]
  },
  {
   "cell_type": "code",
   "execution_count": 2,
   "metadata": {},
   "outputs": [],
   "source": [
    "import pandas as pd\n",
    "import tifffile\n",
    "import random\n",
    "import numpy as np\n",
    "import matplotlib.pyplot as plt\n",
    "\n",
    " \n",
    "from sklearn.discriminant_analysis import LinearDiscriminantAnalysis as LDA"
   ]
  },
  {
   "cell_type": "markdown",
   "metadata": {},
   "source": [
    "### Read the csv of the ground truth as a pandas dataframe. Here we are extracting centroid locations for all timepoints. This will be used to train and test LDA performance"
   ]
  },
  {
   "cell_type": "code",
   "execution_count": 3,
   "metadata": {},
   "outputs": [
    {
     "name": "stdout",
     "output_type": "stream",
     "text": [
      "222\n",
      "195\n",
      "218\n",
      "207\n"
     ]
    }
   ],
   "source": [
    "#upload ground truth labels for generating training data for LDA\n",
    "ground1=pd.read_csv('../dmannan1/LDA2/Substacks_with_SpineROIs/a1_tp1.csv')\n",
    "ground2 = pd.read_csv('../dmannan1/LDA2/Substacks_with_SpineROIs/a2_tp2.csv')\n",
    "ground3 = pd.read_csv(\"../dmannan1/LDA2/Substacks_with_SpineROIs/a3_tp3.csv\")\n",
    "ground4 = pd.read_csv('../dmannan1/LDA2/Substacks_with_SpineROIs/a4_tp4.csv')\n",
    "\n",
    "print(len(ground1))\n",
    "print(len(ground2))\n",
    "print(len(ground3))\n",
    "print(len(ground4))\n"
   ]
  },
  {
   "cell_type": "code",
   "execution_count": 4,
   "metadata": {},
   "outputs": [],
   "source": [
    "### Change the panadas dataframe to numpy array and arrange the columns as Z,Y,X\n",
    "\n",
    "ground_truth1 = np.asarray(ground1[['Z', 'Y', 'X']])\n",
    "ground_truth2 = np.asarray(ground2[['Z', 'Y', 'X']])\n",
    "ground_truth3 = np.asarray(ground3[['Z', 'Y', 'X']])\n",
    "ground_truth4 = np.asarray(ground4[['Z', 'Y', 'X']])\n",
    "\n"
   ]
  },
  {
   "cell_type": "markdown",
   "metadata": {},
   "source": [
    "### The csv given, the z-slices range from 1-16, but need to range from 0-15."
   ]
  },
  {
   "cell_type": "code",
   "execution_count": 5,
   "metadata": {
    "scrolled": true
   },
   "outputs": [
    {
     "name": "stdout",
     "output_type": "stream",
     "text": [
      "222\n",
      "195\n",
      "218\n",
      "207\n"
     ]
    }
   ],
   "source": [
    "ground_truth1[:,0] = ground_truth1[:,0] - 1 ## -1 to make sure the dummy array index and ground_truth match\n",
    "ground_truth2[:,0] = ground_truth2[:,0] - 1\n",
    "ground_truth3[:,0] = ground_truth3[:,0] - 1\n",
    "ground_truth4[:,0] = ground_truth4[:,0] - 1\n",
    "\n",
    "# print(ground_truth1)\n",
    "# print(ground_truth2)\n",
    "# print(ground_truth3)\n",
    "# print(ground_truth4)\n",
    "print(len(ground_truth1))\n",
    "print(len(ground_truth2))\n",
    "print(len(ground_truth3))\n",
    "print(len(ground_truth4))"
   ]
  },
  {
   "cell_type": "markdown",
   "metadata": {},
   "source": [
    "### We make sure that synapse cubes do not overlap with non-synapses in training and testing set\n",
    "Extract centroid locations of known synapses and mark an area around the synapses "
   ]
  },
  {
   "cell_type": "code",
   "execution_count": 6,
   "metadata": {},
   "outputs": [],
   "source": [
    "dummy_array1 = np.zeros((16, 359, 359))##to keep track of the centroids and the area around it to make sure training \n",
    "#set doesn't have any overlapping areas. We need 359x359 by 16 arrays. In here provide the dimensions of tiff file \n",
    "# you are working with in z,y,x format\n",
    "dummy_array2 = np.zeros((16, 359, 359))\n",
    "dummy_array3 = np.zeros((16, 359, 359))\n",
    "dummy_array4 = np.zeros((16, 359, 359))"
   ]
  },
  {
   "cell_type": "markdown",
   "metadata": {},
   "source": [
    "### Finally need to extract non-synapses that don't overlap with synapse locations or their cubes"
   ]
  },
  {
   "cell_type": "code",
   "execution_count": 7,
   "metadata": {},
   "outputs": [],
   "source": [
    "def centroid_cubes(size_cube, array, centroid_locations): ##need to make cubes around our synapses to ensure they don't overlap with\n",
    "##non-synapses\n",
    "\n",
    "    sin=0\n",
    "    for z, y ,x in zip(centroid_locations[:,0], centroid_locations[:,1], centroid_locations[:,2]):\n",
    "        if x-size_cube<0 or x+size_cube>358 or y-size_cube<0 or y+size_cube>358:\n",
    "            continue\n",
    "        for l in range(y-size_cube,y+size_cube): ## 4.84 microns cubed cube is formed by a 22x22 rectangle around the centroid locations\n",
    "            for m in range(x-size_cube,x+size_cube):\n",
    "                array[z][l][m] = 1\n",
    "        sin = sin+1\n",
    "\n",
    "\n",
    "    return  array, sin\n"
   ]
  },
  {
   "cell_type": "code",
   "execution_count": 8,
   "metadata": {},
   "outputs": [
    {
     "name": "stdout",
     "output_type": "stream",
     "text": [
      "76411.0\n",
      "68901.0\n",
      "80455.0\n",
      "81192.0\n",
      "187\n",
      "163\n",
      "190\n",
      "196\n"
     ]
    }
   ],
   "source": [
    "a1, s1 =centroid_cubes(11,dummy_array1,ground_truth1)\n",
    "a2, s2 =centroid_cubes(11,dummy_array2,ground_truth2)\n",
    "a3, s3 =centroid_cubes(11,dummy_array3,ground_truth3)\n",
    "a4, s4 =centroid_cubes(11,dummy_array4,ground_truth4)\n",
    "print(np.sum(a1))\n",
    "print(np.sum(a2))\n",
    "print(np.sum(a3))\n",
    "print(np.sum(a4))\n",
    "print(s1)\n",
    "print(s2)\n",
    "print(s3)\n",
    "print(s4)"
   ]
  },
  {
   "cell_type": "markdown",
   "metadata": {},
   "source": [
    "### In the above cell we had filled our dummy arrays with ones where there is a synapse and cubes around them. In the next cell we are trying to find non-synapse centroids from remaining points in our dummy arrays"
   ]
  },
  {
   "cell_type": "code",
   "execution_count": 9,
   "metadata": {
    "scrolled": true
   },
   "outputs": [],
   "source": [
    "def finding_non_synapses(size_cube, array2, sin):\n",
    "    num = 0\n",
    "    z_loc = []\n",
    "    y_loc = []\n",
    "    x_loc = []\n",
    "\n",
    "    while num < sin:\n",
    "\n",
    "\n",
    "        x_ns = np.random.randint(size_cube,359-size_cube)##discarding points within 5 pixels from boundary of 359x359x16\n",
    "    ##pixels because want to generate a 4.84 cube for mean intensity. Also, x and y values range from 0-358.\n",
    "        y_ns = np.random.randint(size_cube,359-size_cube)\n",
    "        z_ns = np.random.randint(0,16)\n",
    "        if array2[z_ns][y_ns][x_ns] ==1 or array2[z_ns][y_ns-size_cube][x_ns-size_cube]==1 or array2[z_ns][y_ns+size_cube][x_ns+size_cube]==1 or array2[z_ns][y_ns-size_cube][x_ns+size_cube]==1 or array2[z_ns][y_ns+size_cube][x_ns-size_cube]==1:\n",
    "            continue\n",
    "        z_loc.append(z_ns)\n",
    "        y_loc.append(y_ns)\n",
    "        x_loc.append(x_ns)\n",
    "        for s in range(y_ns-size_cube,y_ns+size_cube): ## 4.84 microns cubed cube is formed by a 10x10 rectangle around the centroid locations\n",
    "            for p in range(x_ns-size_cube,x_ns+size_cube):\n",
    "                 array2[z_ns][s][p] = 1\n",
    "        num += 1\n",
    "        \n",
    "\n",
    "\n",
    "\n",
    "\n",
    "\n",
    "\n",
    "\n",
    "\n",
    "    return np.asarray((z_loc,y_loc,x_loc)).T\n"
   ]
  },
  {
   "cell_type": "code",
   "execution_count": 10,
   "metadata": {},
   "outputs": [
    {
     "name": "stdout",
     "output_type": "stream",
     "text": [
      "(187, 3)\n",
      "(163, 3)\n",
      "(190, 3)\n",
      "(196, 3)\n"
     ]
    }
   ],
   "source": [
    "non_syn1 = finding_non_synapses(11,a1,s1)\n",
    "print(non_syn1.shape)\n",
    "\n",
    "non_syn2 = finding_non_synapses(11,a2,s2)\n",
    "print(non_syn2.shape)\n",
    "\n",
    "non_syn3 = finding_non_synapses(11,a3,s3)\n",
    "print(non_syn3.shape)\n",
    "\n",
    "non_syn4 = finding_non_synapses(11,a4,s4)\n",
    "print(non_syn4.shape)\n"
   ]
  },
  {
   "cell_type": "markdown",
   "metadata": {},
   "source": [
    "### Read the image tiff stack \n",
    "Give the correct paths to the four timepoints image files"
   ]
  },
  {
   "cell_type": "code",
   "execution_count": 11,
   "metadata": {},
   "outputs": [],
   "source": [
    "im1 = tifffile.imread('../dmannan1/LDA2/Substacks_with_SpineROIs/R04_tp1_substack (17-32).tif')\n",
    "im2 = tifffile.imread('../dmannan1/LDA2/Substacks_with_SpineROIs/R04_tp2_substack (17-32).tif')\n",
    "im3 = tifffile.imread('../dmannan1/LDA2/Substacks_with_SpineROIs/R04_tp3_substack (19-34).tif')\n",
    "im4 = tifffile.imread('../dmannan1/LDA2/Substacks_with_SpineROIs/R04_tp4_substack (20-35).tif')\n"
   ]
  },
  {
   "cell_type": "markdown",
   "metadata": {},
   "source": [
    "### Finally finding the mean intensity of the cubes around the centroids generated"
   ]
  },
  {
   "cell_type": "code",
   "execution_count": 12,
   "metadata": {},
   "outputs": [],
   "source": [
    "def generating_intensity(cube_size, samples, image, sin):\n",
    "    all_intensity = []\n",
    "    b = 0\n",
    "\n",
    "\n",
    "    for z, y, x in zip(samples[:,0], samples[:,1], samples[:,2]):##take the z,x,y locations to iterate over\n",
    "        intensity = []\n",
    "        if x-cube_size<0 or x+cube_size>358 or y-cube_size<0 or y+cube_size>358:\n",
    "            continue\n",
    "\n",
    "\n",
    "\n",
    "        for l in range(y-cube_size,y+cube_size): ## 1 microns cubed cube is formed by a 22x22 rectangle around the centroid locations\n",
    "            for m in range(x-cube_size,x+cube_size):\n",
    "                intensity.append(image[z,l,m])\n",
    "\n",
    "        mean_intensity = np.mean(intensity)\n",
    "        all_intensity.append(mean_intensity)\n",
    "        b = b+1\n",
    "            \n",
    "\n",
    "\n",
    "\n",
    "    return np.array(all_intensity).reshape((sin,1)) #, b"
   ]
  },
  {
   "cell_type": "markdown",
   "metadata": {},
   "source": [
    "### Generating intensities for synapses and non-synapses"
   ]
  },
  {
   "cell_type": "code",
   "execution_count": 13,
   "metadata": {
    "scrolled": true
   },
   "outputs": [
    {
     "name": "stdout",
     "output_type": "stream",
     "text": [
      "(187, 1)\n",
      "(163, 1)\n",
      "(190, 1)\n",
      "(196, 1)\n"
     ]
    }
   ],
   "source": [
    "### First we'll generate synapse intensities:\n",
    "\n",
    "syn_in1 = generating_intensity(11,ground_truth1,im1,s1)\n",
    "print(syn_in1.shape)\n",
    "\n",
    "\n",
    "syn_in2 = generating_intensity(11,ground_truth2,im2,s2)\n",
    "\n",
    "print(syn_in2.shape)\n",
    "\n",
    "\n",
    "syn_in3 = generating_intensity(11,ground_truth3,im3,s3)\n",
    "\n",
    "print(syn_in3.shape)\n",
    "\n",
    "\n",
    "syn_in4  = generating_intensity(11,ground_truth4,im4,s4)\n",
    "\n",
    "print(syn_in4.shape)\n"
   ]
  },
  {
   "cell_type": "code",
   "execution_count": 14,
   "metadata": {},
   "outputs": [
    {
     "name": "stdout",
     "output_type": "stream",
     "text": [
      "(187, 1)\n",
      "(163, 1)\n",
      "(190, 1)\n",
      "(196, 1)\n"
     ]
    }
   ],
   "source": [
    "## Now onto non-synapse intensities:\n",
    "\n",
    "non_syn_in1  = generating_intensity(11,non_syn1,im1,s1)\n",
    "print(non_syn_in1.shape)\n",
    "\n",
    "non_syn_in2 = generating_intensity(11,non_syn2,im2,s2)\n",
    "\n",
    "print(non_syn_in2.shape)\n",
    "\n",
    "non_syn_in3 = generating_intensity(11,non_syn3,im3,s3)\n",
    "print(non_syn_in3.shape)\n",
    "\n",
    "non_syn_in4 = generating_intensity(11,non_syn4,im4,s4)\n",
    "\n",
    "print(non_syn_in4.shape)\n",
    "\n",
    "\n"
   ]
  },
  {
   "cell_type": "markdown",
   "metadata": {},
   "source": [
    "### Splitting the intensity arrays into training and testing:\n",
    "Decide how much the intensity set will be split into testing and training set"
   ]
  },
  {
   "cell_type": "code",
   "execution_count": 15,
   "metadata": {},
   "outputs": [],
   "source": [
    "def split_data (syn_intensity, non_syn_intensity, split):\n",
    "    \n",
    "\n",
    "    ##Choosing 50% of the data to be training set\n",
    "    train_syn = syn_intensity[:int(split/2)]\n",
    "    train_non_syn = non_syn_intensity[:int(split/2)]\n",
    "\n",
    "\n",
    "\n",
    "    ##Testing set, take next rows \n",
    "    test_syn= syn_intensity[int(split/2):]\n",
    "    test_non_syn = non_syn_intensity[int(split/2):]\n",
    "\n",
    "\n",
    "\n",
    "    ### The final training set:\n",
    "    train_data = np.vstack((train_syn, train_non_syn))\n",
    "    test_data = np.vstack((test_syn, test_non_syn))\n",
    "    ### The final label generation, synapses belong to class 1, non-synpases belong to class 0:\n",
    "    train_labels = np.append(np.ones((len(train_syn))), np.zeros(len(train_non_syn)))\n",
    "    \n",
    "    return train_data, train_labels, test_data \n",
    "\n",
    "\n",
    " "
   ]
  },
  {
   "cell_type": "markdown",
   "metadata": {},
   "source": [
    "### Generating data set for the different time points"
   ]
  },
  {
   "cell_type": "code",
   "execution_count": 72,
   "metadata": {},
   "outputs": [
    {
     "name": "stdout",
     "output_type": "stream",
     "text": [
      "187\n",
      "(186, 1)\n",
      "(186,)\n",
      "(188, 1)\n",
      "188\n"
     ]
    }
   ],
   "source": [
    "### Timepoint 1\n",
    "\n",
    "train1, labels1, test1 = split_data(syn_in1, non_syn_in1, s1)\n",
    "\n",
    "print(s1)\n",
    "print(train1.shape)\n",
    "print(labels1.shape)\n",
    "print(test1.shape)\n",
    "shp_1 = test1.shape[0]\n",
    "print(shp_1)"
   ]
  },
  {
   "cell_type": "code",
   "execution_count": 74,
   "metadata": {},
   "outputs": [
    {
     "name": "stdout",
     "output_type": "stream",
     "text": [
      "163\n",
      "(162, 1)\n",
      "(162,)\n",
      "(164, 1)\n",
      "164\n"
     ]
    }
   ],
   "source": [
    "### Timepoint 2\n",
    "\n",
    "train2, labels2, test2 = split_data(syn_in2, non_syn_in2, s2)\n",
    "\n",
    "print(s2)\n",
    "print(train2.shape)\n",
    "print(labels2.shape)\n",
    "print(test2.shape)\n",
    "shp_2 = test2.shape[0]\n",
    "print(shp_2)\n"
   ]
  },
  {
   "cell_type": "code",
   "execution_count": 76,
   "metadata": {},
   "outputs": [
    {
     "name": "stdout",
     "output_type": "stream",
     "text": [
      "190\n",
      "(190, 1)\n",
      "(190,)\n",
      "(190, 1)\n",
      "190\n"
     ]
    }
   ],
   "source": [
    "### Timepoint 3\n",
    "\n",
    "train3, labels3, test3 = split_data(syn_in3, non_syn_in3, s3)\n",
    "\n",
    "print(s3)\n",
    "print(train3.shape)\n",
    "print(labels3.shape)\n",
    "print(test3.shape)\n",
    "\n",
    "shp_3 = test3.shape[0]\n",
    "print(shp_3)"
   ]
  },
  {
   "cell_type": "code",
   "execution_count": 77,
   "metadata": {},
   "outputs": [
    {
     "name": "stdout",
     "output_type": "stream",
     "text": [
      "196\n",
      "(196, 1)\n",
      "(196,)\n",
      "(196, 1)\n",
      "196\n"
     ]
    }
   ],
   "source": [
    "### Timepoint 4\n",
    "\n",
    "train4, labels4, test4 = split_data(syn_in4, non_syn_in4, s4)\n",
    "\n",
    "print(s4)\n",
    "print(train4.shape)\n",
    "print(labels4.shape)\n",
    "print(test4.shape)\n",
    "\n",
    "shp_4 = test4.shape[0]\n",
    "print(shp_4)"
   ]
  },
  {
   "cell_type": "markdown",
   "metadata": {
    "collapsed": true
   },
   "source": [
    "### Running LDA"
   ]
  },
  {
   "cell_type": "code",
   "execution_count": 92,
   "metadata": {},
   "outputs": [],
   "source": [
    "\n",
    "def lda(train, labels, test, spl):\n",
    "    b = []\n",
    "    p = []\n",
    "    r = []\n",
    "    f = []\n",
    "    prediction_int_overlays = []\n",
    "    for i in np.arange(0.0, 1.0, 0.1):\n",
    "\n",
    "        lda = LDA().fit(train, labels)\n",
    "        probs_positive_class = lda.predict_proba(test)[:, 1]\n",
    "\n",
    "        prediction = probs_positive_class > i\n",
    "        prediction_int = prediction.astype(int)\n",
    "\n",
    "        spl = int((test.shape[0])/2)\n",
    "        true_pos = np.sum(prediction_int[:spl])\n",
    "        false_pos = np.sum(prediction_int[spl:])\n",
    "        false_neg = spl - true_pos \n",
    "\n",
    "\n",
    "        precision = (true_pos)/(true_pos + false_pos)\n",
    "\n",
    "\n",
    "        recall = (true_pos)/(true_pos+false_neg)\n",
    "\n",
    "        if precision and recall != 0:\n",
    "            f1 = (2*precision*recall)/(precision + recall)\n",
    "        else:\n",
    "            f1 = 0 \n",
    "        print(prediction_int, \"Total wrong synapses:\", false_neg, \"Total wrong non-synapses:\", false_pos, \"Precision:\",\n",
    "             precision, \"Recall:\", recall, \"F1\", f1)\n",
    "        p.append(precision)\n",
    "        r.append(recall)\n",
    "        b.append(i)\n",
    "        f.append(f1)\n",
    "        prediction_int_overlays.append(prediction_int)\n",
    "        \n",
    "    return b, p, r, f "
   ]
  },
  {
   "cell_type": "code",
   "execution_count": 93,
   "metadata": {},
   "outputs": [],
   "source": [
    "def stat_plot(threshold, pres, recall, f1):\n",
    "    plt.plot(threshold, pres)\n",
    "    plt.plot(threshold, recall)\n",
    "    plt.plot(threshold, f1)\n",
    "    plt.xlabel('Decision boundary threshold')\n",
    "    plt.ylabel('Value of the labelled metric')\n",
    "\n",
    "    plt.legend(['Precision', 'Recall', \"F1\"], loc='upper right')\n",
    "    plt.title('Mean intensity of a 4.84 ${\\mu}m^3$ cube and LDA performance by varying decision threshold')\n",
    "    plt.show()\n",
    "\n",
    "    \n",
    "    "
   ]
  },
  {
   "cell_type": "code",
   "execution_count": 94,
   "metadata": {},
   "outputs": [
    {
     "name": "stdout",
     "output_type": "stream",
     "text": [
      "[1 1 1 1 1 1 1 1 1 1 1 1 1 1 1 1 1 1 1 1 1 1 1 1 1 1 1 1 1 1 1 1 1 1 1 1 1\n",
      " 1 1 1 1 1 1 1 1 1 1 1 1 1 1 1 1 1 1 1 1 1 1 1 1 1 1 1 1 1 1 1 1 1 1 1 1 1\n",
      " 1 1 1 1 1 1 1 1 1 1 1 1 1 1 1 1 1 1 1 1 1 1 1 1 1 1 1 1 1 1 1 1 1 1 1 1 1\n",
      " 1 1 1 1 1 1 1 1 1 1 1 1 1 1 1 1 1 1 1 1 1 1 1 1 1 1 1 1 1 1 1 1 1 1 1 1 1\n",
      " 1 1 1 1 1 1 1 1 1 1 1 1 1 1 1 1 1 1 1 1 1 1 1 1 1 1 1 1 1 1 1 1 1 1 1 1 1\n",
      " 1 1 1] Total wrong synapses: 0 Total wrong non-synapses: 94 Precision: 0.5 Recall: 1.0 F1 0.6666666666666666\n",
      "[1 1 1 1 1 1 1 1 1 1 1 1 1 1 1 1 1 1 1 1 1 1 1 1 1 1 1 1 1 1 1 1 1 1 1 1 1\n",
      " 1 1 1 1 1 1 1 1 1 1 1 1 1 1 1 1 1 1 1 1 1 1 1 1 1 1 1 1 1 1 1 1 1 1 1 1 1\n",
      " 1 1 1 1 1 1 1 1 1 1 1 1 1 1 1 1 1 1 1 1 1 1 1 1 1 1 1 0 1 1 1 1 1 1 1 1 0\n",
      " 1 1 1 1 0 1 0 0 1 1 0 0 1 1 0 1 1 1 1 1 1 1 1 1 0 1 1 1 1 1 1 0 1 1 1 1 1\n",
      " 1 1 1 1 1 1 1 1 1 1 1 1 1 1 1 1 1 1 1 1 1 1 0 1 1 1 0 1 1 0 1 1 1 1 1 0 1\n",
      " 1 1 0] Total wrong synapses: 0 Total wrong non-synapses: 79 Precision: 0.5433526011560693 Recall: 1.0 F1 0.7041198501872659\n",
      "[1 1 1 1 1 1 1 1 1 1 1 1 1 1 1 1 1 1 1 1 1 1 1 1 1 1 1 1 1 1 1 1 1 1 1 1 1\n",
      " 1 1 1 1 1 1 1 1 1 1 1 1 1 1 1 1 1 1 0 1 1 1 1 1 1 1 1 1 1 1 1 1 1 1 1 1 1\n",
      " 1 1 1 1 1 0 1 1 1 1 1 1 1 1 1 1 1 1 1 1 1 1 1 1 1 1 1 0 0 1 1 1 1 1 1 0 0\n",
      " 1 1 1 1 0 1 0 0 1 1 0 0 1 1 0 1 1 1 1 1 1 1 1 0 0 1 0 1 1 1 1 0 1 1 1 1 1\n",
      " 1 1 0 1 0 1 1 1 1 1 1 1 1 1 1 1 1 1 0 1 1 1 0 1 1 1 0 1 1 0 0 1 1 1 1 0 1\n",
      " 1 1 0] Total wrong synapses: 2 Total wrong non-synapses: 71 Precision: 0.5644171779141104 Recall: 0.9787234042553191 F1 0.7159533073929961\n",
      "[1 1 1 1 1 1 1 1 1 1 1 1 1 1 1 1 1 1 1 1 1 1 1 1 1 1 1 1 1 1 1 0 1 1 1 1 1\n",
      " 1 1 1 1 1 1 1 1 1 1 1 1 1 1 1 1 1 1 0 1 1 1 1 1 1 1 1 1 1 1 1 1 1 1 0 1 0\n",
      " 1 1 1 1 1 0 1 0 1 1 1 1 1 1 0 1 1 1 1 1 1 1 1 0 1 1 1 0 0 1 1 1 1 0 1 0 0\n",
      " 1 1 1 1 0 1 0 0 1 0 0 0 1 1 0 1 0 1 1 1 0 1 1 0 0 1 0 1 1 1 1 0 1 1 1 1 1\n",
      " 1 0 0 1 0 1 1 0 1 1 1 1 1 1 1 0 1 1 0 1 1 1 0 1 1 1 0 1 1 0 0 1 1 1 1 0 1\n",
      " 0 1 0] Total wrong synapses: 7 Total wrong non-synapses: 62 Precision: 0.5838926174496645 Recall: 0.925531914893617 F1 0.7160493827160493\n",
      "[1 1 1 1 1 1 0 1 1 1 1 1 1 1 1 1 1 1 1 1 1 1 1 1 1 1 1 1 1 0 1 0 1 1 1 1 1\n",
      " 1 1 1 1 1 1 1 1 1 1 1 1 1 1 1 1 0 1 0 1 1 1 1 1 1 1 1 1 1 1 1 1 1 1 0 1 0\n",
      " 1 1 0 1 1 0 0 0 1 0 1 1 0 1 0 1 1 1 1 1 1 0 1 0 1 1 1 0 0 1 1 1 1 0 1 0 0\n",
      " 1 0 1 1 0 1 0 0 0 0 0 0 1 0 0 1 0 1 1 1 0 0 1 0 0 0 0 1 1 1 1 0 0 1 1 1 1\n",
      " 1 0 0 1 0 0 1 0 0 1 1 0 1 1 0 0 1 0 0 1 1 1 0 1 0 0 0 1 1 0 0 1 0 1 1 0 1\n",
      " 0 1 0] Total wrong synapses: 14 Total wrong non-synapses: 47 Precision: 0.6299212598425197 Recall: 0.851063829787234 F1 0.7239819004524887\n",
      "[1 1 1 1 1 1 0 1 1 1 1 1 1 0 1 0 1 1 1 1 1 1 1 1 1 1 1 1 1 0 1 0 1 1 0 1 1\n",
      " 1 1 1 1 1 1 1 1 1 1 1 1 1 1 1 0 0 1 0 1 1 0 1 1 1 1 1 1 1 1 1 1 0 1 0 0 0\n",
      " 0 1 0 0 1 0 0 0 1 0 0 1 0 1 0 1 1 1 1 1 1 0 1 0 1 0 1 0 0 1 1 1 1 0 1 0 0\n",
      " 0 0 1 0 0 0 0 0 0 0 0 0 1 0 0 1 0 1 1 1 0 0 1 0 0 0 0 1 1 1 0 0 0 0 1 1 1\n",
      " 1 0 0 1 0 0 0 0 0 0 1 0 0 1 0 0 1 0 0 1 1 0 0 0 0 0 0 0 1 0 0 1 0 0 1 0 1\n",
      " 0 1 0] Total wrong synapses: 24 Total wrong non-synapses: 34 Precision: 0.6730769230769231 Recall: 0.7446808510638298 F1 0.7070707070707072\n",
      "[1 0 0 0 1 1 0 0 1 1 1 1 1 0 0 0 1 1 1 0 1 1 1 1 1 1 1 0 1 0 1 0 1 0 0 1 1\n",
      " 1 1 1 1 1 1 1 1 1 1 1 0 1 1 0 0 0 1 0 0 0 0 1 1 1 1 1 1 1 1 0 1 0 1 0 0 0\n",
      " 0 1 0 0 1 0 0 0 1 0 0 0 0 1 0 1 1 0 1 1 0 0 1 0 1 0 1 0 0 0 1 1 1 0 0 0 0\n",
      " 0 0 0 0 0 0 0 0 0 0 0 0 0 0 0 0 0 1 0 0 0 0 1 0 0 0 0 0 1 0 0 0 0 0 1 1 0\n",
      " 0 0 0 1 0 0 0 0 0 0 0 0 0 1 0 0 1 0 0 0 1 0 0 0 0 0 0 0 1 0 0 1 0 0 1 0 1\n",
      " 0 0 0] Total wrong synapses: 39 Total wrong non-synapses: 19 Precision: 0.7432432432432432 Recall: 0.5851063829787234 F1 0.6547619047619048\n",
      "[1 0 0 0 1 0 0 0 1 1 1 0 0 0 0 0 1 1 1 0 0 0 0 1 0 1 0 0 1 0 1 0 1 0 0 1 0\n",
      " 1 1 1 0 0 1 1 1 1 1 1 0 0 0 0 0 0 0 0 0 0 0 1 1 0 1 1 0 1 0 0 0 0 0 0 0 0\n",
      " 0 0 0 0 0 0 0 0 1 0 0 0 0 1 0 0 1 0 0 1 0 0 0 0 0 0 0 0 0 0 0 0 0 0 0 0 0\n",
      " 0 0 0 0 0 0 0 0 0 0 0 0 0 0 0 0 0 1 0 0 0 0 0 0 0 0 0 0 0 0 0 0 0 0 0 1 0\n",
      " 0 0 0 1 0 0 0 0 0 0 0 0 0 1 0 0 1 0 0 0 1 0 0 0 0 0 0 0 1 0 0 0 0 0 1 0 0\n",
      " 0 0 0] Total wrong synapses: 62 Total wrong non-synapses: 8 Precision: 0.8 Recall: 0.3404255319148936 F1 0.47761194029850745\n",
      "[0 0 0 0 0 0 0 0 0 0 1 0 0 0 0 0 0 1 0 0 0 0 0 0 0 0 0 0 1 0 1 0 0 0 0 0 0\n",
      " 1 1 0 0 0 1 1 0 0 1 0 0 0 0 0 0 0 0 0 0 0 0 1 0 0 0 1 0 0 0 0 0 0 0 0 0 0\n",
      " 0 0 0 0 0 0 0 0 0 0 0 0 0 0 0 0 0 0 0 0 0 0 0 0 0 0 0 0 0 0 0 0 0 0 0 0 0\n",
      " 0 0 0 0 0 0 0 0 0 0 0 0 0 0 0 0 0 0 0 0 0 0 0 0 0 0 0 0 0 0 0 0 0 0 0 1 0\n",
      " 0 0 0 1 0 0 0 0 0 0 0 0 0 1 0 0 1 0 0 0 1 0 0 0 0 0 0 0 0 0 0 0 0 0 1 0 0\n",
      " 0 0 0] Total wrong synapses: 83 Total wrong non-synapses: 6 Precision: 0.6470588235294118 Recall: 0.11702127659574468 F1 0.1981981981981982\n",
      "[0 0 0 0 0 0 0 0 0 0 0 0 0 0 0 0 0 0 0 0 0 0 0 0 0 0 0 0 0 0 1 0 0 0 0 0 0\n",
      " 0 0 0 0 0 0 0 0 0 1 0 0 0 0 0 0 0 0 0 0 0 0 0 0 0 0 0 0 0 0 0 0 0 0 0 0 0\n",
      " 0 0 0 0 0 0 0 0 0 0 0 0 0 0 0 0 0 0 0 0 0 0 0 0 0 0 0 0 0 0 0 0 0 0 0 0 0\n",
      " 0 0 0 0 0 0 0 0 0 0 0 0 0 0 0 0 0 0 0 0 0 0 0 0 0 0 0 0 0 0 0 0 0 0 0 1 0\n",
      " 0 0 0 0 0 0 0 0 0 0 0 0 0 0 0 0 0 0 0 0 0 0 0 0 0 0 0 0 0 0 0 0 0 0 0 0 0\n",
      " 0 0 0] Total wrong synapses: 92 Total wrong non-synapses: 1 Precision: 0.6666666666666666 Recall: 0.02127659574468085 F1 0.041237113402061855\n"
     ]
    },
    {
     "data": {
      "image/png": "[encoded data removed]",
      "text/plain": [
       "<Figure size 432x288 with 1 Axes>"
      ]
     },
     "metadata": {},
     "output_type": "display_data"
    }
   ],
   "source": [
    "t1, p1, r1, f1 = lda(train1,labels1,test1, shp_1)\n",
    "stat_plot(t1, p1, r1, f1)"
   ]
  },
  {
   "cell_type": "code",
   "execution_count": 95,
   "metadata": {},
   "outputs": [
    {
     "name": "stdout",
     "output_type": "stream",
     "text": [
      "[1 1 1 1 1 1 1 1 1 1 1 1 1 1 1 1 1 1 1 1 1 1 1 1 1 1 1 1 1 1 1 1 1 1 1 1 1\n",
      " 1 1 1 1 1 1 1 1 1 1 1 1 1 1 1 1 1 1 1 1 1 1 1 1 1 1 1 1 1 1 1 1 1 1 1 1 1\n",
      " 1 1 1 1 1 1 1 1 1 1 1 1 1 1 1 1 1 1 1 1 1 1 1 1 1 1 1 1 1 1 1 1 1 1 1 1 1\n",
      " 1 1 1 1 1 1 1 1 1 1 1 1 1 1 1 1 1 1 1 1 1 1 1 1 1 1 1 1 1 1 1 1 1 1 1 1 1\n",
      " 1 1 1 1 1 1 1 1 1 1 1 1 1 1 1 1] Total wrong synapses: 0 Total wrong non-synapses: 82 Precision: 0.5 Recall: 1.0 F1 0.6666666666666666\n",
      "[1 1 1 1 1 1 1 1 1 1 1 1 1 1 1 1 1 1 1 1 1 1 1 1 1 1 1 1 1 1 1 1 1 1 1 1 1\n",
      " 1 1 1 1 1 1 1 1 1 1 1 1 1 1 1 1 1 1 1 1 1 1 1 1 1 1 1 1 1 1 1 1 1 1 1 1 1\n",
      " 1 1 1 1 1 1 1 1 1 1 0 1 1 1 1 1 1 1 1 1 1 1 0 1 1 1 1 0 1 1 0 0 1 1 1 1 0\n",
      " 1 1 1 1 0 1 1 1 1 1 0 1 1 1 1 1 0 1 1 1 1 1 1 0 1 1 1 1 1 1 1 1 0 1 1 1 1\n",
      " 0 1 1 1 1 1 1 1 1 1 1 1 1 1 1 1] Total wrong synapses: 0 Total wrong non-synapses: 70 Precision: 0.5394736842105263 Recall: 1.0 F1 0.7008547008547009\n",
      "[1 1 1 1 1 1 1 1 1 1 1 1 1 1 1 1 1 1 1 1 1 1 1 1 1 1 0 1 1 1 1 1 1 1 1 1 1\n",
      " 1 1 1 1 1 1 1 1 1 1 1 1 1 1 1 1 1 1 1 1 1 1 1 1 1 1 1 1 1 1 1 1 0 1 1 1 1\n",
      " 1 1 1 1 1 1 0 1 1 1 0 1 1 1 0 1 1 1 0 1 1 1 0 1 1 1 1 0 1 0 0 0 1 1 1 1 0\n",
      " 1 0 1 1 0 1 1 1 1 1 0 1 1 0 1 1 0 1 1 1 0 1 0 0 1 0 1 1 1 0 1 0 0 1 1 1 1\n",
      " 0 1 1 0 1 1 1 1 1 1 1 1 1 1 1 1] Total wrong synapses: 3 Total wrong non-synapses: 59 Precision: 0.572463768115942 Recall: 0.9634146341463414 F1 0.7181818181818181\n",
      "[1 1 1 1 1 1 1 1 1 1 1 1 1 1 1 1 1 1 1 1 1 1 0 1 1 1 0 0 1 1 1 1 1 1 1 1 1\n",
      " 1 1 1 1 1 1 1 1 1 1 1 1 1 1 1 1 1 1 1 1 1 1 1 1 1 1 1 1 1 1 1 1 0 1 0 1 1\n",
      " 1 1 1 1 1 1 0 1 1 1 0 1 1 1 0 1 1 1 0 1 1 1 0 1 1 1 0 0 0 0 0 0 0 1 1 1 0\n",
      " 1 0 1 1 0 1 1 1 1 0 0 1 1 0 0 1 0 1 1 1 0 0 0 0 1 0 1 1 1 0 1 0 0 1 1 1 1\n",
      " 0 1 1 0 1 1 1 1 1 1 1 1 1 1 1 1] Total wrong synapses: 6 Total wrong non-synapses: 53 Precision: 0.5891472868217055 Recall: 0.926829268292683 F1 0.7203791469194313\n",
      "[1 1 1 1 1 1 1 1 1 1 1 1 1 1 1 0 1 1 1 1 1 1 0 1 1 1 0 0 1 1 1 1 1 1 1 1 1\n",
      " 1 1 1 1 1 1 1 1 1 1 0 1 1 1 1 1 1 1 1 1 1 1 1 0 1 1 1 1 1 1 1 1 0 1 0 1 0\n",
      " 1 1 1 1 1 1 0 1 1 1 0 1 0 1 0 1 1 1 0 0 1 1 0 1 1 0 0 0 0 0 0 0 0 1 1 1 0\n",
      " 1 0 1 0 0 1 1 1 1 0 0 1 0 0 0 1 0 1 1 0 0 0 0 0 0 0 1 0 0 0 0 0 0 1 1 0 1\n",
      " 0 1 1 0 1 0 1 1 1 1 1 0 0 1 1 1] Total wrong synapses: 10 Total wrong non-synapses: 39 Precision: 0.6486486486486487 Recall: 0.8780487804878049 F1 0.7461139896373058\n",
      "[1 0 1 1 1 1 1 1 1 1 0 1 1 1 1 0 0 1 1 1 1 1 0 0 1 1 0 0 1 1 0 1 1 1 1 1 1\n",
      " 1 0 1 1 1 1 1 1 1 0 0 1 1 0 0 1 1 1 0 1 1 1 1 0 1 1 0 1 1 1 0 1 0 1 0 1 0\n",
      " 1 1 1 1 1 1 0 1 1 0 0 0 0 0 0 1 1 1 0 0 1 0 0 1 1 0 0 0 0 0 0 0 0 1 1 0 0\n",
      " 0 0 1 0 0 1 1 0 0 0 0 1 0 0 0 1 0 0 1 0 0 0 0 0 0 0 1 0 0 0 0 0 0 0 0 0 0\n",
      " 0 1 1 0 1 0 1 1 0 1 1 0 0 1 0 1] Total wrong synapses: 22 Total wrong non-synapses: 25 Precision: 0.7058823529411765 Recall: 0.7317073170731707 F1 0.718562874251497\n",
      "[1 0 0 1 1 1 0 1 1 1 0 1 1 1 0 0 0 1 1 1 0 1 0 0 1 0 0 0 0 0 0 1 0 1 1 1 1\n",
      " 1 0 0 1 1 0 1 1 0 0 0 1 1 0 0 1 1 1 0 1 0 1 0 0 1 1 0 0 1 0 0 0 0 1 0 1 0\n",
      " 1 1 1 1 0 0 0 0 0 0 0 0 0 0 0 1 1 1 0 0 1 0 0 0 1 0 0 0 0 0 0 0 0 1 1 0 0\n",
      " 0 0 0 0 0 1 1 0 0 0 0 0 0 0 0 0 0 0 1 0 0 0 0 0 0 0 0 0 0 0 0 0 0 0 0 0 0\n",
      " 0 1 0 0 1 0 1 0 0 1 1 0 0 0 0 1] Total wrong synapses: 41 Total wrong non-synapses: 16 Precision: 0.7192982456140351 Recall: 0.5 F1 0.5899280575539568\n",
      "[1 0 0 0 1 1 0 1 1 1 0 1 1 1 0 0 0 1 1 0 0 1 0 0 1 0 0 0 0 0 0 1 0 0 1 0 1\n",
      " 1 0 0 0 1 0 0 0 0 0 0 1 1 0 0 1 0 0 0 0 0 1 0 0 0 0 0 0 1 0 0 0 0 0 0 0 0\n",
      " 0 0 1 0 0 0 0 0 0 0 0 0 0 0 0 0 0 1 0 0 1 0 0 0 0 0 0 0 0 0 0 0 0 0 1 0 0\n",
      " 0 0 0 0 0 1 0 0 0 0 0 0 0 0 0 0 0 0 0 0 0 0 0 0 0 0 0 0 0 0 0 0 0 0 0 0 0\n",
      " 0 0 0 0 0 0 1 0 0 1 0 0 0 0 0 0] Total wrong synapses: 58 Total wrong non-synapses: 6 Precision: 0.8 Recall: 0.2926829268292683 F1 0.4285714285714285\n",
      "[1 0 0 0 0 0 0 1 1 1 0 1 1 0 0 0 0 0 0 0 0 0 0 0 0 0 0 0 0 0 0 0 0 0 0 0 1\n",
      " 1 0 0 0 0 0 0 0 0 0 0 1 0 0 0 0 0 0 0 0 0 0 0 0 0 0 0 0 0 0 0 0 0 0 0 0 0\n",
      " 0 0 0 0 0 0 0 0 0 0 0 0 0 0 0 0 0 0 0 0 0 0 0 0 0 0 0 0 0 0 0 0 0 0 1 0 0\n",
      " 0 0 0 0 0 0 0 0 0 0 0 0 0 0 0 0 0 0 0 0 0 0 0 0 0 0 0 0 0 0 0 0 0 0 0 0 0\n",
      " 0 0 0 0 0 0 0 0 0 1 0 0 0 0 0 0] Total wrong synapses: 73 Total wrong non-synapses: 2 Precision: 0.8181818181818182 Recall: 0.10975609756097561 F1 0.19354838709677422\n",
      "[0 0 0 0 0 0 0 1 0 1 0 0 0 0 0 0 0 0 0 0 0 0 0 0 0 0 0 0 0 0 0 0 0 0 0 0 1\n",
      " 0 0 0 0 0 0 0 0 0 0 0 0 0 0 0 0 0 0 0 0 0 0 0 0 0 0 0 0 0 0 0 0 0 0 0 0 0\n",
      " 0 0 0 0 0 0 0 0 0 0 0 0 0 0 0 0 0 0 0 0 0 0 0 0 0 0 0 0 0 0 0 0 0 0 0 0 0\n",
      " 0 0 0 0 0 0 0 0 0 0 0 0 0 0 0 0 0 0 0 0 0 0 0 0 0 0 0 0 0 0 0 0 0 0 0 0 0\n",
      " 0 0 0 0 0 0 0 0 0 0 0 0 0 0 0 0] Total wrong synapses: 79 Total wrong non-synapses: 0 Precision: 1.0 Recall: 0.036585365853658534 F1 0.07058823529411765\n"
     ]
    },
    {
     "data": {
      "image/png": "[encoded data removed]",
      "text/plain": [
       "<Figure size 432x288 with 1 Axes>"
      ]
     },
     "metadata": {},
     "output_type": "display_data"
    }
   ],
   "source": [
    "t2, p2, r2, f2 = lda(train2, labels2, test2, shp_2)\n",
    "stat_plot(t2, p2, r2, f2)"
   ]
  },
  {
   "cell_type": "code",
   "execution_count": 96,
   "metadata": {},
   "outputs": [
    {
     "name": "stdout",
     "output_type": "stream",
     "text": [
      "[1 1 1 1 1 1 1 1 1 1 1 1 1 1 1 1 1 1 1 1 1 1 1 1 1 1 1 1 1 1 1 1 1 1 1 1 1\n",
      " 1 1 1 1 1 1 1 1 1 1 1 1 1 1 1 1 1 1 1 1 1 1 1 1 1 1 1 1 1 1 1 1 1 1 1 1 1\n",
      " 1 1 1 1 1 1 1 1 1 1 1 1 1 1 1 1 1 1 1 1 1 1 1 1 1 1 1 1 1 1 1 1 1 1 1 1 1\n",
      " 1 1 1 1 1 1 1 1 1 1 1 1 1 1 1 1 1 1 1 1 1 1 1 1 1 1 1 1 1 1 1 1 1 1 1 1 1\n",
      " 1 1 1 1 1 1 1 1 1 1 1 1 1 1 1 1 1 1 1 1 1 1 1 1 1 1 1 1 1 1 1 1 1 1 1 1 1\n",
      " 1 1 1 1 1] Total wrong synapses: 0 Total wrong non-synapses: 95 Precision: 0.5 Recall: 1.0 F1 0.6666666666666666\n",
      "[1 1 1 1 1 1 1 1 1 1 1 1 1 1 1 1 1 1 1 1 1 1 1 1 1 1 1 1 1 1 1 1 1 1 1 1 1\n",
      " 1 1 1 1 1 1 1 1 1 1 1 1 1 1 1 1 1 1 1 1 1 1 1 1 1 1 1 1 1 1 1 1 1 1 1 1 1\n",
      " 1 1 1 1 1 1 1 1 1 1 1 1 1 1 1 1 1 1 1 1 1 1 1 1 1 1 1 1 1 1 1 1 1 1 1 1 1\n",
      " 1 1 1 1 1 1 1 1 1 1 1 1 1 1 1 1 1 1 1 1 1 1 1 1 1 1 0 1 1 1 1 1 1 1 1 1 1\n",
      " 1 0 1 1 1 0 1 1 1 1 1 1 1 1 1 1 1 1 1 1 1 1 1 1 1 1 1 1 1 1 1 1 1 1 1 1 1\n",
      " 1 1 1 1 1] Total wrong synapses: 0 Total wrong non-synapses: 92 Precision: 0.5080213903743316 Recall: 1.0 F1 0.6737588652482269\n",
      "[1 1 1 1 1 1 1 1 1 1 1 1 1 1 1 1 1 1 1 1 1 1 1 1 1 1 1 1 1 1 1 1 1 1 1 1 1\n",
      " 1 1 1 1 1 1 1 1 1 1 1 1 1 1 1 1 1 1 1 1 1 1 1 1 1 1 1 1 1 1 1 1 1 1 1 1 1\n",
      " 1 1 1 1 1 1 1 1 1 1 1 1 1 1 1 1 1 1 1 1 1 0 1 0 1 1 0 1 1 1 1 1 1 1 1 1 1\n",
      " 1 1 0 1 1 0 1 1 0 1 1 1 1 1 1 1 1 1 1 1 1 1 1 1 1 1 0 1 1 1 1 1 1 1 1 1 1\n",
      " 1 0 1 1 1 0 1 1 0 1 1 1 1 1 1 1 1 1 1 1 1 1 1 1 1 1 1 1 1 1 1 1 1 0 1 1 1\n",
      " 1 1 1 1 1] Total wrong synapses: 0 Total wrong non-synapses: 84 Precision: 0.5307262569832403 Recall: 1.0 F1 0.6934306569343066\n",
      "[1 1 1 1 1 1 1 1 1 1 1 1 1 1 1 1 1 1 1 1 1 1 1 1 1 1 1 1 1 1 1 1 1 1 1 1 1\n",
      " 1 1 1 1 1 1 1 1 1 1 1 1 1 1 1 1 1 1 1 1 1 1 1 1 1 1 1 1 1 1 1 1 1 1 1 1 1\n",
      " 1 1 1 1 1 1 1 1 1 1 1 1 1 1 1 1 1 1 1 1 1 0 1 0 0 1 0 1 1 1 0 0 1 1 0 0 0\n",
      " 1 0 0 1 1 0 0 1 0 1 1 0 1 1 1 1 1 1 1 1 1 0 1 1 1 1 0 0 1 0 1 1 1 1 1 1 1\n",
      " 1 0 1 1 1 0 0 0 0 1 1 1 1 1 1 1 1 1 1 1 1 1 1 1 1 1 1 1 0 0 1 1 1 0 0 1 1\n",
      " 1 1 0 1 1] Total wrong synapses: 0 Total wrong non-synapses: 66 Precision: 0.5900621118012422 Recall: 1.0 F1 0.7421875\n",
      "[0 1 1 1 1 1 1 1 1 1 1 1 1 1 1 1 1 1 1 1 1 1 1 1 1 1 1 1 1 0 1 1 1 1 1 1 1\n",
      " 1 1 1 1 0 1 1 1 1 1 1 1 1 1 1 1 1 1 1 0 0 1 1 1 1 1 1 0 1 1 1 1 1 1 1 0 1\n",
      " 1 1 0 1 1 1 1 1 1 1 1 1 1 1 0 1 1 1 1 1 1 0 1 0 0 0 0 1 0 1 0 0 1 0 0 0 0\n",
      " 1 0 0 1 1 0 0 1 0 1 1 0 1 1 0 1 1 1 1 1 0 0 0 0 0 0 0 0 0 0 1 1 1 1 0 1 1\n",
      " 1 0 1 1 0 0 0 0 0 1 1 1 1 1 1 1 1 0 1 0 1 1 1 1 1 0 0 1 0 0 1 1 1 0 0 1 1\n",
      " 1 1 0 1 1] Total wrong synapses: 9 Total wrong non-synapses: 50 Precision: 0.6323529411764706 Recall: 0.9052631578947369 F1 0.7445887445887445\n",
      "[0 1 1 1 0 0 0 1 1 1 1 1 0 1 1 1 1 1 1 1 1 1 1 1 1 1 1 1 1 0 0 0 1 1 1 1 1\n",
      " 1 1 1 1 0 1 1 1 1 1 1 1 1 1 1 1 1 1 1 0 0 1 1 1 1 1 0 0 1 1 1 1 1 1 1 0 1\n",
      " 1 0 0 0 0 0 0 1 1 1 1 1 1 1 0 1 1 1 0 0 1 0 1 0 0 0 0 1 0 1 0 0 0 0 0 0 0\n",
      " 0 0 0 1 1 0 0 1 0 1 1 0 0 0 0 1 0 0 0 1 0 0 0 0 0 0 0 0 0 0 1 1 1 1 0 1 1\n",
      " 1 0 0 1 0 0 0 0 0 1 1 1 1 1 0 1 0 0 0 0 1 1 0 1 1 0 0 1 0 0 0 1 0 0 0 0 0\n",
      " 0 1 0 1 0] Total wrong synapses: 23 Total wrong non-synapses: 32 Precision: 0.6923076923076923 Recall: 0.7578947368421053 F1 0.7236180904522613\n",
      "[0 0 1 1 0 0 0 1 1 0 1 1 0 0 1 1 1 1 1 1 1 1 1 0 1 1 1 1 1 0 0 0 1 1 1 1 1\n",
      " 1 1 1 1 0 0 1 1 1 0 1 1 1 1 1 1 0 1 1 0 0 1 1 1 0 1 0 0 1 1 0 0 1 1 0 0 0\n",
      " 1 0 0 0 0 0 0 1 1 1 0 0 1 0 0 1 1 1 0 0 1 0 1 0 0 0 0 0 0 1 0 0 0 0 0 0 0\n",
      " 0 0 0 0 0 0 0 1 0 0 0 0 0 0 0 0 0 0 0 1 0 0 0 0 0 0 0 0 0 0 1 1 0 1 0 1 0\n",
      " 0 0 0 1 0 0 0 0 0 1 1 0 1 0 0 1 0 0 0 0 0 1 0 0 0 0 0 0 0 0 0 0 0 0 0 0 0\n",
      " 0 1 0 1 0] Total wrong synapses: 38 Total wrong non-synapses: 16 Precision: 0.7808219178082192 Recall: 0.6 F1 0.6785714285714285\n",
      "[0 0 1 0 0 0 0 1 1 0 1 0 0 0 1 0 0 1 0 0 1 1 0 0 0 1 1 0 1 0 0 0 0 0 0 1 1\n",
      " 1 0 1 0 0 0 0 0 0 0 1 1 1 1 1 1 0 0 0 0 0 0 0 0 0 0 0 0 0 1 0 0 1 1 0 0 0\n",
      " 1 0 0 0 0 0 0 1 1 0 0 0 0 0 0 1 1 1 0 0 1 0 0 0 0 0 0 0 0 1 0 0 0 0 0 0 0\n",
      " 0 0 0 0 0 0 0 1 0 0 0 0 0 0 0 0 0 0 0 1 0 0 0 0 0 0 0 0 0 0 0 0 0 1 0 1 0\n",
      " 0 0 0 0 0 0 0 0 0 0 0 0 0 0 0 1 0 0 0 0 0 0 0 0 0 0 0 0 0 0 0 0 0 0 0 0 0\n",
      " 0 1 0 0 0] Total wrong synapses: 64 Total wrong non-synapses: 7 Precision: 0.8157894736842105 Recall: 0.3263157894736842 F1 0.4661654135338346\n",
      "[0 0 1 0 0 0 0 0 0 0 0 0 0 0 0 0 0 0 0 0 0 0 0 0 0 0 1 0 1 0 0 0 0 0 0 0 1\n",
      " 1 0 0 0 0 0 0 0 0 0 0 0 0 1 0 1 0 0 0 0 0 0 0 0 0 0 0 0 0 0 0 0 1 0 0 0 0\n",
      " 0 0 0 0 0 0 0 0 0 0 0 0 0 0 0 0 1 0 0 0 0 0 0 0 0 0 0 0 0 0 0 0 0 0 0 0 0\n",
      " 0 0 0 0 0 0 0 1 0 0 0 0 0 0 0 0 0 0 0 1 0 0 0 0 0 0 0 0 0 0 0 0 0 0 0 0 0\n",
      " 0 0 0 0 0 0 0 0 0 0 0 0 0 0 0 0 0 0 0 0 0 0 0 0 0 0 0 0 0 0 0 0 0 0 0 0 0\n",
      " 0 1 0 0 0] Total wrong synapses: 86 Total wrong non-synapses: 3 Precision: 0.75 Recall: 0.09473684210526316 F1 0.16822429906542058\n",
      "[0 0 1 0 0 0 0 0 0 0 0 0 0 0 0 0 0 0 0 0 0 0 0 0 0 0 0 0 0 0 0 0 0 0 0 0 0\n",
      " 0 0 0 0 0 0 0 0 0 0 0 0 0 0 0 0 0 0 0 0 0 0 0 0 0 0 0 0 0 0 0 0 0 0 0 0 0\n",
      " 0 0 0 0 0 0 0 0 0 0 0 0 0 0 0 0 1 0 0 0 0 0 0 0 0 0 0 0 0 0 0 0 0 0 0 0 0\n",
      " 0 0 0 0 0 0 0 0 0 0 0 0 0 0 0 0 0 0 0 0 0 0 0 0 0 0 0 0 0 0 0 0 0 0 0 0 0\n",
      " 0 0 0 0 0 0 0 0 0 0 0 0 0 0 0 0 0 0 0 0 0 0 0 0 0 0 0 0 0 0 0 0 0 0 0 0 0\n",
      " 0 0 0 0 0] Total wrong synapses: 93 Total wrong non-synapses: 0 Precision: 1.0 Recall: 0.021052631578947368 F1 0.041237113402061855\n"
     ]
    },
    {
     "data": {
      "image/png": "[encoded data removed]",
      "text/plain": [
       "<Figure size 432x288 with 1 Axes>"
      ]
     },
     "metadata": {},
     "output_type": "display_data"
    }
   ],
   "source": [
    "t3, p3, r3, f3 = lda(train3, labels3, test3, shp_3)\n",
    "stat_plot(t3, p3, r3, f3)"
   ]
  },
  {
   "cell_type": "code",
   "execution_count": 97,
   "metadata": {},
   "outputs": [
    {
     "name": "stdout",
     "output_type": "stream",
     "text": [
      "[1 1 1 1 1 1 1 1 1 1 1 1 1 1 1 1 1 1 1 1 1 1 1 1 1 1 1 1 1 1 1 1 1 1 1 1 1\n",
      " 1 1 1 1 1 1 1 1 1 1 1 1 1 1 1 1 1 1 1 1 1 1 1 1 1 1 1 1 1 1 1 1 1 1 1 1 1\n",
      " 1 1 1 1 1 1 1 1 1 1 1 1 1 1 1 1 1 1 1 1 1 1 1 1 1 1 1 1 1 1 1 1 1 1 1 1 1\n",
      " 1 1 1 1 1 1 1 1 1 1 1 1 1 1 1 1 1 1 1 1 1 1 1 1 1 1 1 1 1 1 1 1 1 1 1 1 1\n",
      " 1 1 1 1 1 1 1 1 1 1 1 1 1 1 1 1 1 1 1 1 1 1 1 1 1 1 1 1 1 1 1 1 1 1 1 1 1\n",
      " 1 1 1 1 1 1 1 1 1 1 1] Total wrong synapses: 0 Total wrong non-synapses: 98 Precision: 0.5 Recall: 1.0 F1 0.6666666666666666\n",
      "[1 1 1 1 1 1 1 1 1 1 1 1 1 1 1 1 1 1 1 1 1 1 1 1 1 1 1 1 1 1 1 1 1 1 1 1 1\n",
      " 1 1 1 1 1 1 1 1 1 1 1 1 1 1 1 1 1 1 1 1 1 1 1 1 1 1 1 1 1 0 1 1 1 1 1 1 1\n",
      " 1 1 1 1 1 1 1 1 1 1 1 1 1 1 1 1 1 1 1 1 1 1 1 1 1 1 1 1 1 1 1 0 0 1 1 1 1\n",
      " 0 1 1 1 1 1 1 1 1 1 1 0 1 1 1 0 1 1 0 1 1 0 1 0 1 1 0 1 0 1 1 1 0 1 0 1 1\n",
      " 1 1 1 1 1 1 1 1 1 1 1 1 1 1 1 1 0 1 1 0 1 1 1 1 1 0 1 1 1 1 1 1 0 1 1 1 0\n",
      " 1 0 0 0 1 1 1 0 0 1 1] Total wrong synapses: 1 Total wrong non-synapses: 76 Precision: 0.5606936416184971 Recall: 0.9897959183673469 F1 0.7158671586715867\n",
      "[1 1 1 1 1 1 1 1 1 1 1 1 1 1 1 1 1 1 1 1 1 1 1 1 1 1 1 1 1 1 1 1 1 1 1 1 1\n",
      " 1 1 1 0 1 1 1 1 1 1 1 1 1 1 1 1 1 1 1 1 1 1 1 1 1 1 1 1 1 0 1 1 0 1 1 1 1\n",
      " 1 1 1 1 1 1 1 1 1 1 1 1 1 1 1 1 1 1 1 1 1 1 1 0 1 1 1 1 0 1 1 0 0 1 1 1 1\n",
      " 0 1 1 1 1 1 1 0 1 1 1 0 1 1 1 0 0 1 0 0 1 0 1 0 1 0 0 1 0 1 0 1 0 1 0 1 1\n",
      " 1 1 1 1 1 1 1 0 1 1 1 1 0 1 1 1 0 0 0 0 1 1 1 1 1 0 1 0 0 1 1 1 0 1 0 1 0\n",
      " 1 0 0 0 1 1 1 0 0 1 0] Total wrong synapses: 4 Total wrong non-synapses: 62 Precision: 0.6025641025641025 Recall: 0.9591836734693877 F1 0.7401574803149606\n",
      "[0 1 1 1 1 1 1 1 1 1 1 1 1 1 1 1 1 1 1 1 1 1 1 1 1 1 1 1 1 1 1 0 1 1 1 1 1\n",
      " 1 1 1 0 0 1 1 1 1 1 1 1 1 1 1 1 1 1 1 1 1 1 1 1 1 1 1 1 1 0 1 1 0 1 0 1 1\n",
      " 1 1 1 1 1 0 1 1 1 1 1 1 1 1 1 1 1 1 1 1 1 1 1 0 1 1 1 1 0 1 1 0 0 1 1 1 1\n",
      " 0 1 1 1 1 0 1 0 1 1 1 0 1 1 1 0 0 1 0 0 1 0 1 0 0 0 0 1 0 1 0 1 0 1 0 1 1\n",
      " 1 1 1 1 1 1 0 0 1 0 1 1 0 1 1 1 0 0 0 0 0 0 0 1 1 0 0 0 0 1 1 0 0 0 0 1 0\n",
      " 1 0 0 0 1 1 1 0 0 0 0] Total wrong synapses: 9 Total wrong non-synapses: 51 Precision: 0.6357142857142857 Recall: 0.9081632653061225 F1 0.7478991596638656\n",
      "[0 1 1 1 1 1 1 0 1 1 1 1 1 1 1 1 1 1 1 1 1 1 1 1 1 1 1 1 1 1 1 0 1 1 1 1 1\n",
      " 1 1 1 0 0 1 1 1 1 1 0 0 1 1 1 1 1 1 1 0 1 1 1 1 1 1 1 0 1 0 0 0 0 0 0 1 1\n",
      " 1 1 1 1 0 0 1 1 1 1 0 1 1 1 1 1 1 1 1 1 1 1 1 0 1 1 1 1 0 1 1 0 0 1 1 1 1\n",
      " 0 1 0 1 0 0 1 0 1 1 1 0 1 1 0 0 0 0 0 0 0 0 0 0 0 0 0 1 0 1 0 1 0 0 0 1 1\n",
      " 1 1 0 0 1 1 0 0 1 0 1 1 0 1 1 1 0 0 0 0 0 0 0 1 1 0 0 0 0 0 0 0 0 0 0 1 0\n",
      " 0 0 0 0 1 1 0 0 0 0 0] Total wrong synapses: 19 Total wrong non-synapses: 38 Precision: 0.6752136752136753 Recall: 0.8061224489795918 F1 0.7348837209302327\n",
      "[0 1 1 1 1 1 1 0 1 1 1 1 0 1 1 1 1 1 1 1 0 1 1 1 0 1 0 1 1 1 1 0 1 1 1 1 1\n",
      " 1 0 0 0 0 1 1 1 1 1 0 0 1 1 1 1 1 0 1 0 0 1 1 0 1 1 1 0 1 0 0 0 0 0 0 1 0\n",
      " 1 1 1 1 0 0 1 1 1 1 0 1 1 1 1 1 1 1 1 1 1 1 1 0 0 1 1 1 0 1 0 0 0 1 1 1 1\n",
      " 0 1 0 1 0 0 1 0 1 1 0 0 1 1 0 0 0 0 0 0 0 0 0 0 0 0 0 1 0 0 0 1 0 0 0 1 1\n",
      " 0 1 0 0 0 1 0 0 1 0 1 1 0 0 1 1 0 0 0 0 0 0 0 1 0 0 0 0 0 0 0 0 0 0 0 0 0\n",
      " 0 0 0 0 1 0 0 0 0 0 0] Total wrong synapses: 29 Total wrong non-synapses: 28 Precision: 0.711340206185567 Recall: 0.7040816326530612 F1 0.7076923076923078\n",
      "[0 1 1 1 0 0 1 0 0 1 1 1 0 1 1 1 1 1 1 1 0 1 1 1 0 1 0 1 1 1 1 0 0 1 1 1 1\n",
      " 1 0 0 0 0 1 1 1 0 1 0 0 0 1 1 1 1 0 1 0 0 1 0 0 0 1 1 0 1 0 0 0 0 0 0 1 0\n",
      " 1 1 1 1 0 0 0 0 0 0 0 1 1 1 1 1 1 1 1 1 1 1 1 0 0 1 0 1 0 0 0 0 0 1 1 1 1\n",
      " 0 1 0 0 0 0 1 0 1 0 0 0 0 0 0 0 0 0 0 0 0 0 0 0 0 0 0 0 0 0 0 0 0 0 0 1 1\n",
      " 0 1 0 0 0 1 0 0 1 0 1 1 0 0 1 0 0 0 0 0 0 0 0 1 0 0 0 0 0 0 0 0 0 0 0 0 0\n",
      " 0 0 0 0 1 0 0 0 0 0 0] Total wrong synapses: 41 Total wrong non-synapses: 19 Precision: 0.75 Recall: 0.5816326530612245 F1 0.6551724137931033\n",
      "[0 1 1 1 0 0 1 0 0 1 1 1 0 1 1 1 1 1 0 0 0 0 1 1 0 1 0 0 0 1 0 0 0 1 1 1 1\n",
      " 1 0 0 0 0 1 0 1 0 0 0 0 0 1 0 0 1 0 1 0 0 0 0 0 0 0 1 0 1 0 0 0 0 0 0 0 0\n",
      " 1 1 1 1 0 0 0 0 0 0 0 1 1 1 0 1 1 0 0 1 1 0 1 0 0 0 0 0 0 0 0 0 0 1 1 0 1\n",
      " 0 1 0 0 0 0 0 0 1 0 0 0 0 0 0 0 0 0 0 0 0 0 0 0 0 0 0 0 0 0 0 0 0 0 0 1 1\n",
      " 0 1 0 0 0 0 0 0 1 0 0 0 0 0 1 0 0 0 0 0 0 0 0 0 0 0 0 0 0 0 0 0 0 0 0 0 0\n",
      " 0 0 0 0 1 0 0 0 0 0 0] Total wrong synapses: 58 Total wrong non-synapses: 11 Precision: 0.7843137254901961 Recall: 0.40816326530612246 F1 0.5369127516778525\n",
      "[0 0 1 1 0 0 1 0 0 1 0 0 0 1 1 1 1 1 0 0 0 0 1 0 0 1 0 0 0 1 0 0 0 0 1 1 1\n",
      " 0 0 0 0 0 1 0 1 0 0 0 0 0 1 0 0 1 0 0 0 0 0 0 0 0 0 1 0 0 0 0 0 0 0 0 0 0\n",
      " 0 0 1 1 0 0 0 0 0 0 0 1 0 1 0 1 0 0 0 1 0 0 0 0 0 0 0 0 0 0 0 0 0 1 1 0 0\n",
      " 0 0 0 0 0 0 0 0 0 0 0 0 0 0 0 0 0 0 0 0 0 0 0 0 0 0 0 0 0 0 0 0 0 0 0 0 0\n",
      " 0 1 0 0 0 0 0 0 1 0 0 0 0 0 1 0 0 0 0 0 0 0 0 0 0 0 0 0 0 0 0 0 0 0 0 0 0\n",
      " 0 0 0 0 0 0 0 0 0 0 0] Total wrong synapses: 72 Total wrong non-synapses: 5 Precision: 0.8387096774193549 Recall: 0.2653061224489796 F1 0.4031007751937985\n",
      "[0 0 0 0 0 0 1 0 0 1 0 0 0 0 1 0 0 0 0 0 0 0 0 0 0 0 0 0 0 0 0 0 0 0 0 0 0\n",
      " 0 0 0 0 0 1 0 1 0 0 0 0 0 0 0 0 0 0 0 0 0 0 0 0 0 0 0 0 0 0 0 0 0 0 0 0 0\n",
      " 0 0 0 0 0 0 0 0 0 0 0 0 0 0 0 0 0 0 0 0 0 0 0 0 0 0 0 0 0 0 0 0 0 1 0 0 0\n",
      " 0 0 0 0 0 0 0 0 0 0 0 0 0 0 0 0 0 0 0 0 0 0 0 0 0 0 0 0 0 0 0 0 0 0 0 0 0\n",
      " 0 0 0 0 0 0 0 0 0 0 0 0 0 0 0 0 0 0 0 0 0 0 0 0 0 0 0 0 0 0 0 0 0 0 0 0 0\n",
      " 0 0 0 0 0 0 0 0 0 0 0] Total wrong synapses: 93 Total wrong non-synapses: 1 Precision: 0.8333333333333334 Recall: 0.05102040816326531 F1 0.09615384615384616\n"
     ]
    },
    {
     "data": {
      "image/png": "[encoded data removed]",
      "text/plain": [
       "<Figure size 432x288 with 1 Axes>"
      ]
     },
     "metadata": {},
     "output_type": "display_data"
    }
   ],
   "source": [
    "t4, p4, r4, f4 = lda(train4,labels4,test4, shp_4)\n",
    "stat_plot(t4, p4, r4, f4)"
   ]
  },
  {
   "cell_type": "code",
   "execution_count": null,
   "metadata": {},
   "outputs": [],
   "source": []
  },
  {
   "cell_type": "code",
   "execution_count": null,
   "metadata": {},
   "outputs": [],
   "source": []
  },
  {
   "cell_type": "code",
   "execution_count": 22,
   "metadata": {},
   "outputs": [
    {
     "ename": "NameError",
     "evalue": "name 'train_data' is not defined",
     "output_type": "error",
     "traceback": [
      "\u001b[0;31m---------------------------------------------------------------------------\u001b[0m",
      "\u001b[0;31mNameError\u001b[0m                                 Traceback (most recent call last)",
      "\u001b[0;32m<ipython-input-22-bde752f17292>\u001b[0m in \u001b[0;36m<module>\u001b[0;34m()\u001b[0m\n\u001b[1;32m      1\u001b[0m \u001b[0;31m## Running it on timpeoint 1\u001b[0m\u001b[0;34m\u001b[0m\u001b[0;34m\u001b[0m\u001b[0m\n\u001b[1;32m      2\u001b[0m \u001b[0;34m\u001b[0m\u001b[0m\n\u001b[0;32m----> 3\u001b[0;31m \u001b[0mlda\u001b[0m \u001b[0;34m=\u001b[0m \u001b[0mLDA\u001b[0m\u001b[0;34m(\u001b[0m\u001b[0;34m)\u001b[0m\u001b[0;34m.\u001b[0m\u001b[0mfit\u001b[0m\u001b[0;34m(\u001b[0m\u001b[0mtrain_data\u001b[0m\u001b[0;34m,\u001b[0m \u001b[0mtrain_labels\u001b[0m\u001b[0;34m)\u001b[0m\u001b[0;34m\u001b[0m\u001b[0m\n\u001b[0m\u001b[1;32m      4\u001b[0m \u001b[0mprobs_positive_class\u001b[0m \u001b[0;34m=\u001b[0m \u001b[0mlda\u001b[0m\u001b[0;34m.\u001b[0m\u001b[0mpredict_proba\u001b[0m\u001b[0;34m(\u001b[0m\u001b[0mtest_data\u001b[0m\u001b[0;34m)\u001b[0m\u001b[0;34m[\u001b[0m\u001b[0;34m:\u001b[0m\u001b[0;34m,\u001b[0m\u001b[0;36m1\u001b[0m\u001b[0;34m]\u001b[0m\u001b[0;34m\u001b[0m\u001b[0m\n\u001b[1;32m      5\u001b[0m \u001b[0;34m\u001b[0m\u001b[0m\n",
      "\u001b[0;31mNameError\u001b[0m: name 'train_data' is not defined"
     ]
    }
   ],
   "source": [
    "## Running it on timpeoint 1\n",
    "\n",
    "lda = LDA().fit(train_data, train_labels)\n",
    "probs_positive_class = lda.predict_proba(test_data)[:,1]\n",
    "\n",
    "prediction = probs_positive_class > 0.\n",
    "prediction_int = prediction.astype(int)\n",
    "print(prediction_int)"
   ]
  },
  {
   "cell_type": "code",
   "execution_count": null,
   "metadata": {},
   "outputs": [],
   "source": [
    "clf = LDA()\n",
    "clf.fit(train_data, train_labels)\n",
    "#predict_proba(test_data)\n",
    "j = clf.predict(test_data)\n",
    "print(j)\n",
    "print(clf.predict_proba(test_data))\n",
    "print(clf.predict_proba(test_data)[:,1])\n"
   ]
  },
  {
   "cell_type": "code",
   "execution_count": null,
   "metadata": {},
   "outputs": [],
   "source": [
    "probs_positive_class.shape"
   ]
  },
  {
   "cell_type": "code",
   "execution_count": null,
   "metadata": {},
   "outputs": [],
   "source": [
    "sum(j[148:]) "
   ]
  },
  {
   "cell_type": "code",
   "execution_count": null,
   "metadata": {},
   "outputs": [],
   "source": []
  }
 ],
 "metadata": {
  "kernelspec": {
   "display_name": "Python [conda env:LIDS]",
   "language": "python",
   "name": "conda-env-LIDS-py"
  },
  "language_info": {
   "codemirror_mode": {
    "name": "ipython",
    "version": 3
   },
   "file_extension": ".py",
   "mimetype": "text/x-python",
   "name": "python",
   "nbconvert_exporter": "python",
   "pygments_lexer": "ipython3",
   "version": "3.6.5"
  }
 },
 "nbformat": 4,
 "nbformat_minor": 2
}
